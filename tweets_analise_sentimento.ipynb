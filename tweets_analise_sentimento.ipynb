{
 "cells": [
  {
   "cell_type": "code",
   "execution_count": 22,
   "metadata": {},
   "outputs": [],
   "source": [
    "import joblib\n",
    "import pandas as pd\n",
    "import json\n",
    "import tweepy as tw\n",
    "import configparser\n",
    "import numpy as np\n",
    "import re\n",
    "import nltk\n",
    "\n",
    "from wordcloud import WordCloud, STOPWORDS\n",
    "import matplotlib.pyplot as plt\n",
    "\n",
    "#Conexão com o MongoDb\n",
    "from pymongo import MongoClient"
   ]
  },
  {
   "cell_type": "markdown",
   "metadata": {},
   "source": [
    "## Importando modelo pkl treinado"
   ]
  },
  {
   "cell_type": "code",
   "execution_count": 2,
   "metadata": {},
   "outputs": [],
   "source": [
    "model = joblib.load('model.pkl')"
   ]
  },
  {
   "cell_type": "code",
   "execution_count": 4,
   "metadata": {},
   "outputs": [
    {
     "data": {
      "text/plain": [
       "[('counts', CountVectorizer()), ('classifier', SVC(kernel='linear'))]"
      ]
     },
     "execution_count": 4,
     "metadata": {},
     "output_type": "execute_result"
    }
   ],
   "source": [
    "model.steps"
   ]
  },
  {
   "cell_type": "markdown",
   "metadata": {},
   "source": [
    "## Conectando ao MongoDB e importando dados #Eleicoes2022"
   ]
  },
  {
   "cell_type": "code",
   "execution_count": 5,
   "metadata": {},
   "outputs": [
    {
     "data": {
      "text/plain": [
       "['config.ini']"
      ]
     },
     "execution_count": 5,
     "metadata": {},
     "output_type": "execute_result"
    }
   ],
   "source": [
    "config = configparser.ConfigParser()\n",
    "config.read(\"config.ini\")"
   ]
  },
  {
   "cell_type": "code",
   "execution_count": 6,
   "metadata": {},
   "outputs": [],
   "source": [
    "#Buscando chave de acesso \n",
    "mongo = config[\"mongodb\"][\"mongo\"]"
   ]
  },
  {
   "cell_type": "code",
   "execution_count": 7,
   "metadata": {},
   "outputs": [],
   "source": [
    "#conectando ao mongoDB\n",
    "client_db = MongoClient(mongo)"
   ]
  },
  {
   "cell_type": "code",
   "execution_count": 8,
   "metadata": {},
   "outputs": [],
   "source": [
    "#Conectando ao banco de dados eleicoes2022\n",
    "db = client_db.get_database(\"eleicoes2022_db\")"
   ]
  },
  {
   "cell_type": "code",
   "execution_count": 9,
   "metadata": {},
   "outputs": [],
   "source": [
    "#CONECTANDO AO COLLECTION NAME TWEETS\n",
    "collection_tweets = db.tweets_"
   ]
  },
  {
   "cell_type": "code",
   "execution_count": 15,
   "metadata": {},
   "outputs": [],
   "source": [
    "df = pd.DataFrame(list(collection_tweets.find()))"
   ]
  },
  {
   "cell_type": "code",
   "execution_count": 16,
   "metadata": {},
   "outputs": [
    {
     "data": {
      "text/html": [
       "<div>\n",
       "<style scoped>\n",
       "    .dataframe tbody tr th:only-of-type {\n",
       "        vertical-align: middle;\n",
       "    }\n",
       "\n",
       "    .dataframe tbody tr th {\n",
       "        vertical-align: top;\n",
       "    }\n",
       "\n",
       "    .dataframe thead th {\n",
       "        text-align: right;\n",
       "    }\n",
       "</style>\n",
       "<table border=\"1\" class=\"dataframe\">\n",
       "  <thead>\n",
       "    <tr style=\"text-align: right;\">\n",
       "      <th></th>\n",
       "      <th>_id</th>\n",
       "      <th>created_at</th>\n",
       "      <th>text</th>\n",
       "      <th>truncated</th>\n",
       "      <th>metadata</th>\n",
       "      <th>source</th>\n",
       "      <th>retweet_count</th>\n",
       "      <th>retweeted</th>\n",
       "      <th>lang</th>\n",
       "    </tr>\n",
       "  </thead>\n",
       "  <tbody>\n",
       "    <tr>\n",
       "      <th>0</th>\n",
       "      <td>637786f0f88d752f97e1d28c</td>\n",
       "      <td>Thu Nov 17 14:42:43 +0000 2022</td>\n",
       "      <td>In Brazil And U.S., Elections As Stress Tests For Democracy#politics #brazil #UnitedStates #democracy #eleições…</td>\n",
       "      <td>True</td>\n",
       "      <td>{'iso_language_code': 'en', 'result_type': 'recent'}</td>\n",
       "      <td>&lt;a href=\"https://mobile.twitter.com\" rel=\"nofollow\"&gt;Twitter Web App&lt;/a&gt;</td>\n",
       "      <td>0</td>\n",
       "      <td>False</td>\n",
       "      <td>en</td>\n",
       "    </tr>\n",
       "    <tr>\n",
       "      <th>1</th>\n",
       "      <td>637786f0f88d752f97e1d28d</td>\n",
       "      <td>Thu Nov 17 14:42:42 +0000 2022</td>\n",
       "      <td>Continuamos na luta! #brazilwasstollen #Eleicoes2022</td>\n",
       "      <td>False</td>\n",
       "      <td>{'iso_language_code': 'pt', 'result_type': 'recent'}</td>\n",
       "      <td>&lt;a href=\"http://twitter.com/download/android\" rel=\"nofollow\"&gt;Twitter for Android&lt;/a&gt;</td>\n",
       "      <td>0</td>\n",
       "      <td>False</td>\n",
       "      <td>pt</td>\n",
       "    </tr>\n",
       "    <tr>\n",
       "      <th>2</th>\n",
       "      <td>637786f0f88d752f97e1d28e</td>\n",
       "      <td>Thu Nov 17 14:36:46 +0000 2022</td>\n",
       "      <td>Veja a lista de 43 pessoas físicas e jurídicas suspeitas de financiar atos antidemocráticos (Piada pronta):.09 -…</td>\n",
       "      <td>True</td>\n",
       "      <td>{'iso_language_code': 'pt', 'result_type': 'recent'}</td>\n",
       "      <td>&lt;a href=\"http://twitter.com/download/android\" rel=\"nofollow\"&gt;Twitter for Android&lt;/a&gt;</td>\n",
       "      <td>0</td>\n",
       "      <td>False</td>\n",
       "      <td>pt</td>\n",
       "    </tr>\n",
       "    <tr>\n",
       "      <th>3</th>\n",
       "      <td>637786f0f88d752f97e1d28f</td>\n",
       "      <td>Thu Nov 17 14:36:27 +0000 2022</td>\n",
       "      <td>É a política no Brasil tá como? #Politica #Brasil #Eleicoes2022 @iRodolffo te explica melhor 😂😂😂🧨🔫🖋️🔪💸🚜🥊🏹🍕🥩🍳🐀🐄</td>\n",
       "      <td>False</td>\n",
       "      <td>{'iso_language_code': 'pt', 'result_type': 'recent'}</td>\n",
       "      <td>&lt;a href=\"http://twitter.com/download/iphone\" rel=\"nofollow\"&gt;Twitter for iPhone&lt;/a&gt;</td>\n",
       "      <td>0</td>\n",
       "      <td>False</td>\n",
       "      <td>pt</td>\n",
       "    </tr>\n",
       "    <tr>\n",
       "      <th>4</th>\n",
       "      <td>637786f0f88d752f97e1d290</td>\n",
       "      <td>Thu Nov 17 14:25:43 +0000 2022</td>\n",
       "      <td>@Seondetails #PERDEUMANÉ#LulaJá #LulaPresidente #Lula2022 #Lula#Eleições2022 #Eleiçoes22 #Brasil#FORABOLSONARO…</td>\n",
       "      <td>True</td>\n",
       "      <td>{'iso_language_code': 'und', 'result_type': 'recent'}</td>\n",
       "      <td>&lt;a href=\"https://mobile.twitter.com\" rel=\"nofollow\"&gt;Twitter Web App&lt;/a&gt;</td>\n",
       "      <td>0</td>\n",
       "      <td>False</td>\n",
       "      <td>und</td>\n",
       "    </tr>\n",
       "  </tbody>\n",
       "</table>\n",
       "</div>"
      ],
      "text/plain": [
       "                        _id                      created_at  \\\n",
       "0  637786f0f88d752f97e1d28c  Thu Nov 17 14:42:43 +0000 2022   \n",
       "1  637786f0f88d752f97e1d28d  Thu Nov 17 14:42:42 +0000 2022   \n",
       "2  637786f0f88d752f97e1d28e  Thu Nov 17 14:36:46 +0000 2022   \n",
       "3  637786f0f88d752f97e1d28f  Thu Nov 17 14:36:27 +0000 2022   \n",
       "4  637786f0f88d752f97e1d290  Thu Nov 17 14:25:43 +0000 2022   \n",
       "\n",
       "                                                                                                                 text  \\\n",
       "0   In Brazil And U.S., Elections As Stress Tests For Democracy#politics #brazil #UnitedStates #democracy #eleições…    \n",
       "1                                                               Continuamos na luta! #brazilwasstollen #Eleicoes2022    \n",
       "2  Veja a lista de 43 pessoas físicas e jurídicas suspeitas de financiar atos antidemocráticos (Piada pronta):.09 -…    \n",
       "3     É a política no Brasil tá como? #Politica #Brasil #Eleicoes2022 @iRodolffo te explica melhor 😂😂😂🧨🔫🖋️🔪💸🚜🥊🏹🍕🥩🍳🐀🐄    \n",
       "4    @Seondetails #PERDEUMANÉ#LulaJá #LulaPresidente #Lula2022 #Lula#Eleições2022 #Eleiçoes22 #Brasil#FORABOLSONARO…    \n",
       "\n",
       "   truncated                                               metadata  \\\n",
       "0       True   {'iso_language_code': 'en', 'result_type': 'recent'}   \n",
       "1      False   {'iso_language_code': 'pt', 'result_type': 'recent'}   \n",
       "2       True   {'iso_language_code': 'pt', 'result_type': 'recent'}   \n",
       "3      False   {'iso_language_code': 'pt', 'result_type': 'recent'}   \n",
       "4       True  {'iso_language_code': 'und', 'result_type': 'recent'}   \n",
       "\n",
       "                                                                                 source  \\\n",
       "0               <a href=\"https://mobile.twitter.com\" rel=\"nofollow\">Twitter Web App</a>   \n",
       "1  <a href=\"http://twitter.com/download/android\" rel=\"nofollow\">Twitter for Android</a>   \n",
       "2  <a href=\"http://twitter.com/download/android\" rel=\"nofollow\">Twitter for Android</a>   \n",
       "3    <a href=\"http://twitter.com/download/iphone\" rel=\"nofollow\">Twitter for iPhone</a>   \n",
       "4               <a href=\"https://mobile.twitter.com\" rel=\"nofollow\">Twitter Web App</a>   \n",
       "\n",
       "   retweet_count  retweeted lang  \n",
       "0              0      False   en  \n",
       "1              0      False   pt  \n",
       "2              0      False   pt  \n",
       "3              0      False   pt  \n",
       "4              0      False  und  "
      ]
     },
     "execution_count": 16,
     "metadata": {},
     "output_type": "execute_result"
    }
   ],
   "source": [
    "df.head()"
   ]
  },
  {
   "cell_type": "markdown",
   "metadata": {},
   "source": [
    "temos o intuido te testar nosso modelo, então não iremos nos preocupar no tratamento e criação de novas features"
   ]
  },
  {
   "cell_type": "code",
   "execution_count": 29,
   "metadata": {},
   "outputs": [
    {
     "data": {
      "text/plain": [
       "0          In Brazil And U.S., Elections As Stress Tests For Democracy#politics #brazil #UnitedStates #democracy #eleições… \n",
       "1                                                                      Continuamos na luta! #brazilwasstollen #Eleicoes2022 \n",
       "2         Veja a lista de 43 pessoas físicas e jurídicas suspeitas de financiar atos antidemocráticos (Piada pronta):.09 -… \n",
       "3            É a política no Brasil tá como? #Politica #Brasil #Eleicoes2022 @iRodolffo te explica melhor 😂😂😂🧨🔫🖋️🔪💸🚜🥊🏹🍕🥩🍳🐀🐄 \n",
       "4           @Seondetails #PERDEUMANÉ#LulaJá #LulaPresidente #Lula2022 #Lula#Eleições2022 #Eleiçoes22 #Brasil#FORABOLSONARO… \n",
       "                                                               ...                                                          \n",
       "799    O Partido PL descobriu muita coisa para pedir a anulação das eleições com 8 Senadores, os 99 Deputados Federais, 12… \n",
       "800      @SenadoFederal@camaradeputados @ArthurLira_@augustosnunes @EduGiraoOficial @folha_politica @EstadaoPolitica #BDRJ… \n",
       "801          Exclusivo: PL vai pedir anulação das eleições de 2022#Brasil #brazil #Bolsonaro #lula #Eleicoes2022 #eleicoes… \n",
       "802                @LulaOficial carona?Olha o mensalao ai gente.@SenadoFederal@camaradeputados @ArthurLira_@augustosnunes … \n",
       "803                   @randolfeap O que não falta a @lulaOficial, é título,né?@SenadoFederal@camaradeputados @ArthurLira_ … \n",
       "Name: text, Length: 804, dtype: object"
      ]
     },
     "execution_count": 29,
     "metadata": {},
     "output_type": "execute_result"
    }
   ],
   "source": [
    "pd.options.display.max_colwidth = 130\n",
    "df[\"text\"]"
   ]
  },
  {
   "cell_type": "markdown",
   "metadata": {},
   "source": [
    "definindo processo de tratamento dos tweets"
   ]
  },
  {
   "cell_type": "code",
   "execution_count": 23,
   "metadata": {},
   "outputs": [],
   "source": [
    "def Preprocessing(instancia):\n",
    "    stemmer = nltk.stem.RSLPStemmer()\n",
    "    instancia = re.sub(r\"http\\S+\", \"\", instancia).lower().replace('.','').replace(';','').replace('-','').replace(':','').replace(')','')\n",
    "    stopwords = set(nltk.corpus.stopwords.words('portuguese'))\n",
    "    palavras = [stemmer.stem(i) for i in instancia.split() if not i in stopwords]\n",
    "    return (\" \".join(palavras))"
   ]
  },
  {
   "cell_type": "code",
   "execution_count": 31,
   "metadata": {},
   "outputs": [],
   "source": [
    "tweets = df[\"text\"]"
   ]
  },
  {
   "cell_type": "code",
   "execution_count": 32,
   "metadata": {},
   "outputs": [],
   "source": [
    "#processando os tweets\n",
    "tweets_processados = [Preprocessing(i) for i in tweets]"
   ]
  },
  {
   "cell_type": "code",
   "execution_count": 26,
   "metadata": {},
   "outputs": [
    {
     "data": {
      "text/plain": [
       "['in brazil and us, electiom str test democracy#politic #brazil #unitedstat #democracy #eleições…',\n",
       " 'continu luta! #brazilwasstollen #eleicoes2022',\n",
       " 'vej list 43 pess físic juríd suspeit financ ato antidemocr (pi pronta09 …',\n",
       " 'polít brasil tá como? #pol #brasil #eleicoes2022 @irodolff explic melhor 😂😂😂🧨🔫🖋️🔪💸🚜🥊🏹🍕🥩🍳🐀🐄',\n",
       " '@seondetail #perdeumané#lulaj #lulapresid #lula2022 #lula#eleições2022 #eleiçoes22 #brasil#forabolsonaro…',\n",
       " '🤖 cot minist justiça, din defend revog decret bolson sobr armas#lul #eleicoes2022',\n",
       " '2022 rodrig garc (@rodrigogarcia_ #tarcis freit (@tarcisiogdf reún hoj 15h (ℹ…',\n",
       " '#eleiçõessbrasil2022 #eleições2022 #brasilnasru #brasilfoiroub #brasilacimadetudodeusacimadetod #',\n",
       " 'segund dados, 26% brasil diz peg ranç camiset amarel #brasil #eleicoes2022…',\n",
       " 'pronunc contr manifest golp esp apo govern #lul 30, qual…',\n",
       " 'pé barr faç digo, faç canalhas@generalmo #eleicoes2022 #eleicoesnom #foraboz',\n",
       " 'liberdad acim tudo?is pi mund result equaç milicoxpastorxlunático@stf…',\n",
       " 'ver esquec prót penianas#eleicoes2022 #eleicoesnom #foraboz',\n",
       " 'vão recl qat brasil perd copa?#eleicoes2022 #eleicoesnom #foraboz',\n",
       " 'limpeza#eleicoes2022 #eleicoesnom #foraboz',\n",
       " 'roletrando#eleicoes2022 #eleicoesnom #foraboz',\n",
       " 'empreend informal#eleicoes2022 #eleicoesnom #foraboz',\n",
       " '🏆 vitór pont pont cobert pov 2022, apresent dad port tiktok, resultado…',\n",
       " 'coil caras#eleicoes2022 #eleicoesnom #foraboz',\n",
       " '“o mercado” nunc probl ca grand far lima#eleicoes2022 #eleicoesnom #foraboz',\n",
       " 'govern dar cert #eleiçoes2022 #lulavergonhanac',\n",
       " 'velh hábit difícel mud lá vão 32 ano #eleicoes2022 #eleicoesnom #foraboz',\n",
       " \"🤖 'ninguém pas fom mercado' financeiro, diz presid pt após reaç pec transição#lula…\",\n",
       " '@rosianemariaar1 lembr milic hug chav vár vest canárioszum independ da…',\n",
       " 'fraud #eleiçoes2022? #tsevergonhanac dizer? perd mané, amola? mesmo…',\n",
       " 'esp #eleições2022 vam reconstru brazil en mei dor #fom seleç ganh perdendo…',\n",
       " '#brasilnasru #brasilianspring #eleiçoes2022 #eleicoeslimp',\n",
       " '#eleicoes2022 #brazilianelectiom #eleccionesbrasil #brazilianspring #pr #new #freespeech #freedom #cop27 …',\n",
       " 'obr \"apag fog gasolina\"#eleicoes2022 #brazilianelectiom #eleccionesbrasil #brazilianspring #press…',\n",
       " '🤖 debat pec, grup econôm tr viv malest rec baixas#lul #eleicoes2022',\n",
       " 'gost apag incênd gasolina#eleicoes2022 #brazilianelectiom #eleccionesbrasil #brazilianspring…',\n",
       " '🤖 macron apo propost lul realiz cop amazônia#lul #eleições2022',\n",
       " 'dev cumprir!consult conciência#eleicoes2022 #brazilianelectiom #eleccionesbrasil…',\n",
       " 'ministr livr abert olh pra cap escond asqueroso#eleicoes2022…',\n",
       " 'meritocracia#eleicoes2022 #eleicoesnom #foraboz',\n",
       " '🤖 tcu propõ tr cort incen tribut ger r$ 200 bilhã extras#lul #eleicoes2022',\n",
       " 'hipocril brasil tod dia (desd 22/04/1500 ca grand senz boz orig pobre…',\n",
       " '#eleicoes2022 #eleicoesnom #foraboz',\n",
       " '\"nã respom soc respom fiscal\" pérs arida, econom faz part equip tr…',\n",
       " 'embaix fern igrej chef cerimon solen pos vej nomeados…',\n",
       " 'milic send milic “na ditad hav corrupção” tá çertu#eleicoes2022 #eleicoesnom #foraboz',\n",
       " '\"qu qu criticado, qu questionado, fiqu casa\"@alexandr per 🤔#eleicoes2022',\n",
       " '@dorakr disfarç 2 adept rit formal #tr #eleicoes2022 @geraldoalckmin',\n",
       " 'nov atualizações#eleicoes2022 #jairbolson',\n",
       " '🤖 lul fal event organiz civil brasil cop 27#lul #eleicoes2022',\n",
       " 'roub vot 🇧🇷#eleicoes2022 #bolsonaro2022 #bolson #forcasarm #t #stf #alexandredemoraes…',\n",
       " '@o_antagon faz l #brasil #eleicoes2022 #manifest #sosff',\n",
       " 'signif el asunt del mp en #eleicoes2022 convirtió en una hist caín y abelmp leyó caín en ja…',\n",
       " '@miriamleit @lulaofic enquant companhe trabalha…#cop27 #eleicoes2022 #intervencaofederalja…',\n",
       " '🤖 franç apo propost lul cop30 amazônia#lul #eleicoes2022',\n",
       " 'gent sab másc iam cair, mto rápido! @jairbolson segur brasil trilhos, meu…',\n",
       " 'negóc aqu faz \"l\" sim desfaz \"l\"#bolson #eleicoes2022',\n",
       " '#bolson #ci #eleições2022c cient racion mund cad vez irr…',\n",
       " 'ach jov pan, melhor saind sai#constantin #jovenpannew #censur #eleicoes2022',\n",
       " '@meanwhileinau now the election heist labour $105 to win coalition $9 and $500 anyon el 👀 #danmustgo…',\n",
       " 'perdeu, mané, amolamanifest antidemocr manipul dir samuel johnson patriotismo…',\n",
       " '#lul #lulapresidente2022 #eleicoes2022bolson dis franc or brasil , promet sa…',\n",
       " 'fic magoadinh manifest pro bolsonaro, seg agenda! #eleicoes2022',\n",
       " 'crim elei 154 mil inserç menos bolson #eleições2022',\n",
       " 'sag continu sér pem dói#eleiçoes2022 #luladrãodevoltanaprisão#bolsonaroreeleito2022',\n",
       " 'saib soluç continu sag sér \"p dói\"#eleiçoes2022…',\n",
       " 'rest solução, continu sag sér \"p dói\"#eleiçoes2022…',\n",
       " 'saib brig vão toc fog brasil soluç continu sag para…',\n",
       " 'verdades, verd sag sér \"p dói\"#eleiçoes2022 #luladrãodevoltanaprisão…',\n",
       " '#cop27@jairbolson jamal teria, moment algum histór recente, futura, grand estad co…',\n",
       " '👨\\u200d👩\\u200d👦\\u200d👦at golp próbolson lid políticos, policiais, sindic ruralistas, mostr inv…',\n",
       " '#eleições2022 #fypシ #fyp #vir #fy #notic',\n",
       " '@tsejusbr #eleicoes2022 #povonasru',\n",
       " '#paulofigueired #jornalnac #eleicoes2022 #ministrodadef #ministr #lul #bolson #jairbolsonaro…',\n",
       " '\"perdeu, mané\" fra clas costum agir band tip atitud reflet ministr…',\n",
       " '#eleicoes2022 #new #notic',\n",
       " 'oi galera! conhec dit pag just pecadores? by dom quijote#vamosjuntospelobrasil…',\n",
       " 'car dobr apost cheg ped pril ministr def 🤣🤣🤣🤣 dobr aposta, ach vam comemor…',\n",
       " 'sen dorm berç esplêndido🤡🇧🇷#censur #eleicoes2022 #vemproqg #sosff',\n",
       " '🤖 deputado, polít empr identific envolv bloq golpistas#lula…',\n",
       " '#eleicoes2022 #exercitobrasil #ff #brasilnasru',\n",
       " 'deolan venc prov fazend c livr roça, fic andré, bia ruiv pra vai torcida?…',\n",
       " '#bolsonaropresid #bolsonaro2022 #bolson #eleições2022 #eleicoes2022 #bolsonaro22 #bolsonaromito…',\n",
       " '🤖 vej princip pont text pec tr apresent govern eleit #lul #eleicoes2022',\n",
       " '#fat #bolson #políc #democrac #direit #eleiçoes2022',\n",
       " 'expresid eua precil ganh prév part republic concorr cargov metrópoles…',\n",
       " 'lo angel just elected it first church of scientology may karen ba pral xenu! 👽 🌋 👽 #scientology…',\n",
       " 'menos vam ver soray massacr padr boz vez 😆 #terceiroturn #eleicoes2022…',\n",
       " 'sobr , silênc dand palc pra mostr pi pem ca tá caind em…',\n",
       " '\"agora, verd fest pess vinh parabeniz diz muit saudad brasil…',\n",
       " '@joicehasselmann sigl diz tud pl partido, ladrão#eleicoes2022 #lulapresidente1️⃣3️⃣',\n",
       " 'pov sent che falha, bem, sent prim vez, che just sos……',\n",
       " 'otar kkkkk #forabolson #forabolsonaroesuaquadrilh #bolsonarismomat #eleicoes2022 #eleições2022',\n",
       " '𖣔 concordo! 🎯🎯🎯⠀ deix opin abaix coment ⬇️💬✍🏻⠀◆⠀◆⠀◆⠀link post instagram…',\n",
       " 'vot nul 2o turn hipoté (e insano! 3o turno, vot barb forç @lulaofic bolsonari…',\n",
       " 'chora!!!!!! #forabolson #forabolsonaroesuaquadrilh #forabolsonaroeseubandodemaluc #bolsonarismomata…',\n",
       " 'olh gente, olh presid @jairbolson ach @tsejusbr dev sab dis @stf_ofic né…',\n",
       " 'alexandr moraes_stf bloqu empr financ crimes/golpes, br afora(seg list apresentada…',\n",
       " '🔴 confirm luiz inác lul silv receb pi0r notíc dur cop27 egit 🇪🇬 #lul #bolsonaro…',\n",
       " '🔴🇧🇷#brésil cel fait deux semain le président @jairbolson est reclu dam sa résidenc officiell brasi…',\n",
       " 'sei explic receb grup ach estranh #brasil #eleicoes2022 #queporraees',\n",
       " 'equip tr ! 50 pess total pag dinh povo! farr continua! faz n…',\n",
       " 'passiv paral passiva,pas caralh vê não? vão tod pra put par as…',\n",
       " 'saiu últ víd análil dad eleições! vem ver dad boletim urna, probl \"análise…',\n",
       " 'pgr tom dep carl zambell (plsp ca sac arm persegu hom paul f…',\n",
       " '“perd mané” respost sociedad passiva, desrespeit pod públic vár ano merece,…',\n",
       " '#boz deix govern faz bic lanchonet #curitib lanchonet fic beir estrada…',\n",
       " 'pos garant possu conhec áre pos sug aind saib mai…',\n",
       " 'alguém pod explic isso?#fraud #eleicoes2022 #brazilwasstol #nord #lulavergonhanac',\n",
       " 'direit elei vitória!!!julg tribun region elei rio grand sul aprov contas…',\n",
       " 'nest manhã bolson dirig caminh 🇧🇷👏#short #eleições2022 #bo',\n",
       " 'parac sacanagem, rum pro bem aisó rest solução, continu sag uma…',\n",
       " '@alexandr @tsejusbr @stf_ofic corr aqu minuto#el #eleicoes2022',\n",
       " 'detetiv abin vig cemitér #eleicoes2022',\n",
       " '@giraldirenat bolsonaro, mourão,deix faix cad chav portã dilma, autorizo!…',\n",
       " '@profpaulamaril bolsonaro, mourão,deix faix cad chav portã dilma, autorizo!…',\n",
       " '@fernandoholiday bolsonaro, mourão,deix faix cad chav portã dilma, autorizo!…',\n",
       " '@alanlopesr bolsonaro, mourão,deix faix cad chav portã dilma, autorizo!…',\n",
       " '@cafecomferr bolsonaro, mourão,deix faix cad chav portã dilma, autorizo!…',\n",
       " '@kimpaim bolsonaro, mourão,deix faix cad chav portã dilma, autorizo!…',\n",
       " 'me eleg admit vot além#eleicoes2022',\n",
       " '@rconstantin bolsonaro, mourão,deix faix cad chav portã dilma, autorizo!…',\n",
       " '🔵 pastor ariovald fal sobr fraud igrej bolson 2022 | daqu pra frenteacompanhe!…',\n",
       " '@taoquei1 bolsonaro, mourão,deix faix cad chav portã dilma, autorizo!…',\n",
       " 'pergunt ofend @jairbolson sid reeleito, hav question #urnaseletronicas, vigíli…',\n",
       " '#memoriahis #eleicoes2022 #brazilwasstol #lulanacop #lulaladr',\n",
       " 'avil ded frios, apen assin list presenç bem receb mes…',\n",
       " '#eleicoes2022 #lulapresidente2023 #nemtodoheroiusacap',\n",
       " 'autopreserv vou cal sobr manifest brasil #manifestac #eleicoes2022 #chega…',\n",
       " '2014, 2018, 2022 #eleições2022',\n",
       " 'pq nenhum filh jair bolson sol chuva, madrug vid dorm barra…',\n",
       " 'políc civil, ag brig milit rs faz relatór identific líd protest anti…',\n",
       " 'aprend pouq constituição#eleicoes2022 #lulapresidente2023 #nemtodoheroiusacap',\n",
       " 'pergunt val milhãop atual govern apagag tod arqu comput oficiais?!…',\n",
       " '#pol #eleicoes2022 #lul #bolson #direit #esquerd #corrupç #stfvergonhamund #globolix #impun',\n",
       " 'assim outr bolsonaristas, ethienn gay divulg notíc fal sobr proces eleitoralby…',\n",
       " 'segund eles, mai ele conf urnasv ver?\"red mund just elei …',\n",
       " '#trans #eleicoes2022 #equipedetrans',\n",
       " 'pess próx presid descrev est “apático” “depressivo” bolson pouqu com…',\n",
       " 'the erick rabell new is out!',\n",
       " \"🤖 núm minist 'muit próximo' núm grup técn transição, diz alckmin#lula…\",\n",
       " '@vininmirand @carolmorand fest guet perfeit pas pan falt sem crít terrível…',\n",
       " 'tô dentro🔑#iren #eleicoes2022 #bolson #lul #vendasemaparec #empreg #vaga…',\n",
       " 'ad @rodrigobocard \"e tant gent equip transição?\" exat @ptbrasil send pt reunião…',\n",
       " '#noarnacbn @carolmorand deu viaj legal, bem utóp divertida, #vivavozcbn\"n mund norm bolson i…',\n",
       " 'pqp…#eleicoes2022 #bolson #lulaladr',\n",
       " 'il partit liberal di #bolson chied uffic che veng invalidat le elezion del 2022 per le grav fal…',\n",
       " '+ favor fan lulismopet ataqu @cbnofic @veramagalh @rodrigobocard imprensa,…',\n",
       " '\"se vai faz gov nov repet velh víc capit compradio\" @veramagalh #noarnacbn ass sobre…',\n",
       " '🤖 brasil impr alemã (16/11#lul #eleições2022',\n",
       " 'vai vend brasildocu elab audit institut vot legal diz possível valid res…',\n",
       " 'francamente!porqu será, heim???p acasa?qu pas cim dezembr ???@exercitooficial@tuckercarlson…',\n",
       " 'equip tr receb relatór 29 áre risco, inclusiv educ saúde! govern bolson f…',\n",
       " 'soment dúv fr4ud3 realiz empr terce funcion @tsejusbr?…',\n",
       " 'oh car capirot ach acim constituição? #censur #sosff #eleicoes2022 #lulaladr',\n",
       " 'thil is our current situation 🤦🐰🕳️ #fetterman #bidenworstpresidentev #eleicoes2022 #midterms2022 #mag',\n",
       " '#riobravoinvest #saudepubl #saudepublicanobrasil #su #saud #saudecol #direitoasaud #eleições2022 …',\n",
       " '@nytim #brazil brazil of all ages, belief and soc conditiom are in the street peacefully, against censo…',\n",
       " 'fra dia cov escond quil @planalt @jairbolson vist carap #eleicoes2022',\n",
       " 'cad dia pas divirt hahahahahahah#eleicoes2022',\n",
       " '📢lul ladrão, lug pril 🔐👹#fraud #eleicoes2022 #naomerepresent',\n",
       " 'av brasil! #eleicoes2022 #brasil #brasilnasru #acordabrasil',\n",
       " '@msbraun7 ach zoação, bolson doid car viaj pendur caminh outr fic grit…',\n",
       " \"vár bolsonaristas, rodrig constantino, têm compartilh matér d'o antagon diz pl ped a…\",\n",
       " 'prof #usp rebat inform fal respeit #urn eletrôn',\n",
       " 'igual antig psl rach 2018 preç assoc ign car mas…',\n",
       " '\"v pun tod rigor respom qualqu ativ ilegal, garimpo, extr madeira”, afirmo…',\n",
       " '#lul #presidentelul #brasil #eleicoes2022 #bolson #bpmoney',\n",
       " '🗣trabalh cerc 24 minut dia, núcl próx bolson conclu mandato…',\n",
       " 'sit fórum econôm mund encontr líd trabalh nom govern rio grand sul, edua…',\n",
       " 'segund gen reserva, pas adereç “é presid sai presid entra”…',\n",
       " 'mov produt rural lul cont 500 adesistas, afirm articuladorby @diariodegoias…',\n",
       " 'ent alguém resolv judic apur urn anul pleit , ste vai jug caso?…',\n",
       " 'lul coloc paul câm equip tr castig apo nenhum candidat ao…',\n",
       " 'após eleições, mai preocup investidores, segund xp#econom #eleições2022 #fundosimobil',\n",
       " 'caron jat ampl list question sobr relaç lul empr #polí fonte…',\n",
       " '@spraguepond @1boysfan @lookback69 #brazil #brazilwasstolen #eleicoes2022 brazil of all ages, belief and socia…',\n",
       " 'mis observ elei ➡️ red mund just elei @rmjeofic destac integr trabal…',\n",
       " '@geraldoalckmin @lulaofic tud parec rascunh inferno, pov ped transp #eleições2022 e…',\n",
       " 'cop mund #eleicoes2022 resgat patriot band brasil #fazol',\n",
       " '🤖 serv públic itaipu nom equip tr lula#lul #eleicoes2022',\n",
       " 'fic nes olh esperar, vai ver merd aind vai darsó rest solução, conti…',\n",
       " '“acabou, porra! vão fic mimimi?” #eleicoes2022 #eleicoesnom #foraboz',\n",
       " 'criat brasileiro#eleicoes2022 #eleicoesnom #foraboz',\n",
       " '#eleições2022 equip armazen tribun super elei tribun region eleitorais…',\n",
       " 'tal #podcast porret sinc sobr #ftx resil #criptomoed relatór exércit s…',\n",
       " 'pl bolson dis iri ped anul eleições, eleit concord isso!!pl, fez 129 deputa…',\n",
       " 'empr ram hotelaria, bar restaurant anim pos lul jan #eleicoes2022…',\n",
       " '@biakicil vaz cart pl ped anul #eleicoes2022',\n",
       " 'motivo?#cop27 #brasilnasru #eleicoes2022 #brasil',\n",
       " 'câm ver maravilh homenag 58ª #zonaelei moç aplau entreg feit e…',\n",
       " 'alemanh pode, brazil pode!aqu trat \"irregularidade\" meg fraude!#brazil…',\n",
       " 'pesquil rápid aqu sobr cen atualvoc alguém próximo, próximo, alguém querido, am está…',\n",
       " 'másc vai cair quando????#notic #lulaladr #uolnew #glob #oglob #eleicoes2022',\n",
       " '@jovempannew #brasil #newyork #eleicoes2022 #judiciar #just #manifestac #chegadecorrupç #brazil…',\n",
       " 'tuck carlson the left ha run thil country int the ground',\n",
       " 'favor auxíl trabalh assalariado, convên médico, odontológ val alimentação/ref s…',\n",
       " '🤖 morr isabel salgado, ícon vôl brasileiro, 62 anos#lul #eleições2022',\n",
       " '@slpng_giants_pt perfil ment plat sab ment assim vál slewpi…',\n",
       " 'brazil prosecu seek to suspend top highway cop alleged attempted vot suppression #politic #brazil…',\n",
       " 'lideranç apont polít antiindígen bolson princip justific result des seções…',\n",
       " '@ecantanhed nossa, lul bom!!!! fez tant brasil!!!! comparsas, então? desculpeme, seu…',\n",
       " '@joelpinheiro85 tá aí post envergonh brasil fraud aplaud perfil verific u$8 #fraud #eleicoes2022',\n",
       " 'alguém aind quest result #eleicoes2022 mostr imag figur cen polít brasil…',\n",
       " '#pol #eleicoes2022 #lul #bolson #direit #esquerd #corrupç #stfvergonhamund #globolix #impunidade…',\n",
       " 'acord povo, aind dá tempo!!#brazilwasstol #eleicoes2022 #vempraruabrazil',\n",
       " 'gent avil pl #eleicoes2022 anuladas, perd mai vot deput no…',\n",
       " '#bresil 🇧🇷/💥d centain mill personn continuent manifest au brésil, contr le résultat l’…',\n",
       " 'oi gente! boa hoje? fic sab histór mil noit vênu garot real? pens…',\n",
       " 'ca @plnacional_ peç cancel #eleiçoes2022 prep perd mai banc elei…',\n",
       " '@anapaulavol cri \"el ganha, toma!\", vem aí \"perd mané, amola!\" obr d…',\n",
       " 'cri \"el ganha, toma!\", vem aí \"perd mané, amola!\" obr ficçã gên…',\n",
       " '@choq opa! fiq sab pl vai ped anul 8 senadores, 99 deput federais, 129 deputados…',\n",
       " '➡️ \"poil deu deu espírit temor\" 2 timót 17#deuspatriafamilialiberdad #eleicoes2022 #brazilwasstol',\n",
       " '🤖 alemanh propõ coop clim brasil#lul #eleições2022',\n",
       " '“acabou, porra!” johnny brav perdeu!#eleicoes2022 #eleicoesnom #foraboz',\n",
       " 'gent bem moral pra fal sobr transparência, patriot rect ger filh milic q…',\n",
       " '#eleicao2022#eleicoes2022#election2022#eleicoeslimpasn deix not cair esquecimento🚨n exclu a…',\n",
       " 'bolson cri dua real paralelasum acredit fraud #eleições2022, send inadmi…',\n",
       " 'mic milicos#eleicoes2022 #eleicoesnom #foraboz',\n",
       " '#brasil | part #bolson vai ped anul #eleições2022 #eleccionesbrasil',\n",
       " '🤖 lul faz discur cop27, egito#lul #eleicoes2022',\n",
       " 'el escánd má grand en la hist brasil cem ,corrupción,pr polít y el intent fraud elec…',\n",
       " 'sei coisa, fic msm, sai ca vot nunc mais! vai acredi…',\n",
       " 'perd mané, pov diz defender, democrac brasil, trist verdade…',\n",
       " \"🤖 govern lul 'gastador', precil garant proteç social, diz alckmin#lul #eleicoes2022\",\n",
       " 'entend entend 🤣 🤘🏻 sig rock hum instagr tik tok #rockcomhum #m #m #rockmusic…',\n",
       " 'mour diz vai pas faix lul \"nã presidente\"#mo #lul #faroldabah #presidente…',\n",
       " 'acamp bolson alag brasíl #lul #bolson #eleicoes2022 #protest #bolson #caminhoneiros…',\n",
       " 'cassí ki pux oraç protest bolson #lul #eleicoes2022 #bolson #protest #cassiakis…',\n",
       " '#tánaredecont #eleições2022 | 161122@lulaofic cheg egit #cop27 encontr representantes…',\n",
       " 'brasil,#eleiçoes2022#mo neg vá pas faix #lula\"n presidente\"',\n",
       " '#forabolsonaroesuaquadrilh #eleicoes2022 milit qu fiscal',\n",
       " '👏👏👏 #brazil #eleicoes2022#newyork #londr #euautorizopresid',\n",
       " '🤖 alckmin anunc integr equip tr governo#lul #eleicoes2022',\n",
       " 'tod sab motiv protest piorar, órg dev acolh denúnc fraud a…',\n",
       " 'foss tod maquin administr lá vont bozó campanhaorç secretofak newse…',\n",
       " 'rio jan conseg impossível, cad vez lindo!!!!!#esquerdacrimin #lulaladrão…',\n",
       " 'alô, @alexandr , @stf_ofic , @lulaofic @ptbrasil , sair 17 ônibu protest contr result da…',\n",
       " '⛈acamp manifest antidemocr volt “castigado” chuv alag vej vídeo⛈by…',\n",
       " 'nov \"faz p*rr l\"!!\"ain pq lul melhor pro país\"p ceg qu ver!…',\n",
       " 'eit brasil 🇧🇷🇧🇷 kkkkkk#eleicoes2022 #eleicao2022 #pol',\n",
       " '@partidolib remot possível tod bolson eleitos, governo, câmara, senado, sua…',\n",
       " 'vai pas faix presid lul janeiro?#eleicoes2022 #presid #jairbolson #lul #lulapresid #forabolson',\n",
       " '@thiag atualize! #rus #bolson #lul #15denovembr #eleicoes2022 #man',\n",
       " 'ach vai pas faixa?📸 reprodução/ instagr #fofocandotv #eleicoes2022 #lulapresidente2022…',\n",
       " '🤖 lul orient equip tr garant orç auxíl brasil dur tod governo#lula…',\n",
       " 'crimin segund dit toga! #democrac #eleicoes2022',\n",
       " 'presid eleit @lulaofic planej tax burrice\"v sobr tant dinh vou mand bocad…',\n",
       " 'hor #sop retrat #brasil #bozo#eleicoes2022 #forabolson #forabolsonaroesuaquadrilha…',\n",
       " '2018 cir gom 12,48% votos, 13344366 milhã vot vál 2022 cir gom 3,04% dos…',\n",
       " '@cop27p #foralul #eleicoes2022 #fraud #liberdadedeexpress',\n",
       " 'q q acontec ele pt descobr q min q part pref engan eles…',\n",
       " 'brev mesm perspec tod brasil afinal cont am venceu! vam final entend am não…',\n",
       " '#eleicoes2022 #golp',\n",
       " 'hamilton mour diz jair bolson dev pas faix presid lul manifest bols…',\n",
       " 'pastor presid assembl deu mossoró/rn, francisc miranda, expul ele lul \"vã procurar…',\n",
       " 'ofert imperd tv! corre, pra loja! compr agora!t rol magazin tel…',\n",
       " '#perdeuman #brazilianspring #brazilwasstol #exercitobrasil #eleicoes2022 #direitaun #direitaseguedireita…',\n",
       " \"🤖 lul diz isabel vôl 'símbolo' esport def ideais#lul #eleicoes2022\",\n",
       " '#eleicoes2022 #brazilianelectiom #eleccionesbrasil #brazilianspring #pr #new #freespeech #freedom #cop27 …',\n",
       " 'aguent pouc patriotas, próximo!#brasil #forcasarm #eleicoes2022',\n",
       " 'assessor diz bolson \"depressivo\" paul piment diz presid conseg faz reun e…',\n",
       " '🤖 morr isabel salgado, ícon vôl exjog hav sid nom gabinet tr lula#lula…',\n",
       " 'ach sobr noticia? #eleicoes2022 #jovempan #pol #brasil',\n",
       " 'apur 2022 govern rondôn vej temp real ganhando#el #eleições2022…',\n",
       " '@alexandr #brazilianspring #brazilwasstol #eleicoes2022 #brazil #15denovembr #anom',\n",
       " '#barr #pl #alexandredemoraesdit #alexandredem #euind #cristianoronald #neym #tite…',\n",
       " '\"perdeu, mané, amola\"(l r barroso#eleicoes2022 #forabolson #golp',\n",
       " 'dev msm combin ant lanç matér kkkkk tud ibop msm? #eleicoes2022…',\n",
       " '@capyv @savetonotion #thread #security #eleicoes2022',\n",
       " 't$e inform q míssil rus desv ucrân caiu serv destru códig font the end \"perd mané…',\n",
       " '#eleicoes2022 #lulapresidente2023 #perdeuman',\n",
       " 'intervenç divin crianç abandon fant',\n",
       " 'seman míd diz milhã pess bem protest país melhor antidemocrátic…',\n",
       " '🤖 exchancel maur vie cot assum itamaraty govern lul 3#lul #eleicoes2022',\n",
       " 'inform port metrópoles📸 reprodução/ instagr #fofocandotv #eleicoes2022 #lulapresidente2022…',\n",
       " '#eleiçoes2022 #pol #sosff #brazilwasstolen #vempraruabrasil',\n",
       " 'cert perdemos, agora, abr mur quartel ped golp coil paté vie…',\n",
       " 'the population that support president bolson is claiming #bolsonaroreeleit #bolsonaropresidente22…',\n",
       " 'alexandr moraes, únic ach cert tod popul revolt erradap is…',\n",
       " 'podcast @youtub últ episód #políticanaveia, serg lir luil nassif, parc do…',\n",
       " 'reflit agora? #eleicoes2022 #eleiçõe2022 #trump2024 #rus #brasilfoiroub #brasil #forcasarmadassalvemobrasil…',\n",
       " '@reporterenat xand tod ra 2 ano @michelt deix leg tet gast reform pevidênci…',\n",
       " 'pov estudou, histór pra sab ditat sab destigu soc comunism…',\n",
       " '🤖 lul diz ped onu amazôn sed conf clim 2025#lul #eleicoes2022',\n",
       " 'mund sab acontec brasil!supr pov brasileiro! #brasilnasru #eleicoes2022',\n",
       " 'pov fic port quartéis, trabalham?! jesu #eleicoes2022 #forabolsonaroesuaquadrilh #forabolsonaroment',\n",
       " 'paciência, mal#eleicoes2022',\n",
       " '@joelpinheiro85 supr pod control máquina, sistema, pov fantoch história! #eleicoes2022',\n",
       " 'exempl trabalh hospit tod caix cheg coloc códig barr sis…',\n",
       " 'di notíc ond afirm part irá just quest result eleições, pronuncia…',\n",
       " 'justific au 1º turn dev feit 1º dezembr #treminas…',\n",
       " 'pronto! tá aí#eleicoes2022',\n",
       " '',\n",
       " 'sim relatór consist tse arquiv cert fraude#eleicoes2022',\n",
       " '#globolix vergonh , #stfvergonhamund , vergonh , #lulapresidente1️⃣3️⃣ ,vergonh #eleicoes2022 vergonha!! tem…',\n",
       " '🤖 lul particip event cop27#lul #eleicoes2022',\n",
       " 'part liberal, jair bolsonaro, vai ped anul entendaby @diariodegoias#pl #bolsonaro…',\n",
       " 'pl aceit 02 governadores, 13 senadores, 99 deput federais, 128 deput estad e…',\n",
       " 'cad fiz parte, pod mud muit coisa!#frald #eleicoes2022 #bolsonaro2022 #brasilnasruas…',\n",
       " 'sobr relatór #pl@jairbolson #eleições2022 #bolsonaro2022 #bolson #jairmessiasbolsonaro…',\n",
       " 'cur cânc dipirona, brasil opt \"doença\" ag vai ter pas quimioterap #eleicoes2022',\n",
       " 'manau hoj 15/11/2022 frent cma milit amazôniasó rest solução, continu a…',\n",
       " 'part jair bolson vai ped anul #eleicoes2022 reaç ministr barr contr man…',\n",
       " 'democrac brasil compromet protest porqu candidat ganhou?n porqu povo…',\n",
       " 'nível insan insensat turm jorn empr glob surrealsó rest solução, e…',\n",
       " 'pl ped anul #eleicoes2022 sab #stf #t vão aceit denuncias, pois, demonstr…',\n",
       " 'hoj começ nov brasil pod faz part dest história!!!#brazil #eleicoes2022 #cristianoronald',\n",
       " '#bolsonaro2022 #anul #eleicoes2022 #lulapresidente2022 #manifestac pl neg irá quest result ur…',\n",
       " 'ja preparado!! #eleições2022 \\u2066@exercitooficial\\u2069 \\u2066@braganetto_gen\\u2069 \\u2066@gen_villasboas\\u2069 \\u2066@generalmourao\\u2069 \\u2066…',\n",
       " 'lul imagin opo tão fort vind rua #democrac #liberdad #pol #foralula…',\n",
       " '#eleicoeslimp #eleicoes2022 #sosbrazil #sosff',\n",
       " 'comem #proclamacaodarepubl brasileira, #15deoutubro, milhã #patriot manifest favorávei…',\n",
       " 'levant cnn especul q pseud at már fri trafic mad ricard sall pod integr o…',\n",
       " 'roç form #deolane, #ruivinha, #bi #andré, #bi vet pra vai torc pro prox fazendeiro?…',\n",
       " 'ridícul pov ped anul #eleições2022 favor né? deu histór protest aceitem…',\n",
       " 'paul 15112022 #bolson #eleições2022 #cr #brasilnasru #sosff',\n",
       " 'ta chat ja gent am deu acab vam segu adiant torc tud dê cert qu…',\n",
       " 'eae @choq tá sab pl neg iri ped anul ? #pol #golp #eleicoes2022',\n",
       " 'vou fal bolsominiom nad faz perd dia fer delic tod faz pr…',\n",
       " 'part pl fil presid @jairbolson vai ped anul 2022 notíc 1…',\n",
       " '⚖️juíz mand disp ocup golp frent quartel manau',\n",
       " 'bast mic ind ag espalh mund af “first we take…geneva…then we tak ny”perderam, m…',\n",
       " '“perd mané, amola” barroso, luí robert 15 novembr 2022 #barr #stf #eleicoes2022',\n",
       " 'sant catarin deix nãosurpreend ninguém assunt nazismotabajara#eleicoes2022…',\n",
       " 'advog lul nov york ministr stf#eleicoes2022 #brazil #corrupção…',\n",
       " 'alguém expliqu ant diferenç 180 360°#eleicoes2022 #eleicoesnom #foraboz',\n",
       " '#campin #brasil #eleicoes2022 #brazil #so',\n",
       " '@vej fra histór \"el ganha, toma!\" ag vs excel dá assunt encerrad…',\n",
       " 'hoj brasíl dia, 15/11/2022 bast chuv desistimos, sab quê? porqu patriotas! a…',\n",
       " 'durm dia tranquilo, acord notíc bolson ped anul eleições, terc guerr m…',\n",
       " '💬acamp golp frent qg exército@georgmarqu #pol #forcasarm #eleicoes2022',\n",
       " 'pra hoj seguint #barrosoperdeuman #eleicoes2022 #brasilnasru #nossabandeirajamaisseravermelh',\n",
       " 'mesm cri “el vence, toma” vem aí “perd mané, amola”é cusp car b…',\n",
       " 'exclu pl vai ped anul 2022',\n",
       " 'bor lanç hashtag#pmn “perdeu, mané, amola!”#eleicoes2022 #bolson #direit #brazilwasstol',\n",
       " 'invalid eleições? sim pra tod cargos, presidente, sen deput pq? presidência?…',\n",
       " 'pl divulg após relatór independ irá ped anul relatór indic inconsist n…',\n",
       " 'hj, fpolil #brazilianspring #eleicoes2022 #eleições2022',\n",
       " 'patriot grand vitória, espírit sant tod brasil!n desistam! sai ruas! junt forte…',\n",
       " 'sobr tal fraud urnas, recom assist vídeo, maluc fez bel \"tcc\" sobr assunto…',\n",
       " '@iracemapavan lut país, hoj dia 15/11/2022 maringápr#protest #protestosbrasil…',\n",
       " 'kkkkk aô #nord pl tá qu anul vot just ond tom banho, diferenç 1…',\n",
       " 'hoj dia 15/11/2022 manifest maringápr#protest #protestosbrasil #protestosmaring #eleicoesbrasil…',\n",
       " 'alô #pl vai ped anul sen dam tarcís govern est sp el…',\n",
       " '#eutenhoduv #eleicoes2022 #brasilnasru',\n",
       " 'ag josé?!#eleicoes2022 #brazilwasstol #brasilnasru #lulaladr #copadomundo2022',\n",
       " 'el @plnacional_ @jairbolson y @valdemarcost va ped la anulación la #eleicoes2022 ant el @tsejusbr…',\n",
       " 'ótim notícia! únic part ruim ped vai cair mão cabeç pir*ca#eleicoes2022…',\n",
       " '😂 🤣 😂 🤣 😂👋#eleicoes2022 #forabolsonaroesuaquadrilh #oamorvenc',\n",
       " '#brasil #eleicoes2022 #bolsonaroreeleit bolson dand pés exempl trabalh !eu fiq aviso…',\n",
       " 'fato, precil acertar, supr barr isso, após declaração, dat hoje, pass ny, ente…',\n",
       " '#eleicoes2022 #perdeuman',\n",
       " '1 soluçõescom vot impres auditavel, p dificult fraudes#votoimpres #eleicoeslimp #brasil…',\n",
       " 'hoje, fb lembr public 2014 lá cá, feliz civ renasc grand part da…',\n",
       " '\"procur sabed aprend escrev capítul import histór moment difíceis…',\n",
       " 'gent senh vai aceit result eleições? inferno! #eleicoes2022',\n",
       " 'pl vald cost net vai ped tribun super eleitoral, próx dias, anul de…',\n",
       " '#hack invad sist #justiçaelei peg #dadosconfid tecmund #lgpd #gdpr #ccpa…',\n",
       " 'ali prest socorr volt tá che novidad aqui🙌🇧🇷⚔️ aind acabou, viv que…',\n",
       " 'env imag car globobbel @tvglob @globonew @jornaloglob vej bem band jamais…',\n",
       " 'fog parq #pl #eleicoes2022 #urn',\n",
       " '\"perdeu, mané\"simpl fra grand relev brasil 2022 democrac fica, ame est direit sai…',\n",
       " '2022 egito, #lul (@lulaofic encontr polít brasil (ℹ',\n",
       " '#brasil #jr #jornaldarecord #jr24h #el #eleições2022',\n",
       " 'el part del presid @jairbolson el pl, ped anul la eleccion #eleicoes2022',\n",
       " 'suj continu aparec fan qu encherg continu incist ultrapas questão…',\n",
       " 'vi nkunku gul camaving perdoado! #otan wwi rús polôn bolson lula…',\n",
       " 'agora? #eleicoes2022pl vai ped anul',\n",
       " 'vai merda, vai merda, vai ,v merd vai #eleicoes2022',\n",
       " 'segur peão!#censur #eleicoes2022 #brasilnasruasexclu pl vai ped anul 2022',\n",
       " 'segund alexandr moraes, judic atu barr cont ataqu democrac liberdad dur…',\n",
       " 'dep jorn brasil allan santos, exil polít viv eua, após censur perseg…',\n",
       " 'pl vai ped tse anul 2022 diár país #eleicoes2022 #election2022',\n",
       " 'pl vai ped anul 2022#eleicoes2022 #brasil #jovempannew',\n",
       " 'pouc lembr @tvglob últimas, ultima, transmit prim manifest pedi…',\n",
       " 'put gent /#eleicoes2022 #brazilwasstolen #bolsonaroreeleito2️⃣2️⃣',\n",
       " '#repost @bertorellidep jorn brasil allan santos, exil polít viv eua, após se…',\n",
       " \"#eleições2022segund audit contrat partido, impos 'valid resultados' urnasmais…\",\n",
       " '@glob #jornalnac #brasil #eleicoes2022 #lulaladr #stf #brazilw #fraud #manifestacion #jovenp #sosffaa…',\n",
       " 'urgente!segund antagonista, pl (part presid bolson vai ped anul #eleicoes2022 !…',\n",
       " 'ant cir fal lul encant serp hoj além serp encant o…',\n",
       " 'thil is brazil! we are mad of crisis! #eleicoes2022',\n",
       " '\\u2066@plnacional_\\u2069 vai \\u2066@tsejusbr\\u2069 ped anul #eleicoes2022 necessár muit corag convicç e…',\n",
       " 'urgent pl vai ped anul 22 🇧🇷tic tac!#eleicoes2022',\n",
       " 'pas feriado, doid segu manifestando? #eleicoes2022 #lulapresidente2022 #forabolson',\n",
       " 'acabado!#el #eleicoes2022 #brasil #bolson #direit #direitaconserv brazil',\n",
       " 'urgent !pl irá ped anul 2022 !! 🇧🇷v ana campagnol #eleicoes2022 #direitaforteun',\n",
       " '#manifestac #pl22 #bolson #lul #jovempan #eleicoes2022 #proclamacaodarepubl',\n",
       " '📌 ajuden 👉 sig págin segu fio final luz#pl #vald #eleicoes2022 #nat #20…',\n",
       " '#eleições2022 | pl vai ped anul 2022, diz sit |',\n",
       " '\"perd mané, sai fora\" 🤣😂🤣😂 #barr #eleicoes2022 #lulapresidente1️⃣3️⃣',\n",
       " 'ju sperniandil ped tse?! decil sab seg jog desd venc 2018, bolsonaro, g…',\n",
       " '#patriotabrasiljb#direit #direit #eleições2022 #eusouconserv #bolsonaro2022 #melhorjairseacostumando…',\n",
       " '#brazil #brasil #eleicoes2022 #brazilwasstol #gg',\n",
       " 'exclu #pl vai ped #anul #el #2022',\n",
       " 'agr outr empr audit contrat @plnacional_, tbm constat msm, tant part pedirá…',\n",
       " 'pl vai ped anul 2022aind esperanç brasil 🇧🇷 gigant acordou!…',\n",
       " 'font progr ping is jov pan!#eleicoes2022 #ibovesp botafogo, rio janeiro, brazil',\n",
       " '#eleicoes2022 anulada, brasil dev mud nom maracut',\n",
       " 'opin sobr isso?ajud pre stf ajuda#pol #eleicoes2022 #lul #bolson #direita…',\n",
       " 'míd mostr simal maceió #nord #brasilnasru #manifestacoespacif #eleicoes2022',\n",
       " 'in brazil, lul beat bolson now the hard part#politic #brazil #el #eleições2022…',\n",
       " 'avisaram, ninguém pod diz peg surpresa#eleicoes2022 #censur #liberdad #freedomofspeech…',\n",
       " 'positivismo, soc oligarqu ferr brasil desd 1889urg @direitamg @abrahamweintraub…',\n",
       " 'parabém envolv faz l#pt #lul #mst #eleicoes2022 #pol #bah #nord #supremoéopov',\n",
       " 'perd manéh, amol !!! fra moment ? #democrac #pol #eleicoes2022',\n",
       " 'perceb verdad escanc nes vídeo, tod mulh brancas! #eleicoes2022 #m',\n",
       " '@lulaofic pov pobr brasil #nelsonmandel negr áfric sul #jovemklan…',\n",
       " '#brasilnasru #brasilwasstol #eleicoes2022 #luladr #liberdadedeexpress',\n",
       " 'pod or imag santos, pod or pneu vão igreja, vão port qu…',\n",
       " '15/11/2022#eleicoes2022 #cnnnacop27 #foxnew #foxnewsu #cbn #bbcnew 🇧🇷🇧🇷🇧🇷🇧🇷🇧🇷🇧🇷🇧🇷th giant awok',\n",
       " '\"perd mané! amola!\"\"ministro, sr vai lib códig font urnas?\"@exercitooficial@tuckercarlson…',\n",
       " 'manifest bh mult rua 15 novembr',\n",
       " '\"perd mané! amola!\"\"ministro, sr vai abr códig font urnas?\"@exercitooficial@tuckercarlson…',\n",
       " '@93fmgospel 1° ministr est árab unid jalim hab dis reconhec luiz inác lul silv c…',\n",
       " '@choq 1° ministr est árab unid jalim hab dis reconhec luiz inác lul silv como…',\n",
       " 'manifest desd resum aut induç salient refreg reticente, ond retro…',\n",
       " '\"perd mané\" barr anunc assalt 5tf t5e dua seman atr #perdeuman #eleicoes2022 #brazilianspring',\n",
       " '@gfiuza_ofic 1° ministr est árab unid jalim hab dis reconhec luiz inác lul sil…',\n",
       " '“namastreta” 🧘#fazol #bolson #pet #eleicoes2022',\n",
       " '@lopes_maravilh avil aqu 1° ministr est árab unid jalim hab dis reconhece…',\n",
       " '@uolnotic 1° ministr est árab unid jalim hab dis reconhec luiz inác lul silva…',\n",
       " 'when are republic lik @tedcruz going to realiz that mitch mcconnell is not real republican and help hi fel…',\n",
       " '#lamentar,l #eleicoes2022 #estadounid han vuelt simil la polít gerontocrac japón…',\n",
       " '\"perd mané, amol não!\"qu consid povo#perdeuman #eleicoes2022 #stfvergonhamund',\n",
       " 'líban abr luta! thank you and god ble 🇱🇧 #povoun #proclamacaodarepublica…',\n",
       " '𖣔 vai pi cad dia 🙄😬🤦🏻⠀ deix opin abaix coment ⬇️💬✍🏻⠀◆⠀◆⠀◆⠀link post noss…',\n",
       " '@monark bolson 30 ano polít salv rio jan dir brasil 😂 #eleicoes2022',\n",
       " 'brasilt brasil qualqu part mundo! gigantes!!!#brasil #eleicoeslimp #eleicoes2022…',\n",
       " 'vid nov canal sseg link #patriot #patriot #eleicoes2022 #brasil #bolsonaro…',\n",
       " 'cad sen federal? #senadofed #manifest #eleicoes2022',\n",
       " 'alguém dúv lad taí resposta#eleicoes2022 #fraud #intervencaomilitar…',\n",
       " '🗣a ped alckmin, tcu prep relatór alt risc 29 áre crít entreg transição…',\n",
       " '@robertatopth simples, \"dig and direl és\"qu proteg ladrão, presidiário, libert por…',\n",
       " 'ministr barrosocad sen des dis @senadofederal?p represent indivídu entr impe…',\n",
       " '“perdeu, mané” assalt diz apont arma?sim fal ministr sup…',\n",
       " 'deu abenç brasil @direitamg @abrahamweintraub @arthurweint @pauloeneascn #riodejan #eleições2022…',\n",
       " '#democrac #fasc #ch #eleicoes2022 #crim #t #stf',\n",
       " '🤖 lul encontr represent eua chin clim cop 27#lul #eleicoes2022',\n",
       " 'tog esforç disfarçar, lad crime, daqu pra frente, pra trás…',\n",
       " 'mpf ped afast diretorg prf favorec presid bolson dur campanha…',\n",
       " 'pt vermelh raíz comum lul dogwhistling moren',\n",
       " '#proclamacaodarepubl éconcord diret civic democr realiz urnas, #eleições2022…',\n",
       " 'fer marc manifest contr lul (pt ato tom cont tod país critic o…',\n",
       " 'vergonh nacional!rataz brasil 🇧🇷 #ditaduradatog #ditaduranunc #ditaduradatogan #brasil #brazil…',\n",
       " '🤖 bolson radic faz manifest intenç golp fer 15 novembro#extremadireita…',\n",
       " 'bom questionamento#pl #eleicoes2022',\n",
       " '#eleicoes2022 #eleicões22 #bolson #brasil #brazil #brazilnew #t #notic #notic #breaknew #newyork #nyc…',\n",
       " 'med vest camil seleç hor gol brasil grit \"golpe\" vez \"gol\" #copadomundo2022…',\n",
       " 'opin sobr sist elei brasileiro?—#ele #vot #t #eleicoes2022 #brasil…',\n",
       " 'ગુજરાત પ્રદેશમાં રેકોર્ડ માર્જીનથી બીજેપી સરકાર બનાવવા જઈ રહી છે#bjpgujarat #eleicoes2022 @narendramod @pmoindia…',\n",
       " '#genz #genzvoterturnout need to shut the worthless, freeloading mouth about republic we are the one who ca…',\n",
       " 'iss0 par !!! cad @sen ? @flaviobolson @edugiraooficialnos am @stm_oficial…',\n",
       " '#eleições2022 #fypシ #fyp #vir #notic #fy',\n",
       " 'iss0 par !!!cad @sen ??? @flaviobolson @edugiraoofic am @stm_oficial…',\n",
       " 'mano, lav cerebr essa? agradeç privilég ter discern 🙏🏼 obgdo, senhor! #2022…',\n",
       " 'feliz tud vem acontec país, vej quant pess mud determin períod , p…',\n",
       " '\"perdeu, mané!\" ???revelador, heim??? outr lado, abord cobranç co educadas, reagem…',\n",
       " \"#anitt indic #grammy web reag ''vencemos'' #artistare #astrudgilbert #bestnewartist…\",\n",
       " 'cad sen des dis @senadofed ?p represent indivídu entr impeachment falta…',\n",
       " 'the big lie is going glob we saw it in brazil#politic #brazil #democracy #fakenew #el #eleições2022…',\n",
       " 'cad sen des dis @senadofed ???p represent indivídu entr impeachment fal…',\n",
       " '“ perd mané “?????? víd merec compartilh div vezes… ministr ny#ditaduradatoga…',\n",
       " '🇧🇷🤜🤛🇧🇷 iv 🇧🇷#patr #tbt #direitadf#euapoiovotoaudit #repost #dir #to #urucu #urucuiamg…',\n",
       " 'part 7#sosff #sosforcasarmadassalvemobrasil #eleicoes2022',\n",
       " 'part 6#sosff #sosforcasarmadassalvemobrasil #eleicoes2022',\n",
       " 'part 5#sosff #sosforcasarmadassalvemobrasil #eleicoes2022',\n",
       " '@arvindkejriw @msisod @aapdelh @sanjeev_aap @ipathak25 @aamaadmiparty #mcdelection #eleicoes2022',\n",
       " 'part 4#sosff #sosforcasarmadassalvemobrasil #eleicoes2022',\n",
       " 'alexandr mor #brazilian #censur #eleicoes2022',\n",
       " 'part 3#sosff #sosforcasarmadassalvemobrasil #eleicoes2022',\n",
       " 'republic think they only lost becau of bad candidat bro your ide the country sucks! #midterms2022 #eleicoes2022 #msnbc',\n",
       " 'part 2#sosff #sosforcasarmadassalvemobrasil #eleicoes2022',\n",
       " '“perdeu, mané”, diz barr manifest nov york#barr #perdeuman #eleicoes2022 #perdeumané…',\n",
       " 'part 1 #sosff #sosforcasarmadassalvemobrasil #eleicoes2022',\n",
       " '??? apo lool começ arrepender?@exercitooficial@donaldtrump@tuckercarlson…',\n",
       " '➡️ pouc ant 2º turn #eleições2022, dir prf public fot band brasil diz \"…',\n",
       " 'pov supr #brazilwasatolen #eleicoes2022 #manifestac #patriot #lulaladraoseulugarenapris #fraude…',\n",
       " 'manifest marc fer ato frent qg brasil grup contest result eleições…',\n",
       " 'brasil senh vai lib códig fonte, ministro? responda, favor, ministroxandão, caladobarroso…',\n",
       " 'so brazil #brazilianspring #stfvergonhainternac #brazilwasstolen #urnasfraud #eleicoes2022',\n",
       " '@rconstantin #perdeumané #eleicoes2022 roub',\n",
       " '@alexbr116 @priscilafcruz @lrobertobarr @cnnbrk @cnn @foxnew @havarduniv @nytim #elonmusk #eleicoes2022…',\n",
       " 'jur par kkkkn cancel coleguinha#simonetebet #vir #fory #eleicoes2022',\n",
       " '\"perdeu, mané amola\" ministro, @lrobertobarr dand rec cert pra estimul ódi golpismo…',\n",
       " '#nord #reality #brasilnasru #brasil #bolsonaro22 #eleicoes2022',\n",
       " 'silvin vasqu investig atu bloq rodov dia segund turn após pr…',\n",
       " 'perd mané?? ent milhã mané qu sab verdad #codigofont #tseorganizacaocrimin #tse…',\n",
       " '#forcasarmadassalvemobrasil #vempraruabrazil #eleicoes2022 #eleicoeslimp #manifest #stfnaomerepresenta…',\n",
       " '#bresil 🇧🇷/💥aprè 16 jour manifestatiom 🪧, le contestatiom ne faiblissent pa mill gem se…',\n",
       " '\"perdeu, mané! amola\" ministr supr tribun fed brasil#brasilnasru #eleicoes2022',\n",
       " 'post estúp ignorante, perd mané! 👊🏼🇧🇷 ? corj vai levar?#eleicões2022 #stf #senado…',\n",
       " 'simples, \"dig and direl és\"qu proteg ladrão, presidiário, libert amig stf,…',\n",
       " '@senadorhumbert #eleicoes2022 @conexaopol @o_antagon @stf_ofic',\n",
       " 'manifest volt ocup rua próx cta josé 🇧🇷 #manifestac #ct #eleicoes2022 #ele',\n",
       " 'cerebr opç respost ne#hum 🥲😅😅😂😂😂🤣🤣🤣🤣 #eleições2022 #lulapresidenteeleit #verdad',\n",
       " 'kaun jiteg ??#eleicoes2022 #electionday #bjp #aap #abpol #gujrattit #cm',\n",
       " '2022 egito, #lul (@lulaofic aproveit faz encontr paralel (ℹ',\n",
       " '#electionday #eleicoes2022 #karilak #katiehobbswim #katiehobbscheated #karilakewon #karilakefilt #fakelake…',\n",
       " 'adiant diz probl govern atual, própr mov deix cl expresidiário…',\n",
       " 'ah! govern inclu 🥰 #lulaladr #eleiçoes2022',\n",
       " 'manifest reún centr rio nest terçaf (15 protest feit pess aceit o…',\n",
       " 'mal venc fiscal vid alh entr circuit vasculh vid empr levou…',\n",
       " 'verdad tod pess têm posicion argument serv pra dialogar, bas pont e…',\n",
       " '🤖 cop 27, janj diz brasil volt protagon mei amb combat aquec global#lula…',\n",
       " 'polic acu apo delib bolsonaro, dificult pess vot omis dur bloq golpi…',\n",
       " 'manifest reún frent qg brasíl nest terçaf (15 protest feit pess não…',\n",
       " '#eleicoes2022 pov',\n",
       " 'enquant famílias, ch antidemocratas, reunemse, pacificamente, frent quartéis, manifest co…',\n",
       " \"🤖 ministr mei amb crit 'filantropos, líd empresários' vão jat particul cop27…\",\n",
       " 'tcu alert equip tr 29 áre atual govern alt risc fraud má gest #eleicoes2022…',\n",
       " '🤖 cop27, lul vai unir combat fom mudanç climáticas#lul #eleicoes2022',\n",
       " 'morr 73 ano luiz antôn fleury filho, exgovern sp #eleições2022 #exgovernadordesãopaulo…',\n",
       " 'camp nett @bancocentralbr ótim cobr #reform ag @lulaofic @geraldoalckmin…',\n",
       " 'minist públic fed ped afast dir prf ped 90 dia promot pretend investiga…',\n",
       " 'grand amig l pt faz l aí!#eleicoes2022 #lulaladraoseulugarenapris',\n",
       " '#gujaratelection2022 #eleicoes2022 #vote2022 @ndsolanki73 @voicebarod @pravin_nagh @daxapat34939421…',\n",
       " 'manutenç armazen mai urn respom tribun region elei dos…',\n",
       " \"brazil' democracy wa attacked but survived, say elec judge#politic #brazil #democracy #eleições…\",\n",
       " 'saudad tia bolson fic dia tod espalh fak new zap! ag fic passando…',\n",
       " 'ag solto, cabr pod faz part equip tr lul #fazuel #corrupc #eleicoes2022 #brazil',\n",
       " '#eleições2022 uni brasil dev apo lula, exceç neto, mor outr opos',\n",
       " 'vic – presid eleit alckmin anunc seil nom abc equip transição@geraldoalckmin @filippioficial…',\n",
       " '🤖 au bolson g20 segund presid brasil lul falt 2010#lul #eleicoes2022',\n",
       " '@elonmusk #tsecensorshipinbrazil #brazil#stfcensorshipinbrazil #eleicoes2022 #brazil #brazilsprings…',\n",
       " 'nao evangel amo louv so pra tir raiv vou pas hoj anoit #roçaafazenda…',\n",
       " '\"liberdade! liberdade!abr asa sobr nósd lut tempestaded ouç voz\"…',\n",
       " '@bernardomf @cbnofic pr tá bunk @planalt tr contr #democrac #carlux #gabinetedood ma…',\n",
       " '#eleicoes2022 #ministr #brasilnasru #bolsonaro2022',\n",
       " '@glel bom nar @ptbrasil invent @tvglob globogolp @michelt temergolp q…',\n",
       " '@dorakr faz sentido, op @dilmabr tod insensat vind @lulaofic pod faz sent e…',\n",
       " 'gent qu atrapalh #brasil, ganh candidat vot assim 2018porqu 201…',\n",
       " '@alexandr val #xand caravan passa, enquant insensat ladr #eleicoes2022',\n",
       " '#bolson engod sempr fal fal país sum map perd #eleicoes2022 com…',\n",
       " 'muit atual parlament eleit brasil real bolson grand mai bolsonaris…',\n",
       " 'hoj capaz motel bombar, kkkkkk#apuc #p #brasil#motel #ele #eleicoes2022 #bolsominios…',\n",
       " 'deput denúnc fraud urn 1! #brazilian #eleicoes2022 @elonmusk @gen_villasb @rconstantin',\n",
       " '@stf_ofic pov brasil qu respostas#urnaseletron #eleicoes2022',\n",
       " '22ª bda inf sl atu operac #eleições2022',\n",
       " 'segund @alexandr moraes, judic atu barr cont ataqu democrac liberdad du…',\n",
       " 'nest copa, torc argentin brasil cau des cara, pow jog futebol dar bolão…',\n",
       " '⚠️ decl fachin sobr possível reviravolt decil judic benefic lul circul se…',\n",
       " 'brasil cab antidemocráticos! #eleicoes2022 #eleicao2022',\n",
       " \"🤖 'elit brasil propõ pag govern autoritário', diz anal político#lul #eleições2022\",\n",
       " 'gerald alckmin fez anúnc col imprensa, paul vej list materia…',\n",
       " 'hoj merc pud peg tud qu pagar😊 daí acord 🤷🏻\\u200d♀️j sonh assim?…',\n",
       " '#eleicoes2022 pod car des tá poder?um pess vai contr liberdad expres favor b…',\n",
       " 'alan sant perd linh simpl pergunt “vc mor onde?” 😂😂😂 alan eh pi espécim do…',\n",
       " 'obrig lul deix govern aprov pert possível reeeleg antec muit dif…',\n",
       " '@rconstantin alg err gent ped inform receb outr nunc acontec comigo, c…',\n",
       " 'qu , fal popul pobr brasil ch at log viaj jat o…',\n",
       " '#censur #ff #alexandredem #jovempannew #eleicoes2022 #fazolag #brazilwasstrolen #forcasarm',\n",
       " 'kursī hai tumhārā ye janāz to nahīñ hai kuchh kar nahīñ sakt to ut kyoñ nahīñ jaat #eleicoes2022',\n",
       " 'urn confiáveis, tod mund sabe, #t proib quest ag pont importante, quem…',\n",
       " 'mont planilh excel aleatór patriot fic tod animadosalguém pag cur excel e…',\n",
       " \"🤖 john kerry diz 'animado' ver lula, aguard conv defin ajud eua amazônia#lula…\",\n",
       " '#portugu #brasil #repúblicafederativadobrasil #eleições2022 #eleições22 #forçasarm #sim #nãoforç arm v…',\n",
       " '#portugu #brasil #repúblicafederativadobrasil #eleições2022 #eleições22 #forçasarm #sim #satanás#luladasilva…',\n",
       " 'hoje!#4ºturno#eleições2022',\n",
       " 'brasil !!! #brasilnasru #eleicoes2022 #brasilcombolson #🇧🇷',\n",
       " '💵gambl city, cadastrou, depositou, ganhou!💵whatsapp suport 24h (21 9 85118867ac',\n",
       " 'repositór extern part 2bacharel ciênc comput explic brech grav códig das…',\n",
       " 'repositór extern part 1bacharel ciênc comput explic brech grav códig das…',\n",
       " 'alexandr mor deix mem manifest antidemocr “t aplic lei penal”by…',\n",
       " '@mcfaul michael, bragging is not good in #trade, it creat incentiv to search alternativ he is definit…',\n",
       " '🤖 cop27 3 gráf mostr pi brasil desmatamento, queim emis co2#lul #eleições2022',\n",
       " 'culp #lul nav bat ponte! faz l #forabolsonaroment #eleicoes2022 #ponterioniter',\n",
       " '#bresil 🇧🇷/💥d camionneur brésil rendent brasil et renforcent le mouvement popul 🪧 sur place…',\n",
       " '@ivanv deu golp 🔥 #eleicoes2022',\n",
       " 'pov brasil devolv r$25b vítim achaqu fasc ch lav jat que…',\n",
       " 'nao esquec #lulaladr #lularap #eleicoes2022 #econom #dividapubl',\n",
       " \"two typ of hum that are making the world difficult □ men who think women (fem won't, and can't chop their…\",\n",
       " 'मैनपुरी विरासत या बदलाव ?#mainpur #eleicoes2022 @samajwadiparty @yadavakhilesh @dimpleyadav @bjp4ind',\n",
       " 'exactly ! 💯 #arizonaelection #eleicoes2022 #arizonaelections2022 #karilak #hobb #ar',\n",
       " 'pequen homen ministr vinh conf nov york 🇺🇸 #rat #ratazanas…',\n",
       " 'alguém olh relógio? #eleicoes2022 #arquivosdecodific',\n",
       " 'ભાજપ માં એવા નેતાઓને ટીકીટ આપો કે જે પોતાના દમ થી જીતે વિકાસ ના અને હિન્દુત્વ ના કરેલા કામ થી ખુરશી ઉપર બેસેમોદી…',\n",
       " 'gujarat election 2022 liv વિરોધ છતાં પણ અલ્પેશ ઠાકોરને ગાંધીનગર દથી ટિકિટ, કોંગ્રેસની હજી 41 બેઠકો પર ગૂંચ…',\n",
       " 'louv brasil _gospel#mu #musicarelig #kwaistatu #vir #eleições2022',\n",
       " 'but aroused lorrain the gold rush starting in the old front history pets, stretching back thousand of la…',\n",
       " '\"qu confu pq bem informado\"#1984georgeorwell #1984 #admiravelmundonovo#progressismo…',\n",
       " 'ministr receb vár elog est unid vejam#eleicoes2022 #alandossant #qatar2022',\n",
       " '#eleicoes2022 #brasilnasru pessoal enquant tod rua pessoal stf presid companhiaestã…',\n",
       " '#eleicoes2022 #brazilianelectiom #eleccionesbrasil #brazilianspring #pr #new #freespeech #freedom #cop27…',\n",
       " '@maricopavot the trap wer set, and you walked right in th thank playing @billgatesaz @stephen_richer…',\n",
       " 'mulh expul shopping band 🇧🇷🇧🇷🇧🇷 #bolson #eleicoes2022 #fofoc #notic',\n",
       " 'institut alem afirm fraud confirm presid institut phd cib seguranç po…',\n",
       " '💬🇧🇷 bolson diz á elon musk fraud elei comprovada, elon pergunt prov bo…',\n",
       " 'top @exercitoofic tom brasil dia 22/11 dia 22/12 pra fic bem marc dia, dia corr…',\n",
       " '@revelations616 @fellipebamb @geraldoalckmin @lulaofic @sensocrtico1 \"cr emprego\", pqp, melhor ler ess…',\n",
       " 'perigo, perig will robinson!!!#dangerwillrobinson#eleicoes2022#vot',\n",
       " 'vam lá deix ver entend manifest qu que?qu dad invalidas?poil o…',\n",
       " 'pregu dorm , pregu fic acord , pregu porqu diz amanhã perd vão faz cha…',\n",
       " 'reportar?#eleicoes2022 #eleicoesnom #foraboz',\n",
       " '@marianelaz 9 ded send burr vai difícil acert kkkkk, troc canh picanha…',\n",
       " 'vi alexandr mor diz combat fak new internet aliment ódi ma…',\n",
       " '#trat #gat #ajud #urgenc #bbtv #afazenda14 #gh20222 #eleicoes2022',\n",
       " \"if you'r busin owner, eag to launch your new ecommerc busin on shopify and wish an expert of exper…\",\n",
       " 'vai cai castel inteiro, vai lind #sosff #brasil #brasilwasstol #brazil #eleicoes2022',\n",
       " 'orgulh voto! sant catarin merec ter @kerexuofic deput federal! vai ter represent indígen…',\n",
       " 'enquant mar fiscaliz urn eletrônicas, função, nav abandon colid pont…',\n",
       " '@franzrott @alexverdao51 @stf_ofic qu golp ? voz cabeçaped o…',\n",
       " 'pergunt ofendealguém viu kass nun andré mendonç ny? #stf #eleicoes2022 #forabolson #lulapresidente2022 #ny22',\n",
       " '#brazil#brazilianspring #stforganizacaocrimin #stfvergonhadobrasil #brazil #eleicoes2022 #fraude…',\n",
       " '@margrethew @lulaofic #eleicoes2022 #brasilnasru #brasil',\n",
       " 'kar lak need 66% of the rest of the ballot to win#az #electionday #eleicoes2022 #azgovern #azgov',\n",
       " 'algum don sóc pref queix form eleit vice, alckmin, conv negoc lei a…',\n",
       " '👨\\u200d👩\\u200d👦\\u200d👦inconform result urnas, bolson procur agênc sair brasil…',\n",
       " '@vej 58 milhã brasil est @nikoiasferr 🇧🇷🇧🇷🇧🇷🇧🇷🇧🇷🇧🇷🇧🇷🇧🇷🇧🇷🇧🇷🇧🇷🇧🇷🇧🇷🇧🇷🇧🇷🇧🇷🇧🇷🇧🇷🇧🇷🇧🇷🇧🇷🇧🇷🇧🇷…',\n",
       " '🤣🤣🤣🤣🤣 confes mei deprim coil momento, ver lembr vou rir próx…',\n",
       " 'cinism deboch demostr xand ny mostr pratic cert intocável…',\n",
       " 'thil really hurt my heart… we are bett than thil south carolin #eleicoes2022 #votebluetoprotectwomen #vote…',\n",
       " 'equip tr vai ter 500 carg ? dinh pov pag tud vergonh #pol #brasil #brasilnasru #eleicoes2022',\n",
       " 'ei @exercitoofic olh ministr fal ny hoj inacredit #sosff #eleicoes2022…',\n",
       " 'pt aguard said natal complet equip transição#pt #lul #pol #eleicoes2022',\n",
       " 'ag vai!#eleicoes2022',\n",
       " \"don hit 'restitui' instig ataqu ministr stf eua 👉 #portalaltadefinicao…\",\n",
       " '𖣔 fic pergunt 🧐⠀ deix opin abaix coment ⬇️💬✍🏻⠀◆⠀◆⠀◆⠀link post instagram…',\n",
       " 'dev posicion cristã pó 2022?é clic sab 👇#eleicoes2022 #vidacr',\n",
       " 'mai tap car sociedad pod levar!#barr #lul #novayork #eleicoes2022 #bolson #brasil',\n",
       " 'novemb 14th 20222022年１１月１４日salv bah brasil#ルラ #ボウソナロ #ブラジル大統領選 #brazil #brasil #eleicoes2022',\n",
       " '#m #pont #eleicoes2022',\n",
       " '~ candidat conden dá calot equip campanh eleitoralmatér completa@g1…',\n",
       " 'tet gast ‘nã consp desmont áre social’ lei cart armin fraga, edm bach p…',\n",
       " 'aind gent diz nad acontecendo… #bolson #eleicoes2022 #notic',\n",
       " '#lulapresidente2022 #eleicoes2022 #informacion',\n",
       " 'bab ovo cacete! #eleicoes2022',\n",
       " '🗣no egit lul conv mund sobr amazôn brasil milit reencen golp mumificado…',\n",
       " 'tv sen liv dest sextaf (18/11 espec tir dúv públic sobr oat moment polít e…',\n",
       " '🤖 \"conserv não, pod desmat amazônia\"#lul #eleições2022',\n",
       " 'músic ouv ministr barr #pol #eleicoes2022',\n",
       " '#brazil #manifestaçãobrasil #eleições2022 #brazilnew #t #brazilpolitic #sosforçasarm #brazilfreeofcommunism…',\n",
       " '\"o mercad memór govern deu errado\" @andreiasad @jornaldacbn lacr real sobr início…',\n",
       " 'charg dest sextaf gzh zer hora#charg #desenhodeimpr #fragadesenh #hum #fanzone…',\n",
       " 'pess equip transiçãobolson 31lul 283méd sal r$ 17 mil tweet repost…',\n",
       " '#repost @direita_cartoom págin cair, sabem…#bolsonarotemr #alexandredem #bolsonaro…',\n",
       " '@saraiva_carl @oldmangaleg @reporterenat @lulaofic @geraldoalckmin @meirell \"v cair bol sub dólar,…',\n",
       " '#cop27 , mem pra índ brasil sobr #eleicoes2022 #lulaladr #lulanacop…',\n",
       " 'olh inco pod susp urnas, alexandr mor pod susp mandar…',\n",
       " 'influenc polít econôm mai bolson surf ond (mal uma, pra tent cau pâ…',\n",
       " '#corrupt @corrupcaom @fichalimp @institutoinac @medicospelobr @uccorrupc @vitimacorrupc @anticorrupcao22…',\n",
       " 'brasil, #eleiçoes2022presid bolson reaparec + magr pess prox diz tranquil',\n",
       " 'pi polít mund #eleições2022 promes antig mei dor #fom',\n",
       " 'tod dia assist notic pi nova, aces arm form legal aument criminalidade, clar…',\n",
       " 'bom dia! #eleicoes2022 #eleiçõessbrasil2022 #eleicoeslimp #eleicoesbrasil',\n",
       " 'cont regres mund qatar🇧🇷⚽️ brasil🤦🏾\\u200d♂️🤦🏾\\u200d♂️🤦🏾\\u200d♂️#eleicoes2022#mundialqatar2022',\n",
       " '@felipenet exist fã pra tudo, vc fã imagin vai ter!!#fechaabocafelipenet #foraptz #lulaladr #eleicoes2022',\n",
       " 'melhor entrev vi ont maravilh @elenalandau2 @cnnbrasil elen equipe…',\n",
       " '✍️agend d\\' avu , 18n, 19 h👇lloc local d\\' @prosperistan #noubarril #9barril \"el rept del nou brasil l…',\n",
       " \"🤖 lul 'tom posse' exter mei vácu deix bolsonaro#lul #eleições2022\",\n",
       " '#copadomundo2022 #copadobrasil #eleicoes2022 #copadomundo2022 #copadobrasil #eleicoes2022 #copadomundo2022…',\n",
       " 'outstanding experienc to use thil #nftart service̖!!! 😊#t1win #drxwin #teachertwitt #antifascist #emoteartist…',\n",
       " 'केजरीवाल को lg का निेर्देश, ddc से होगी आप नेता जैस्मीन शाह की छुट्\\u200dटी #arvindkejriw #politic #delhiliquorscam…',\n",
       " '#puelectiin#patna#students#union#eleicoes2022',\n",
       " '#notic #brasil #eleicoes2022 #grev #cabecadeov',\n",
       " '#new #notic #brasil #eleicoes2022',\n",
       " 'i don’t know who edit this, but thil is the act fact @bjp4ind @atsbb @cnbctv18new @cnnbrk #eleicoes2022…',\n",
       " '#brasil #notic #eleicoes2022',\n",
       " '@alexandr extr antidemocr senh don dest país melhor apresent o…',\n",
       " '“pen mínima” exig entr equip tr lula?#brasil #lul #brazilwasstollen #eleicoes2022 #lulaladr',\n",
       " 'faz l #eleicoes2022 #lula2022 #bolsonaro2022',\n",
       " '#eleições2022 #short #youtubeshort',\n",
       " '#latingrammytnt#anitta#cop27 #lulapresidenteeleit #riptwitt #brazil #mrlul #eleições2022 democrac',\n",
       " 'vai aqu pergunt sen brasil faz ? #senadofed #eleições2022',\n",
       " 'ag hort frut vai pro vinagr supermercados, sacol feir livr xand dev deposto…',\n",
       " 'ond estamos???#eleicoes2022',\n",
       " 'crianç grit forç armadas! #brasil #eleições2022 #crianç #l',\n",
       " 'descobr pt ganh nord #nord #pt #partidosaf #fazol #pet #lul #bolsonaro…',\n",
       " 'ahhh bom ir dorm sab presid rouba, fal bonit crimin condenado, p…',\n",
       " '📰qu crim empr bolson cont bloqu alexandr moraes…',\n",
       " '⚖at golp particip pod respond div crim preso@uolnoticias…',\n",
       " '🤖 can gospel pastor kleb luc convid tr cultura#lul #eleicoes2022',\n",
       " 'lul corromp executivo, legislativo, judiciário, est direit dig vot ne…',\n",
       " 'verdad j paschoal, don bozopan raivan iam sair país? #eleições2022 quedê? 🤡🤡🤡#lulaeleit',\n",
       " 'mem fort represent moment pas vid inseto, disney #juntossomosmaisfortes…',\n",
       " 'deu continu send bom! continu send deus! #eleicoes2022 brasil contr bolson',\n",
       " '#linhascruz dest seman debat paix polít mov dest ano #eleições2022…',\n",
       " 'após pol lul x bolson #eleições2022, fal nad além #pecdatransicaoq desfoqu agora?',\n",
       " 'filósof acredit fracas tucan disput presid pt contribu surg bolso…',\n",
       " '👊🇧🇷#eleiçoes2022 #sosff #brazilwasstolen #vempraruabrasil',\n",
       " 'ape escrach mai absurd mestr fazem, deix pas coil branco…',\n",
       " '🤖 integr transição, boul defend revog event nom bolson fim mandat #lula…',\n",
       " '⚠️ paul mai inimig brasil tod amér latina! #brasil #eleicoesbrasil #eleicoes2022…',\n",
       " '#eleicoes2022 #m #fypシ #vir #fy #fyp #notic #patriot #bolsom',\n",
       " 'conv sad doi petist #fazol #pet #lul #bolson #manifest #brasil #pol #jairbolsonaro…',\n",
       " 'flagr transport legal ele 3° turn (noturn pó #eleições2022 concentr mov do…',\n",
       " '2022 caiu! guid mantega, imped exerc carg públic (ℹ',\n",
       " \"🤖 'estil bedel', mercad revolt set tr fal progr govern pront que…\",\n",
       " '#stfrompeuademocrac #stfvergonhanac #brasilwassto13n #sosff #sosforcasarm #sosmil #sosbrazil…',\n",
       " 'ag sen precil forç ste faz fogu urn antigas, ja ag constat fa…',\n",
       " 'sugest enquet @ospingosjp @jovempannew vot últ dia 30/10? bolson b exp…',\n",
       " 'luc hang i bolson i alexandr mor i lul informações#sosforcasarmadas…',\n",
       " '🤖 ant deix egito, lul encontr secretáriog onu autoridad europeias#lul #eleicoes2022',\n",
       " '#brazil #brasil #brazilianspring #election2022 #eleicoes2022 #brazilwasstol most pro amig acre…',\n",
       " 'just anul últ dev irregul proces mas, anime! alemanha!…',\n",
       " '🤖 tod gast govern revil nov gestão, diz gerald alckmin globonews#lul #eleicoes2022',\n",
       " '🤖 bolson complet dua seman reclu compromis apen resid ofic #lul #eleicoes2022',\n",
       " '2022 govern ced edifíc cidad 1, centrosp, #tarcis freit (@tarcisiogdf conduz transiçã…',\n",
       " 'desmont feir livr exércit paul sp ali vend tud ! #ibirapuera…',\n",
       " '#brazilianspring #eleicoes2022 #brasilnasru #brazil #brasil',\n",
       " 'além distrit federal, menos onz est registr moviment ruas, rio janeiro, são…',\n",
       " '#eleicoes2022',\n",
       " 'eua ajud gost nós, ajud torn ali inimig delesnunc boa i…',\n",
       " 'result enquet sobr #golp #eleições2022',\n",
       " 'so salv brasil#brasil #fraud #eleicoes2022#liberdad #lul #bolson #tiktok',\n",
       " '#tbt excel batepap deput @tabataamaralsp , iníc 2020aproveit oportun pra p…',\n",
       " 'mercado??design merc tod proces int human troc voluntár bem serviço…',\n",
       " 'documentar @racionaiscn @netflixbrasil trech @manobrown afirm ano 2000 vir a…',\n",
       " '2022 pol polít brasil tão exag duvid pess (ℹ…',\n",
       " 'strik onegu manteg equip tr lula#eleicoes2022 #brasil',\n",
       " 'vou desm #g #eleicoes2022 #lul #br',\n",
       " 'esp , #eleições2022 , vam reconstru brazil vez su muit@ canet pouc@',\n",
       " 'alguém pod avil sr luil inác empreg ger investimento? #ptnunc #eleicoes2022',\n",
       " 'cabeç ovo cem tod fal sobr fraud una alguém hom faraó brasil #eleicoes2022',\n",
       " 'decret arm bolson revog govern lula, anunc equip transição#decret #armas…',\n",
       " 'satan tá imped ir cultos, desd derrot democratic urnas, 60 milhõe…',\n",
       " 'aqu link pra relembr princip plan govern cir gom #eleições2022',\n",
       " '\"el ganha, toma!\"ministr barr (2021\"perd mané, amola\"ministr barr (2022 que…',\n",
       " 'hor ent porqu algum artist ca decad porqu fic alienados#eleições2022…',\n",
       " '#eleicoesbrasil #eleições2022#brazilelectiom #codigofontet',\n",
       " '@lulaofic #brasil tão verd quant segu presid descondenado😂😂😂😂😂 tem…',\n",
       " 'protecting the vot how offic supervised the election syst in midterms, 2024',\n",
       " \"🤖 tr grup têm 11 dezembr prop med 'revogaço' norm cad área#lula…\",\n",
       " 'hell th @elonmusk (just in case#brazilwasstolen #eleicoes2022',\n",
       " 'how brazil’ elec syst helped democracy defeat disinformation#politic #brazil #democracy #fakenews…',\n",
       " 'rom zem princip apo bolson 2º turn eleições@romeuz @jairbolsonaro…',\n",
       " 'exat , apo , vam tod faz parte!! precil sab pov faz part des jo…',\n",
       " 'gussi, unica, tr lula, etanol sob contrar pres baix semana#agrotimes…',\n",
       " 'sag continu sér pem dói#eleiçoes2022 #luladrãodevoltanaprisão#bolsonaroreeleito2022…',\n",
       " 'ele 1/12 justific au 1º turno#el #faroldabah #1turn #eleicoes2022 #pol',\n",
       " '#eleições2022 | xenofobia, intol relig misogin trê crim odi lid aumento…',\n",
       " '@zacarias_fort @paulofilippu esmoreç insist persist tud #canalh qu fazer…',\n",
       " \"🤖 pec tr 'ag congresso', diz wellington dia sobr comp gast merc vê risc alt na…\",\n",
       " '#eleicoes2022 #economia#sosff #brazilwasstolen #vempraruabrasil',\n",
       " '🤖 lul dev visit argentin ant posse, diz cel amorim#lul #eleicoes2022',\n",
       " 'alguém consid govern atual eleito, boa opç brasil, revel intelig caráter…',\n",
       " 'we must hav faith in our elections, regardl of what party we support #eleicoes2022',\n",
       " 'fraud #eleicoes2022',\n",
       " 'toa muit vot l pt artist ent volt paraí dinheiro…',\n",
       " \"freedom isn't free!#eleicoes2022 #brazilianelectiom #eleccionesbrasil #brazilianspring #pr #new #freespeech…\",\n",
       " 'ele 60 dia após cad turn justific au',\n",
       " 'bolson retom agend próx semana#brasil #bolson #agend #abat #tratamento…',\n",
       " '#pol #eleicoes2022',\n",
       " 'carec jov pan levant dúv sobr \"gráfica\" #bolsonarovagabund #perdeuman ter par subi…',\n",
       " 'cad vez perig faç algum coil @stf_ofic @alexandr @mpf_pgr #eleicao2022 #eleicoes2022…',\n",
       " 'imagin quartel abr portã acolh manifest imagina!#eleicoes2022…',\n",
       " '🧵 jov pan notic primeiroministr holanda, mark rutte, “confirmou” fraud nas…',\n",
       " '#forabolson #eleicoes2022 #respeitoademocrac #respeitoaconstitu',\n",
       " '@quebrandootabu tod auê mimim manifest golp (com apo prf após derrot b…',\n",
       " 'phot show brazil protest in 2016, not 2022#politic #brazil #factcheck #fakenew #el #eleições2022…',\n",
       " 'escrit estrel , pi polít mund #eleições2022',\n",
       " '#brasil quebr novidad ufa , vot fern @haddad_fern esp #eleições2022 vam recons…',\n",
       " 'hoje, 21h, est canal @redef fal sobr impact 2022 mei evangélico…',\n",
       " 'craqu brasil neym cit cutuc thiag brun gaglias camil 10 reaç instagram…',\n",
       " '#eleicoes2022 #trot #fraud #flop #fly',\n",
       " 'períod elei passou, perceb gost twitter, gost areng #eleicoes2022 #twitt',\n",
       " 'mis observ elei ➡️ @transparenc @caoeste_ong destac boa prát elei brasil gr…',\n",
       " 'pra têm probl amin austrál 2016 anul virtud desconfianç na…',\n",
       " 'cad enxad 1000 minhoc vam fund aind #fraudenasurn #eleicoes2022 #ptnuncamais❌',\n",
       " 'fat apen 1 cad 4 brasil eleg \"novo\" presidente, represent mai #eleicao2022 #eleicoes2022',\n",
       " '🤖 pec tr equip lul far reun part articul votação#lul #eleicoes2022',\n",
       " 'bolsonaro’ party doubled again on election fraud conspiracy#politic #brazil #democracy #eleições…',\n",
       " '૩૮ કલોલ વિધાનસભાના ભારતીય જનતા પાર્ટીના લોકપ્રિય ઉમેદવાર શ્રી લક્ષ્મણજી પી ઠાકોર ( બકાજી એ જંગી જન સમર્થન સાથે પો…',\n",
       " '@danuzio_net ato golpistas!tod responsavel após apur rigorosa!#golpenuncamais…',\n",
       " 'tio prof repersent lul presid 13 2°turn vitór ❤️⭐ forabolson !!!…',\n",
       " 'pist pou clandestin amazônia, nav abandon mar quilômetr fronte ocup nossas…',\n",
       " 'to be praised you just need to follow the leftwing agend everything el is fascism @bpolitic @opinion…',\n",
       " \"🤖 lul diz ter 'obrig moral' faz rep pov indígenas#lul #eleicoes2022\",\n",
       " '🤖 presid uni brasil, biv negoc esp câm troc apo lul arthur lira#lula…',\n",
       " 'saind quente, clim pré copa!!! #sat #pol #eleicoes2022 #patriotar #copadomund',\n",
       " 'hahah via @joaquinteix grup @telegram_br! excel @infomoney #pol #brasil #eleicoes2022',\n",
       " '🤖 diz pec transição, tir bol famíl tet gastos#lul #eleições2022',\n",
       " 'fra apresent plan govern qu govern brasil merc vergonh estrad…',\n",
       " 'mané recl ch mané🤷🏼\\u200d♀️#eleicoes2022 #el #ele',\n",
       " 'viv ditad escancarada! #alexandredemoraesnacad #eleicoes2022 #brazil #brasilnasruas…',\n",
       " 'diferenç cl cupanherôs! #lulapresidente1️⃣3️⃣ #forabolson #eleicoes2022 #cop27 #confirmed',\n",
       " '@policiafed carl zambell vai hoj progr pânic jov pan ach ótim oportun par…',\n",
       " 'presid eleit @lulaofic dis irá apo ajud nov projet viag interplanetár de…',\n",
       " '#tánaredecont #eleições2022 | 171122 pl vai abr mão 237 polít eleit tod país dos…',\n",
       " '@osvaldolucaf1 @claudia28671794 @movadvdireitabr #sosforcasarm #brazilwassotolen #brasil #notíc #informção…',\n",
       " '@revista #sosforcasarm #brazilwassotolen #brasil #notíc #informç #el #eleicoes2022…',\n",
       " '@profpaulamaril #sosforcasarm #brazilwassotolen #brasil #notíc #informç #el #eleicoes2022…',\n",
       " '@joao_jb22 @claudia28671794 @carlosbolson #sosforcasarm #brazilwassotolen #brasil #notíc #informção…',\n",
       " '@franzfiocruz @eliz_audut #sosforcasarm #brazilwassotolen #brasil #notíc #informç #el #eleicoes2022…',\n",
       " '@claudio531531 @claudia28671794 #sosforcasarm #brazilwassotolen #brasil #notíc #informç #eleições…',\n",
       " '@izabellef @claudia28671794 @alanlopesr #sosforcasarm #brazilwassotolen #brasil #notíc #informção…',\n",
       " '@kimpaim #sosforcasarm #brazilwassotolen #brasil #notíc #informç #el #eleicoes2022…',\n",
       " '@gazetadopov @gprepubl #sosforcasarm #brazilwassotolen #brasil #notíc #informç #el #eleicoes2022…',\n",
       " '@terrabrasilnot #sosforcasarm #brazilwassotolen #brasil #notíc #informç #el #eleicoes2022…',\n",
       " '@jovempannew #sosforcasarm #brazilwassotolen #brasil #notíc #informç #el #eleicoes2022…',\n",
       " '@brom_elil #sosforcasarm #brazilwassotolen #brasil #notíc #informç #el #eleicoes2022…',\n",
       " 'esquerd gost ver nord pobre, pr festas#eleicoes2022 #brazilianelections…',\n",
       " '@thiag eit petist ment grau máx car tav lit tent esfaqu um…',\n",
       " '@adilsonesp #sosforcasarm #brazilwassotolen #brasil #notíc #informç #el #eleicoes2022…',\n",
       " '#sosforcasarm #brazilwassotolen #brasil #notíc #informç #el #eleicoes2022 #bolsonaropresidente…',\n",
       " '@gustamito22 @10_5_6_5 #sosforcasarm #brazilwassotolen #brasil #notíc #informç #el #eleicoes2022…',\n",
       " '@edraposo_ @opropriofak #sosforcasarm #brazilwassotolen #brasil #notíc #informç #el #eleicoes2022…',\n",
       " '@moni61703201 #sosforcasarm #brazilwassotolen #brasil #notíc #informç #el #eleicoes2022…',\n",
       " '@alertatot @rmotta2 #sosforcasarm #brazilwassotolen #brasil #notíc #informç #el #eleicoes2022…',\n",
       " '#eleicoes2022 #transp #lil #apenasqueremososcodig #paraaud #nossodireit #constituicaofed',\n",
       " '@ospatriotasbr #sosforcasarm #brazilwassotolen #brasil #notíc #informç #el #eleicoes2022…',\n",
       " '@joaquimleitemm @aloksharma_rdg #sosforcasarm #brazilwassotolen #brasil #notíc #informç #eleições…',\n",
       " 'part pl descobr muit coil ped anul 8 senadores, 99 deput federais, 12…',\n",
       " '@senadofederal@camaradeput @arthurlira_@augustosnun @edugiraoofic @folha_pol @estadaopol #bdrj…',\n",
       " 'exclu pl vai ped anul 2022#brasil #brazil #bolson #lul #eleicoes2022 #eleicoes…',\n",
       " '@lulaofic carona?olh mensal ai gente@senadofederal@camaradeput @arthurlira_@augustosnun …',\n",
       " '@randolfeap falt @lulaoficial, título,né?@senadofederal@camaradeput @arthurlira_ …']"
      ]
     },
     "execution_count": 26,
     "metadata": {},
     "output_type": "execute_result"
    }
   ],
   "source": [
    "tweets_processados"
   ]
  },
  {
   "cell_type": "code",
   "execution_count": 35,
   "metadata": {},
   "outputs": [
    {
     "name": "stdout",
     "output_type": "stream",
     "text": [
      "In Brazil And U.S., Elections As Stress Tests For Democracy#politics #brazil #UnitedStates #democracy #eleições…  ,  Neutro\n",
      "Continuamos na luta! #brazilwasstollen #Eleicoes2022  ,  Neutro\n",
      "Veja a lista de 43 pessoas físicas e jurídicas suspeitas de financiar atos antidemocráticos (Piada pronta):.09 -…  ,  Neutro\n",
      "É a política no Brasil tá como? #Politica #Brasil #Eleicoes2022 @iRodolffo te explica melhor 😂😂😂🧨🔫🖋️🔪💸🚜🥊🏹🍕🥩🍳🐀🐄  ,  Neutro\n",
      "@Seondetails #PERDEUMANÉ#LulaJá #LulaPresidente #Lula2022 #Lula#Eleições2022 #Eleiçoes22 #Brasil#FORABOLSONARO…  ,  Neutro\n",
      "🤖 Cotado para Ministério da Justiça, Dino defende revogação de decretos de Bolsonaro sobre armas#Lula #Eleicoes2022 ,  Neutro\n",
      "2022 - Rodrigo Garcia (@rodrigogarcia_) e #Tarcisio de Freitas (@tarcisiogdf) se reúnem hoje às 15hs (ℹ…  ,  Neutro\n",
      "#eleiçõessbrasil2022 #eleições2022 #BrasilNasRuas #BrasilFoiRoubado #BrasilAcimaDeTudoDeusAcimaDeTodos #  ,  Neutro\n",
      "Segundo dados, 26% dos brasileiros dizem que pegaram ranço da camiseta amarela do #Brasil depois das #Eleicoes2022.…  ,  Neutro\n",
      "Já me pronunciei contra as manifestações golpistas. Mas não esperem apoio meu para esse governo #Lula 3.0, ao qual…  ,  Negativo\n",
      "Pé de barro. Faça o que eu digo, não o que eu faço. Canalhas.@GeneralMourao #Eleicoes2022 #eleicoesnomeio #forabozo  ,  Neutro\n",
      "Liberdade acima de tudo?Isso é o pior dos mundos: o resultado da equação MilicoXPastorxLunático.@STF…  ,  Neutro\n",
      "A ver se ele não se esquece das próteses penianas.#Eleicoes2022 #eleicoesnomeio #forabozo  ,  Neutro\n",
      "Vão reclamar no Qatar quando o Brasil perder a copa?#Eleicoes2022 #eleicoesnomeio #forabozo  ,  Neutro\n",
      "Limpeza.#Eleicoes2022 #eleicoesnomeio #forabozo  ,  Neutro\n",
      "Roletrando.#Eleicoes2022 #eleicoesnomeio #forabozo  ,  Neutro\n",
      "Empreendedorismo informal.#Eleicoes2022 #eleicoesnomeio #forabozo  ,  Neutro\n",
      "🏆 Vitória de ponta a ponta. A cobertura O POVO nas Eleições 2022, apresenta dados do Portal ao TikTok, resultado…  ,  Neutro\n",
      "Coisas caras.#Eleicoes2022 #eleicoesnomeio #forabozo  ,  Neutro\n",
      "“O mercado” nunca teve problema com isso. A casa grande da Faria Lima.#Eleicoes2022 #eleicoesnomeio #forabozo  ,  Neutro\n",
      "Não tem como este governo dar certo. #eleiçoes2022 #LulaVergonhaNacional  ,  Neutro\n",
      "Velhos hábitos são difíceis de mudar.  Lá se vão 32 anos. #Eleicoes2022 #eleicoesnomeio #forabozo  ,  Neutro\n",
      "🤖 'Ninguém está passando fome no mercado' financeiro, diz presidente do PT após reação à PEC da Transição#Lula…  ,  Neutro\n",
      "@RosianeMariaAr1 lembra muito a milicia de Hugo Chavez. E vários estão vestidos de canários-zumbis. Independente da…  ,  Neutro\n",
      "Houve fraude nas #eleiçoes2022? O que o #tsevergonhanacional tem a dizer? Perdeu mané, não amola? É isso mesmo…  ,  Neutro\n",
      "... eu espero #Eleições2022 vamos reconstruir o Brazil ; en meio a dor da #Fome com a seleção ganhando ou perdendo…  ,  Neutro\n",
      "#BrasilNasRuas #BrasilianSpring #eleiçoes2022 #eleicoeslimpas  ,  Neutro\n",
      "#Eleicoes2022 #brazilianelections #EleccionesBrasil #BrazilianSpring #press #News #FreeSpeech #freedom #cop27      …  ,  Positivo\n",
      "da Obra: \"Apagando fogo com gasolina\"#Eleicoes2022 #brazilianelections #EleccionesBrasil #BrazilianSpring #press…  ,  Neutro\n",
      "🤖 De fora do debate da PEC, grupo econômico da transição vive mal-estar e receio de baixas#Lula #Eleicoes2022 ,  Neutro\n",
      "Eles gostam de apagar incêndio com gasolina.#Eleicoes2022 #brazilianelections #EleccionesBrasil #BrazilianSpring…  ,  Neutro\n",
      "🤖 Macron apoia proposta de Lula de realizar COP na Amazônia#Lula #Eleições2022 ,  Neutro\n",
      "VOCÊ tem um dever a cumprir!Consulte a sua conciência.#Eleicoes2022 #brazilianelections #EleccionesBrasil…  ,  Neutro\n",
      "Esse ministro é um livro aberto. Um olhar pra capa e nem tem o que esconder. Asqueroso.#Eleicoes2022…  ,  Neutro\n",
      "Meritocracia.#Eleicoes2022 #eleicoesnomeio #forabozo  ,  Neutro\n",
      "🤖 TCU propõe à transição corte de incentivos tributários para gerar R$ 200 bilhões extras#Lula #Eleicoes2022 ,  Positivo\n",
      "A hipocrisia brasileira de todos os dias (desde 22/04/1500). Casa grande e senzala. O Bozo também é de origem pobre…  ,  Neutro\n",
      "#Eleicoes2022 #eleicoesnomeio #forabozo  ,  Neutro\n",
      "\"Não há responsabilidade social sem responsabilidade fiscal\" Pérsio Arida, economista que faz parte da equipe de tr…  ,  Neutro\n",
      "Embaixador Fernando Igreja chefiará cerimonial na solenidade de posse. Veja quais são os nomeados…  ,  Neutro\n",
      "Milicos sendo milicos. “Na ditadura não havia corrupção.” Tá çertu.#Eleicoes2022 #eleicoesnomeio #forabozo  ,  Neutro\n",
      "\"Quem não quer ser criticado, quem não quer ser questionado, que fique em casa.\"@alexandre Não pera 🤔#Eleicoes2022 ,  Neutro\n",
      "@DoraKramer nem disfarçaram. Os 2 não são adeptos aos ritos formais #transição #Eleicoes2022 @geraldoalckmin ,  Neutro\n",
      "Novas atualizações#Eleicoes2022 #JairBolsonaro  ,  Neutro\n",
      "🤖 Lula fala em evento de organizações civis brasileiras na COP 27#Lula #Eleicoes2022 ,  Neutro\n",
      "ROUBARAM O SEU VOTO 🇧🇷#eleicoes2022 #bolsonaro2022 #bolsonaro #forcasarmadas #tse #stf #alexandredemoraes…  ,  Neutro\n",
      "@o_antagonista Faz o L #Brasil #Eleicoes2022 #manifestação #SOSFFAA ,  Neutro\n",
      "Significa que el asunto del MP en #Eleicoes2022 no se convirtió en una historia de Caín y Abel.MP leyó Caín en Ja…  ,  Neutro\n",
      "@miriamleitao @LulaOficial Enquanto isso a companheirada trabalha…#COP27 #Eleicoes2022 #INTERVENCAOFEDERALJA…  ,  Neutro\n",
      "🤖 França apoia proposta de Lula para COP30 na Amazônia#Lula #Eleicoes2022 ,  Neutro\n",
      "A gente sabia que as máscaras iam cair, mas foi mto rápido! Como o @jairbolsonaro segura o Brasil nos trilhos, Meu…  ,  Negativo\n",
      "O negócio aqui não é fazer o \"L\" e sim desfazer o \"L\"#Bolsonaro #Eleicoes2022 ,  Neutro\n",
      "#bolsonaro #ciência #eleições2022Ciência para não cientistas: como ser mais racional em um mundo cada vez mais irr…  ,  Neutro\n",
      "Acho que a jovem pan, os melhores estão saindo. Eu já sai.#constantino #jovenpannews #CensuraNao #Eleicoes2022  ,  Neutro\n",
      "@meanwhileinau Now for the election heist Labour $1.05 to WIN. Coalition $9 and $500 anyone else 👀 #DanMustGo…  ,  Neutro\n",
      "Perdeu, mané, não amola...manifestaçoes antidemocráticas e manipulações... Como diria Samuel Johnson o patriotismo…  ,  Neutro\n",
      "#lula #LulaPresidente2022 #Eleicoes2022.Bolsonarista disse em francês : Orem pelo o Brasil , eles prometeram a sa…  ,  Neutro\n",
      "Esse ficou magoadinhe com as manifestações pro Bolsonaro, segue agenda! #Eleicoes2022  ,  Neutro\n",
      "Crime eleitoral - 154 mil inserções a menos para Bolsonaro #eleições2022...  ,  Neutro\n",
      "A saga continua. Mais uma da série PENSAR NÃO DÓI...#Eleiçoes2022 #LULADRÃOdevoltanaPRISÃO#BolsonaroReeleito2022  ,  Neutro\n",
      "Saiba quem é quem...A solução é... Continuar a  saga. Mais uma para série: \"PENSAR NÃO DÓI...\"#Eleiçoes2022…  ,  Negativo\n",
      "Só nos resta uma solução, e é... Continuar a  saga. Mais uma para série: \"PENSAR NÃO DÓI...\"#Eleiçoes2022…  ,  Negativo\n",
      "Saiba quem é quem...Ou nos Brigamos ou vão tocar fogo no BRASIL A solução é... Continuar a  saga. Mais uma para…  ,  Negativo\n",
      "Verdades, verdadeiras.A  saga. Mais uma para série: \"PENSAR NÃO DÓI...\"#Eleiçoes2022 #LULADRÃOdevoltanaPRISÃO…  ,  Neutro\n",
      "#COP27@jairbolsonaro jamais teria, em momento algum da História recente, nem futura, a grandeza de um Estadista co…  ,  Neutro\n",
      "👨‍👩‍👦‍👦Atos golpistas pró-Bolsonaro são liderados por políticos, policiais, sindicalistas e ruralistas, mostram inv…  ,  Neutro\n",
      "#eleições2022 #fypシ #fyp #viral #fy #noticias  ,  Neutro\n",
      "@TSEjusbr #Eleicoes2022 #PovoNasRuas  ,  Neutro\n",
      "#paulofigueiredo #JornalNacional #Eleicoes2022 #ministrodadefesa #ministro #lula #Bolsonaro #JairBolsonaro…  ,  Neutro\n",
      "\"Perdeu, mané\" é uma frase classica de quem costuma agir como bandido. Esse tipo de atitude reflete o que o ministr…  ,  Neutro\n",
      "#Eleicoes2022 #news #Noticias  ,  Neutro\n",
      "Oi Galera! Conhecem o Ditado Que Pagam os Justos pelos Pecadores? By Dom Quijote#VamosJuntosPeloBrasil…  ,  Neutro\n",
      "O cara dobrou a aposta e chegou pedindo a prisão do ministro da defesa 🤣🤣🤣🤣 dobrou a aposta, acho que vamos comemor…  ,  Neutro\n",
      "O Senado está dormindo em berço esplêndido.🤡🇧🇷#CensuraNao #Eleicoes2022 #VemProQG #SOSFFAA ,  Neutro\n",
      "🤖 Deputado, políticos e empresários: quem são os identificados por envolvimento com bloqueios golpistas#Lula…  ,  Positivo\n",
      "#Eleicoes2022 #ExercitoBrasileiro #FFAA #BrasilNasRuas ,  Neutro\n",
      "Deolane venceu a prova do Fazendeiro e c livrou da roça, ficando André, Bia e Ruivinha - PRA QUEM VAI SUA TORCIDA?…  ,  Neutro\n",
      "#bolsonaropresidente #bolsonaro2022 #bolsonaro #eleições2022 #eleicoes2022 #bolsonaro22 #bolsonaromito…  ,  Neutro\n",
      "🤖 Veja os principais pontos do texto da PEC da Transição apresentado pelo governo eleito #Lula #Eleicoes2022 ,  Neutro\n",
      "#Fato #Bolsonaro #Polícia #Democracia #Direita #Eleiçoes2022  ,  Positivo\n",
      "Ex-presidente dos EUA precisa ganhar as prévias do Partido Republicano para concorrer ao cargo.Via: Metrópoles.…  ,  Neutro\n",
      "Los Angeles just elected its first Church of Scientology Mayor : Karen Bass PRAISE XENU! 👽 🌋 👽 #Scientology…  ,  Neutro\n",
      "Pelo menos vamos ver a Soraya massacrando o padre e o Bozo mais uma vez 😆 #TerceiroTurno #Eleicoes2022…  ,  Neutro\n",
      "É sobre isso , o silêncio só está dando a eles palco pra mostrar que são piores que pensávamos. A cass tá caindo em…  ,  Neutro\n",
      "\"Agora, foi uma verdadeira festa. As pessoas vinham e parabenizavam. Diziam que estavam com muita saudade do Brasil…  ,  Neutro\n",
      "@joicehasselmann A sigla já diz tudo PL Partido, Ladrão#Eleicoes2022 #LulaPresidente1️⃣3️⃣ ,  Neutro\n",
      "O povo sente o cheiro da falha, bem, como sente pela a primeira vez, o cheiro da justiça.   SoS……  ,  Negativo\n",
      "Otarios kkkkk #ForaBolsonaro #ForaBolsonaroeSuaQuadrilha #BolsonarismoMATA #Eleicoes2022 #Eleições2022  ,  Neutro\n",
      "𖣔 Concordo! 🎯🎯🎯⠀ Deixe sua Opinião abaixo nos Comentários ⬇️💬✍🏻⠀◆⠀◆⠀◆⠀Link do Post em nosso Instagram:…  ,  Neutro\n",
      "Votei nulo no 2o turno. Em um hipotético (e insano!) 3o turno, votaria no Barba com força. @LulaOficial Bolsonari…  ,  Neutro\n",
      "Chora!!!!!! #ForaBolsonaro #ForaBolsonaroeSuaQuadrilha #ForaBolsonaroeSeuBandodeMalucos #BolsonarismoMATA…  ,  Neutro\n",
      "Olha isso gente, olha isso presidente @jairbolsonaro. Acho que o @TSEjusbr deve saber disso ou o @STF_oficial... Né…  ,  Neutro\n",
      "Alexandre de Moraes_STF bloqueia empresas que estão financiando crimes/golpes, BR afora(segue a lista apresentada…  ,  Neutro\n",
      "🔴 FOI CONFIRMADO: Luiz Inácio Lula da Silva recebe a PI0R notícia durante a COP27 no Egito 🇪🇬  #lula #bolsonaro…  ,  Positivo\n",
      "🔴🇧🇷#Brésil: cela fait deux semaines que le président @jairbolsonaro est reclus dans sa résidence officielle à Brasi…  ,  Neutro\n",
      "Não sei qual a explicação para isso. Recebi num grupo e achei muito estranho. #Brasil #Eleicoes2022 #queporraeessa  ,  Negativo\n",
      "Equipe de transição ! 50 pessoas no total que serão pagas com o dinheiro do povo!  A farra continua! E eles fazem n…  ,  Negativo\n",
      "Passiva e uma paralização passiva,passiva e o caralho vocês não vêem isso não? vão todos pra puta que pariu que as…  ,  Neutro\n",
      "Saiu o último vídeo de análise dos dados das eleições! Vem ver os dados dos boletins de urna, problemas da \"análise…  ,  Negativo\n",
      "PGR toma o depoimento de Carla Zambelli (PL-SP) no caso em que ela sacou uma arma e perseguiu homem em São Paulo. F…  ,  Neutro\n",
      "“Perdeu Mané” é a resposta que uma sociedade passiva, que é desrespeitada pelo poder público a vários anos merece,…  ,  Positivo\n",
      "#Bozo já deixou o governo e está fazendo bico em uma lanchonete em #Curitiba. A lanchonete fica a beira da estrada…  ,  Neutro\n",
      "E posso garantir que possuo muito aos conhecimento na área do que ela é posso até mesmo sugerir que ainda saiba mai…  ,  Positivo\n",
      "Alguém poderia me explicar isso?#fraude #Eleicoes2022 #BrazilWasStolem #nordeste #LulaVergonhaNacional  ,  Neutro\n",
      "DIREITO ELEITORAL - VITÓRIA!!!Julgamento do Tribunal Regional Eleitoral do Rio Grande do Sul: aprovadas as contas…  ,  Neutro\n",
      "NESTA MANHÃ BOLSONARO DIRIGINDO UM CAMINHÃO 🇧🇷👏#shorts #eleições2022 #bo...  ,  Neutro\n",
      "Parace sacanagem, mas o rumo da prosa e bem por ai.Só nos resta uma solução, e é... Continuar a  saga. Mais uma…  ,  Neutro\n",
      "@alexandre @TSEjusbr @STF_oficial  corre aqui um minuto...#eleições #Eleicoes2022  ,  Neutro\n",
      "Detetive da Abin vigia o cemitério. #Eleicoes2022  ,  Neutro\n",
      "@giraldirenato Nem Bolsonaro, nem Mourão,Deixa a faixa na cadeira e a chave no portão. DILMA, EU AUTORIZO!…  ,  Neutro\n",
      "@profpaulamarisa Nem Bolsonaro, nem Mourão,Deixa a faixa na cadeira e a chave no portão. DILMA, EU AUTORIZO!…  ,  Neutro\n",
      "@FernandoHoliday Nem Bolsonaro, nem Mourão,Deixa a faixa na cadeira e a chave no portão. DILMA, EU AUTORIZO!…  ,  Neutro\n",
      "@AlanLopesRio Nem Bolsonaro, nem Mourão,Deixa a faixa na cadeira e a chave no portão. DILMA, EU AUTORIZO!…  ,  Neutro\n",
      "@cafecomferri Nem Bolsonaro, nem Mourão,Deixa a faixa na cadeira e a chave no portão. DILMA, EU AUTORIZO!…  ,  Neutro\n",
      "@kimpaim Nem Bolsonaro, nem Mourão,Deixa a faixa na cadeira e a chave no portão. DILMA, EU AUTORIZO!…  ,  Neutro\n",
      "Mesários elegantes admitem votos do ALÉM.#Eleicoes2022  ,  Neutro\n",
      "@Rconstantino Nem Bolsonaro, nem Mourão,Deixa a faixa na cadeira e a chave no portão. DILMA, EU AUTORIZO!…  ,  Neutro\n",
      "🔵 Pastor Ariovaldo fala sobre fraudes das igrejas bolsonaristas nas eleições 2022 | Daqui Pra FrenteAcompanhe!…  ,  Neutro\n",
      "@taoquei1 Nem Bolsonaro, nem Mourão,Deixa a faixa na cadeira e a chave no portão. DILMA, EU AUTORIZO!…  ,  Neutro\n",
      "Perguntar não ofende: se @jairbolsonaro tivesse sido reeleito, haveria questionamento das #urnaseletronicas, vigíli…  ,  Neutro\n",
      "#MemoriaHistorica #Eleicoes2022 #BrazilWasStolem #LulaNaCop #LulaLadrao  ,  Neutro\n",
      "Avisei que meus dedos estão frios, por isso apenas assinei a lista de presença.Eu fui muito bem recebido pelo mes…  ,  Neutro\n",
      "#Eleicoes2022 #lulapresidente2023 #NemTodoHeroiUsaCapa  ,  Neutro\n",
      "Pela minha autopreservação vou me calar sobre essas manifestações no Brasil. #manifestacao #Eleicoes2022 #chega…  ,  Neutro\n",
      "2014, 2018, 2022 #Eleições2022  ,  Neutro\n",
      "Pq nenhum dos filhos do Jair Bolsonaro estão entre sol e chuva, nas madrugadas da vida dormindo e comendo nas barra…  ,  Neutro\n",
      "Depois da Polícia Civil, agora é a Brigada Militar do RS que faz relatório identificando líderes dos protestos anti…  ,  Positivo\n",
      "Aprendendo um pouquinho da Constituição:#Eleicoes2022 #lulapresidente2023 #NemTodoHeroiUsaCapa  ,  Neutro\n",
      "A pergunta que vale um milhão:Por que o atual governo apagagou todos os arquivos dos computadores oficiais?!…  ,  Negativo\n",
      "#politica #eleicoes2022 #lula #bolsonaro #direita #esquerda #corrupção #stfvergonhamundial #globolixo #impunidade  ,  Neutro\n",
      "Assim como outros bolsonaristas, Ethienne Gayer divulgou notícias falsas sobre o processo eleitoral.By…  ,  Neutro\n",
      "Segundo eles, a maioria dos eleitores confiam nas urnas.Vamos ver?\"Rede Mundial de Justiça Eleitoral -…  ,  Neutro\n",
      "#transicao #eleicoes2022 #equipedetransicao  ,  Neutro\n",
      "Pessoas próximas ao presidente descrevem seu estado como “apático” ou “depressivo”. Bolsonaro teve pouquíssimos com…  ,  Neutro\n",
      "The Erick Rabello News is out!  ,  Neutro\n",
      "🤖 Número de ministérios será 'muito próximo' do número de grupos técnicos da transição, diz Alckmin#Lula…  ,  Neutro\n",
      "@ViniNMiranda @carolmorand Festa do Gueto é perfeita. Passa Pano e falta de senso crítico é terrível.…  ,  Neutro\n",
      "Já tô dentro🔑#IRENE #Eleicoes2022 #Bolsonaro #lula #vendasemaparecer #emprego #vaga… https://t.co/A6WjdWfjNg ,  Neutro\n",
      "adorei @rodrigobocardi \"e esse tanto de gente na equipe de transição?\". Exatamente isso @ptbrasil sendo PT. Reunião…  ,  Neutro\n",
      "#NoArNaCBN @carolmorand deu uma viajada legal, bem utópica e divertida, no #VivaVozCBN\"No mundo normal Bolsonaro i…  ,  Neutro\n",
      "PQP…#Eleicoes2022 #Bolsonaro #LulaLadrao  ,  Neutro\n",
      "Il partito liberale di #Bolsonaro chiede ufficialmente che vengano invalidate le elezioni del 2022 per le gravi fal…  ,  Neutro\n",
      "+ e por favor fanáticos do lulismo-petismo: não ataquem @CBNoficial @veramagalhaes @rodrigobocardi nem a imprensa,…  ,  Neutro\n",
      "\"Se vai fazer gov novo repetir velhos vícios de capitalismo de compradio\" @veramagalhaes #NoArNaCBN assertiva sobre…  ,  Neutro\n",
      "🤖 O Brasil na imprensa alemã (16/11)#Lula #Eleições2022 ,  Positivo\n",
      "Vai vendo Brasil...Documento elaborado pela auditoria do Instituto Voto Legal diz que não é possível validar o res…  ,  Neutro\n",
      "FRANCAMENTE!Porque será, heim???Por um acasa?Que passar por cima de dezembro ???@exercitooficial@TuckerCarlson…  ,  Neutro\n",
      "Equipe de transição recebe relatório com 29 ÁREAS DE RISCO, inclusive EDUCAÇÃO E SAÚDE! O que o GOVERNO BOLSONARO f…  ,  Positivo\n",
      "Somente uma dúvida para:A FR4UD3 foi realizada pela Empresa Terceirizada ou pelos funcionários do @TSEjusbr?…  ,  Positivo\n",
      "Oh seu cara do capiroto acha que você está acima da constituição? #CensuraNao #SOSFFA #Eleicoes2022 #LulaLadrao  ,  Neutro\n",
      "This is our current situation 🤦🐰🕳️ #Fetterman #BidenWorstPresidentEver  #Eleicoes2022 #Midterms2022 #MAGA  ,  Neutro\n",
      "#RioBravoInvestimentos #SaudePublica #SaudePublicanoBrasil #SUS #Saude #SaudeColetiva #DireitoaSaude #Eleições2022 …  ,  Neutro\n",
      "@nytimes #BRAZIL Brazilians of all ages, beliefs and social conditions are in the streets peacefully, against censo…  ,  Neutro\n",
      "Frase do dia: Covarde é aquele que se esconde. Quem quiser Ele @planalto @jairbolsonaro que vista carapuça #Eleicoes2022 ,  Neutro\n",
      "Cada dia que passa eu me divirto mais... Hahahahahahah#Eleicoes2022  ,  Neutro\n",
      "📢LULA LADRÃO, SEU LUGAR É NA PRISÃO 🔐👹#fraude #eleicoes2022 #naomerepresenta  ,  Neutro\n",
      "Avante Brasil! #Eleicoes2022 #Brasil #BrasilNasRuas #AcordaBrasil  ,  Neutro\n",
      "@MsBraun7 Eu acho que zoação, mas bolsonarista é doido mesmo. O cara viaja pendurado no caminhão. O outro fica grit…  ,  Neutro\n",
      "Vários bolsonaristas, como Rodrigo Constantino, têm compartilhado matéria d'O Antagonista que diz que o PL pedirá a…  ,  Neutro\n",
      "Professores da #USP rebatem informações falsas a respeito das #urnas eletrônicas  ,  Neutro\n",
      "Igual ao antigo PSL que rachou depois das eleições de 2018. É o preço de se associar com a ignorância. Caro... Mas…  ,  Neutro\n",
      "\"Vamos punir com todo rigor o responsável por qualquer atividade ilegal, seja garimpo, extração de madeira”, afirmo…  ,  Positivo\n",
      "#lula #presidentelula #brasil #eleicoes2022 #bolsonaro #bpmoney ,  Neutro\n",
      "🗣Trabalhando cerca de 24 minutos por dia, núcleo próximo a Bolsonaro teme que ele não conclua o mandato…  ,  Neutro\n",
      "No site do Fórum econômico mundial encontrará líderes que trabalham para nom. Governador do rio grande do sul, Edua…  ,  Neutro\n",
      "Segundo o general da reserva, a passagem do adereço “é do presidente que sai para o presidente que entra”.…  ,  Neutro\n",
      "Movimento de produtores rurais com Lula já conta com mais de 500 adesistas, afirma articulador.By @diariodegoias…  ,  Positivo\n",
      "Então se alguém resolver judicializar a apuração das urnas para anulação do pleito , é o STE que vai jugar o caso?…  ,  Neutro\n",
      "Lula colocando Paulo Câmera na equipe de transição... seria castigo por nós não apoiar nenhuma candidatura dele ao…  ,  Neutro\n",
      "Após eleições, esta é a maior preocupação dos investidores, segundo a XP#Economia #Eleições2022 #FundosImobiliários ,  Neutro\n",
      "Carona em jatinho amplia lista de questionamentos sobre relação de Lula com empresários #Política fonte:…  ,  Neutro\n",
      "@spraguepond @1BoysFan @lookback69 #BRAZIL #BrazilWasStolen #Eleicoes2022 Brazilians of all ages, beliefs and socia…  ,  Neutro\n",
      "Missões de Observação Eleitoral ➡️ Rede Mundial de Justiça Eleitoral - @RMJEoficial destaca a integridade do trabal…  ,  Neutro\n",
      "@geraldoalckmin @LulaOficial Isso tudo parece o rascunho do inferno, o POVO pede TRANSPARÊNCIA das #eleições2022 e…  ,  Neutro\n",
      "Das Eleições para a Copa do Mundo. #eleicoes2022. Resgatando o patriotismo e a bandeira do Brasil. #fazoL  ,  Neutro\n",
      "🤖 Servidora pública de Itaipu é nomeado para equipe de transição de Lula#Lula #Eleicoes2022 ,  Positivo\n",
      "Se ficarmos nessa de só olhar e esperar, vai ver a merda que ainda vai dar.Só nos resta uma solução, e é... Conti…  ,  Negativo\n",
      "“Acabou, porra! Até quando vão ficar de mimimi?” #Eleicoes2022 #eleicoesnomeio #forabozo  ,  Neutro\n",
      "A criatividade do brasileiro.#Eleicoes2022 #eleicoesnomeio #forabozo  ,  Neutro\n",
      "#Eleições2022 - Os equipamentos são armazenados no Tribunal Superior Eleitoral e nos Tribunais Regionais Eleitorais…  ,  Neutro\n",
      "Que tal um #podcast porreta e muito sincerão sobre #FTX e a resiliência de #criptomoedas; o relatório do exército s…  ,  Neutro\n",
      "O PL de Bolsonaro disse que iria pedir a anulação das eleições, os eleitos concordam com isso!!PL, fez 129 Deputa…  ,  Neutro\n",
      "Empresários do ramo de hotelaria, bares e restaurantes estão animados com a posse de Lula em janeiro. #Eleicoes2022…  ,  Neutro\n",
      "@Biakicis Vazou a carta do PL para pedir anulação das #Eleicoes2022  ,  Neutro\n",
      "Esse o motivo?#COP27 #BrasilNasRuas #Eleicoes2022 #Brasil  ,  Neutro\n",
      "Câmara de Vereadores de Maravilha homenageia a 58ª #ZonaEleitoral com Moção de Aplausos. A entrega foi feita pela e…  ,  Neutro\n",
      "Se na Alemanha pode, no Brazil também pode!Aqui não se trata de \"irregularidade\" mas de MEGA FRAUDE!#brazil…  ,  Negativo\n",
      "Pesquisa rápida aqui sobre o cenário atual:Vocês tem alguém próximo, muito próximo, alguém querido, amado que está…  ,  Neutro\n",
      "Será que essa máscara vai cair quando????#noticias #LulaLadrao #UOLNews #Globo #oglobo #Eleicoes2022  ,  Neutro\n",
      "@JovemPanNews #brasil #newyork #eleicoes2022 #judiciario #justice #manifestacao #chegadecorrupção #brazil…  ,  Neutro\n",
      "Tucker Carlson: The left has run this country into the ground  ,  Neutro\n",
      "Sou a favor do auxílio trabalhador assalariado, sem convênio médico, odontológico. Sem vale alimentação/refeição. S…  ,  Neutro\n",
      "🤖 Morre Isabel Salgado, ícone do vôlei brasileiro, aos 62 anos#Lula #Eleições2022 ,  Neutro\n",
      "@slpng_giants_pt Quando um perfil mente para a sua plateia que sabe que é mentira e mesmo assim válida. Esse Slewpi…  ,  Neutro\n",
      "Brazil prosecutors seek to suspend top highway cop for alleged attempted voter suppression #politics #brazil…  ,  Neutro\n",
      "Lideranças apontam política anti-indígena de Bolsonaro como principal justificativa para o resultado dessas seções.…  ,  Positivo\n",
      "@ECantanhede Nossa, como o Lula é bom!!!! Fez tanto para o Brasil!!!!.... e seus comparsas, então? Desculpe-me, seu…  ,  Neutro\n",
      "@JoelPinheiro85 Tá aí um post que envergonha os brasileiros. Uma fraude aplaudida por perfis verificados de U$8. #fraude #Eleicoes2022 ,  Negativo\n",
      "SE ALGUÉM AINDA QUESTIONAR O RESULTADO DAS #Eleicoes2022 MOSTRE ESSA IMAGEM QUE FIGURA O CENÁRIO POLÍTICO DO BRASIL…  ,  Positivo\n",
      "#politica #eleicoes2022 #lula #bolsonaro #direita #esquerda #corrupção #stfvergonhamundial #globolixo #impunidade…  ,  Neutro\n",
      "Acorda povo, ainda dá tempo!!#BrazilWasStolem #Eleicoes2022 #VemPraRuaBrazil  ,  Positivo\n",
      "Será que a gente avisa o PL que se as #Eleicoes2022 forem anuladas, eles perdem a maior votação de um deputado no…  ,  Neutro\n",
      "#Bresil 🇧🇷/💥Des centaines de milliers de personnes continuent de manifester au Brésil, contre le résultat de l’…  ,  Neutro\n",
      "Oi gente! Qual a boa de HOJE? Ficaram sabendo que a História da Mil e uma Noites em Vênus com o Garoto é REAL? Pens…  ,  Neutro\n",
      "Caso e se o @plnacional_ peça o cancelamento das #eleiçoes2022 estão preparados para perder a maior bancada já elei…  ,  Neutro\n",
      "@AnaPaulaVolei Dos criadores de \"Eleição não se ganha, se toma!\", vem aí \"Perdeu mané, não amola!\". Mais uma obra d…  ,  Neutro\n",
      "Dos criadores de \"Eleição não se ganha, se toma!\", vem aí \"Perdeu mané, não amola!\". Mais uma obra de ficção do gên…  ,  Neutro\n",
      "@choquei Opa! Fiquei sabendo que o PL vai pedir a anulação dos 8 senadores, os 99 deputados federais, 129 deputados…  ,  Neutro\n",
      "➡️ \"Pois Deus não nos deu espírito de temor.\" 2 Timóteo 1:7#DeusPatriaFamiliaLiberdade #Eleicoes2022 #BrazilWasStolem ,  Neutro\n",
      "🤖 Alemanha propõe cooperação climática com o Brasil#Lula #Eleições2022 ,  Positivo\n",
      "“Acabou, porra!” Johnny Bravo perdeu!#Eleicoes2022 #eleicoesnomeio #forabozo  ,  Neutro\n",
      "Gente de bem com moral pra falar sobre transparência, patriotismo e rectidão. Uma geração de filhinhas de milicos q…  ,  Negativo\n",
      "#eleicao2022#Eleicoes2022#Election2022#eleicoeslimpasNão deixem essa nota cair no esquecimento.🚨NÃO excluiu a…  ,  Positivo\n",
      "O bolsonarismo criou duas realidades paralelasUma em que eles acreditam em fraude nas #eleições2022, sendo inadmi…  ,  Neutro\n",
      "Micos e milicos.#Eleicoes2022 #eleicoesnomeio #forabozo  ,  Neutro\n",
      "#Brasil | Partido de #Bolsonaro vai pedir a anulação das eleições. #Eleições2022 #EleccionesBrasil  ,  Neutro\n",
      "🤖 Lula faz discurso na COP27, no Egito#Lula #Eleicoes2022 ,  Neutro\n",
      "El escándalo más grande en la historia de Brasil.  Censura ,corrupción,presos políticos y el intento de Fraude elec…  ,  Neutro\n",
      "Só sei de uma coisa, se essa eleição ficar por isso msm, eu não saio de casa para votar nunca mais! Quem vai acredi…  ,  Neutro\n",
      "Perdeu mané, esse e o povo que se diz defender, a democracia do Brasil, que tristeza mais ela verdade..…  ,  Neutro\n",
      "🤖 Governo Lula não será 'gastador', mas é preciso garantir proteção social, diz Alckmin#Lula #Eleicoes2022 ,  Neutro\n",
      "Entendedores entenderão 🤣 🤘🏻 Siga ROCK COM HUMOR no Instagram e Tik Tok #rockcomhumor #meme #memes #rockmusic…  ,  Neutro\n",
      "Mourão diz que não vai passar faixa para Lula: \"não sou presidente\"#mourao #lula #faroldabahia #presidente…  ,  Neutro\n",
      "Acampamento Bolsonarista alaga em Brasília #lula  #bolsonaristas #eleicoes2022 #protestos #bolsonaro #caminhoneiros…  ,  Neutro\n",
      "Cassía Kis puxa oração em protesto Bolsonarista #lula #eleicoes2022 #bolsonaristas #protestos #cassiakis…  ,  Negativo\n",
      "#TáNaRedeContee #Eleições2022 | 16.11.22@LulaOficial chega ao Egito para #COP27 e se encontra com representantes…  ,  Neutro\n",
      "BRASIL,#Eleiçoes2022#MOURAO nega que vá passar a faixa a #LULA\"Nao sou o Presidente\"  ,  Neutro\n",
      "#ForaBolsonaroeSuaQuadrilha #Eleicoes2022 Os militares que queriam fiscalizar as eleições  ,  Neutro\n",
      "👏👏👏 #brazil #Eleicoes2022#NewYork #Londres  #euautorizopresidente ,  Neutro\n",
      "🤖 Alckmin anuncia mais integrantes da equipe de transição de governo#Lula #Eleicoes2022 ,  Neutro\n",
      "É o que todos já sabem e o motivo dos protestos. E para piorar, o órgão que deveria acolher denúncias de fraude e a…  ,  Neutro\n",
      "Se não fosse...-Uso de toda maquina administrativa a lá vonte do Bozó na Campanha-Orçamento Secreto-Fake News-E…  ,  Neutro\n",
      "E o Rio de Janeiro consegue o impossível, está cada vez mais lindo!!!!!#EsquerdaCriminosa #LulaLadrão…  ,  Neutro\n",
      "Alô, @alexandre , @STF_oficial , @LulaOficial e @ptbrasil , sairão 17 ônibus para um protesto contra o resultado da…  ,  Positivo\n",
      "⛈Acampamento de manifestação antidemocrática volta a ser “castigado” com chuva e alagamentos; veja vídeo⛈By…  ,  Neutro\n",
      "De novo... \"FAZ A P*RRA DO L\"!!\"Ain... pq o Lula é o melhor pro país\"Pior cego é quem não quer ver!…  ,  Neutro\n",
      "Eita Brasil 🇧🇷🇧🇷 kkkkkk#Eleicoes2022 #eleicao2022 #Politica  ,  Neutro\n",
      "@PartidoLiberal  Se fosse remotamente possível todos os bolsonaristas eleitos, governo, câmara, senado, teriam sua…  ,  Neutro\n",
      "Quem vai passar a Faixa Presidencial para Lula em Janeiro?#Eleicoes2022 #presidente #JairBolsonaro #lula #LulaPresidente #ForaBolsonaro ,  Neutro\n",
      "@ThiagoResiste Atualize! #Russia #Bolsonaro #Lula #15deNovembro #Eleicoes2022 #mane  ,  Neutro\n",
      "Quem vocês acham que vai passar a faixa?📸 reprodução/ Instagram. #fofocandotv #eleicoes2022 #lulapresidente2022…  ,  Neutro\n",
      "🤖 Lula orienta equipe de transição a garantir orçamento para Auxílio Brasil durante todo o governo#Lula…  ,  Positivo\n",
      "Estes são os criminosos segundo o ditador de toga! #Democracia #Eleicoes2022  ,  Neutro\n",
      "O presidente eleito @LulaOficial planeja taxar a burrice.\"Vai sobrar tanto dinheiro que eu vou até mandar um bocad…  ,  Neutro\n",
      "A hora da #sopa ... O retrato do #Brasil do #Bozo#Eleicoes2022 #ForaBolsonaro #ForaBolsonaroeSuaQuadrilha…  ,  Neutro\n",
      "2018 Ciro Gomes teve 12,48% dos votos, 13.344.366 milhões de votos válidos. 2022 o mesmo Ciro Gomes teve 3,04% dos…  ,  Neutro\n",
      "@COP27P #ForaLula #Eleicoes2022 #fraude #LiberdadeDeExpressao  ,  Neutro\n",
      "O q será q acontece quando os eleitores do PT descobrir q são a minoria e q o partido preferido deles enganam eles…  ,  Neutro\n",
      "Em breve a mesma perspectiva em todo Brasil afinal de contas o amor venceu! Vamos finalmente entender que amor não…  ,  Negativo\n",
      "#Eleicoes2022 #golpistas  ,  Neutro\n",
      "Hamilton Mourão diz que Jair Bolsonaro deveria passar a faixa presidencial para Lula e que as manifestações de bols…  ,  Neutro\n",
      "Pastor Presidente da Assembleia de Deus em Mossoró/RN, Francisco Miranda, expulsa eleitores de Lula: \"vão procurar…  ,  Neutro\n",
      "Ofertas imperdíveis em tv! Corre, pra minha loja! Comprar agora!Tá rolando em magazine tel… https://t.co/6R3Lypmk8Z ,  Neutro\n",
      "#PerdeuMane #braziliansprings #BrazilWasStolem #ExercitoBrasileiro #Eleicoes2022 #Direitaunida #DireitaSegueDireita…  ,  Neutro\n",
      "🤖 Lula diz que Isabel do vôlei foi 'símbolo' para o esporte e na defesa de ideais#Lula #Eleicoes2022 ,  Neutro\n",
      "#Eleicoes2022 #brazilianelections #EleccionesBrasil #BrazilianSpring #press #News #FreeSpeech #freedom #cop27   …  ,  Positivo\n",
      "Aguentem um pouco mais patriotas, está próximo!#Brasil #ForcasArmadas #Eleicoes2022  ,  Neutro\n",
      "Assessores dizem que Bolsonaro está \"depressivo\". Paulo Pimenta diz que o presidente não consegue fazer reuniões e…  ,  Neutro\n",
      "🤖 Morre Isabel Salgado, ícone do vôlei: ex-jogadora havia sido nomeada para gabinete de transição de Lula#Lula…  ,  Neutro\n",
      "O que você acha sobre essa noticia? #Eleicoes2022 #jovempan  #Politica #Brasil ,  Neutro\n",
      "Apuração Eleições 2022 Governador de Rondônia: veja em tempo real quem está ganhando#Eleições #Eleições2022…  ,  Neutro\n",
      "@alexandre #braziliansprings #BrazilWasStolem #Eleicoes2022 #brazil #15deNovembro #anomalias  ,  Neutro\n",
      "#Barroso #PL #AlexandreDeMoraesDitador #AlexandreDeMorais #EuIndico #CristianoRonaldo #Neymar #Tite…  ,  Neutro\n",
      "\"Perdeu, mané, não amola\"(L. R. Barroso)#Eleicoes2022 #ForaBolsonaro #golpistas ,  Neutro\n",
      "Eles deviam ao msm combinar antes de de lançar as matérias kkkkk mas é tudo pelo IBOPE não é msm? #Eleicoes2022…  ,  Neutro\n",
      "@Capyvara @SaveToNotion  #Thread  #security #Eleicoes2022 ,  Neutro\n",
      "T$E informa q míssil russo desviado da Ucrânia caiu no servidor e destruiu os códigos fonte. The End e \"Perdeu mané…  ,  Neutro\n",
      "#Eleicoes2022  #LulaPresidente2023 #PerdeuMane  ,  Neutro\n",
      "INTERVENÇÃO DIVINA - CRIANÇAS ABANDONADAS POR SUAS FANTASIAS  ,  Neutro\n",
      "Essa semana tivemos a mídia dizendo que milhões de pessoas de bem protestando por um país melhor são antidemocrátic…  ,  Neutro\n",
      "🤖 Ex-chanceler Mauro Vieira é cotado para assumir Itamaraty no governo Lula 3#Lula #Eleicoes2022 ,  Neutro\n",
      "As informações são do Portal Metrópoles.📸 reprodução/ Instagram. #fofocandotv #eleicoes2022 #lulapresidente2022…  ,  Neutro\n",
      "#eleiçoes2022 #Politica #SOSFFAA #brazilwasstolen #VEMPRARUABRASIL  ,  Neutro\n",
      "Está certo que perdemos, mas agora, abraçar muro de quartel e pedir golpe é das coisas mais patéticas que já vi.E…  ,  Neutro\n",
      "The population that supports President Bolsonaro is claiming. #BolsonaroReeleito #BolsonaroPresidente22…  ,  Neutro\n",
      "Alexandre de Moraes, você é o único que acha que está certo e TODA POPULAÇÃO que está revoltada está ERRADA.Por is…  ,  Neutro\n",
      "No podcast e @YouTube o último episódio do #PolíticaNaVeia, com Sergio Lirio e Luis Nassif, parceria do…  ,  Neutro\n",
      "Reflita agora? #Eleicoes2022 #eleiçõe2022 #Trump2024 #Russia #BrasilFoiRoubado #brasil #ForcasArmadasSalvemOBrasil…  ,  Neutro\n",
      "@reporterenato Xandão tem toda razão. Em 2 anos @MichelTemer deixou legado do Teto de Gastos e Reforma da Pevidênci…  ,  Neutro\n",
      "Um povo que não  estudou, história  pra saber o que foi a ditatura. Que não  sabe  destiguir socialismo de comunism…  ,  Neutro\n",
      "🤖 Lula diz que pedirá à ONU para a Amazônia sediar a Conferência do Clima em 2025#Lula #Eleicoes2022 ,  Neutro\n",
      "O mundo já sabe o que está acontecendo no Brasil!Supremo é o povo brasileiro! #BrasilNasRuas #Eleicoes2022  ,  Neutro\n",
      "Esse povo que fica na portas dos quartéis, eles não trabalham?! Jesus #Eleicoes2022 #ForaBolsonaroeSuaQuadrilha #forabolsonaromentiroso ,  Neutro\n",
      "Sem paciência, foi mal#Eleicoes2022  ,  Neutro\n",
      "@JoelPinheiro85 Supremo é o poder que controla a máquina, e o sistema, o povo é só o fantoche da história! #Eleicoes2022 ,  Neutro\n",
      "Por exemplo: se eu trabalho em um hospital e toda caixa que chega eu tenho que colocar o código de barras em um sis…  ,  Positivo\n",
      "Diante da notícia onde afirma que o partido irá a justiça questionar o resultado das eleições, o mesmo se pronuncia…  ,  Positivo\n",
      "Justificativa de ausência ao 1º turno deve ser feita até 1º de dezembro : #TREMinas… https://t.co/8fFmxcX3s4 ,  Neutro\n",
      "Pronto! Tá aí.#Eleicoes2022  ,  Neutro\n",
      " ,  Neutro\n",
      "Esse sim é um relatório consistente. Se o TSE arquivar terei certeza de que houve fraude.#Eleicoes2022 ,  Neutro\n",
      "#GloboLixo vergonha , #STFVergonhaMundial , vergonha , #LulaPresidente1️⃣3️⃣ ,vergonha #Eleicoes2022 vergonha!! Tem…  ,  Negativo\n",
      "🤖 Lula participa de evento na COP27#Lula #Eleicoes2022 ,  Neutro\n",
      "Partido Liberal, de Jair Bolsonaro, não vai pedir anulação das eleições; entendaby @diariodegoias#PL #Bolsonaro…  ,  Neutro\n",
      "O PL não aceita a eleição dos seus 02 governadores, 13 Senadores, 99 Deputados Federais, 128 Deputados Estaduais e…  ,  Neutro\n",
      "Se cada um fizer sua parte, podemos mudar muita coisa!#fralde #Eleicoes2022 #Bolsonaro2022 #BrasilNasRuas…  ,  Neutro\n",
      "Sobre o Relatório do #PL@JairBolsonaro #eleições2022 #bolsonaro2022 #bolsonaro #jairmessiasbolsonaro…  ,  Neutro\n",
      "Não se cura um câncer com dipirona, se o brasileiro optou por essa \"doença\" agora vai ter que passar pela quimioterapia. #Eleicoes2022 ,  Neutro\n",
      "Manaus hoje 15/11/2022.Em frente ao CMA COMANDO MILITAR DA AMAZÔNIA.Só nos resta uma solução, e é... Continuar a…  ,  Neutro\n",
      "O partido de Jair Bolsonaro vai pedir a anulação das #Eleicoes2022 ...pela reação do ministro Barroso contra um man…  ,  Neutro\n",
      "A democracia no Brasil está comprometida. E esse protesto é porque meu candidato não ganhou?Não. É porque o povo…  ,  Negativo\n",
      "O nível de insanidade e insensatez da turma de Jornalistas das empresas Globo é surrealSó nos resta uma solução, e…  ,  Neutro\n",
      "PL pedirá anulação das #Eleicoes2022 .Sabemos que o #STF e o #TSE não vão aceitar as denuncias, pois, já demonstr…  ,  Neutro\n",
      "Hoje começaremos um novo Brasil e você pode fazer parte desta história!!!#BRAZIL #Eleicoes2022 #CristianoRonaldo  ,  Neutro\n",
      "#bolsonaro2022 #anulado #eleicoes2022 #lulapresidente2022 #manifestacao PL nega que irá questionar resultado das ur…  ,  Positivo\n",
      "Ja estava preparado!! #eleições2022 ⁦@exercitooficial⁩ ⁦@BragaNetto_gen⁩ ⁦@Gen_VillasBoas⁩ ⁦@GeneralMourao⁩ ⁦…  ,  Neutro\n",
      "Lula não imaginou que teria uma oposição tão forte e vinda das ruas. #democracia #LIBERDADE #Politica #ForaLula…  ,  Neutro\n",
      "#eleicoeslimpas #Eleicoes2022 #SOSBRAZIL #SOSFFAA ,  Neutro\n",
      "Nas comemorações da #ProclamacaoDaRepublica brasileira, #15deOutubro, milhões de #Patriotas se manifestam favorávei…  ,  Neutro\n",
      "Levantamento da CNN especula q o pseudo ator Mário Frias e o traficante de madeira Ricardo Salles podem integrar o…  ,  Neutro\n",
      "Roça formada #Deolane, #Ruivinha, #Bia e #André, #Bia foi vetada. PRA QUEM VAI SUA TORCIDA PRO PROX. FAZENDEIRO?…  ,  Neutro\n",
      "Que ridículo é esse povo pedindo Anulação das #Eleições2022 por favor né? Já deu essa história de protesto. Aceitem… ,  Negativo\n",
      "São Paulo 15.11.2022 #Bolsonaro #Eleições2022 #Criador #BrasilNasRuas #SOSFFAA  ,  Neutro\n",
      "Ta chato isso ja gente pelo amor de Deus eleição acabou vamos seguir adiante e torcer para que tudo dê certo ...Qu…  ,  Neutro\n",
      "Eae @choquei tá sabendo que o PL negou que iria pedir a anulação ? #Politica #golpistas #Eleicoes2022  ,  Neutro\n",
      "Vou te falar; Estes bolsominions não tem nada para fazer e perder um dia de feriado delicioso todinho para fazer pr…  ,  Neutro\n",
      "O Partido PL que tem como filiado o  PRESIDENTE @jairbolsonaro vai pedir a anulação das eleições 2022. Notícia de 1…  ,  Neutro\n",
      "⚖️Juíza manda dispersar ocupação de golpistas em frente a quartel em Manaus ,  Neutro\n",
      "Não bastasse o mico indoors agora o espalham pelo mundo afora. “First we take….Geneva…then we take NY”.Perderam, m…  ,  Neutro\n",
      "“Perdeu Mané, não amola.” BARROSO, Luís Roberto. 15 de novembro de 2022. #barroso #stf #Eleicoes2022  ,  Neutro\n",
      "Santa Catarina não deixa de não-surpreender a ninguém quando o assunto é nazismo-Tabajara.#Eleicoes2022…  ,  Neutro\n",
      "Advogado de Lula em Nova York com ministros do STF.#Eleicoes2022 #BRAZIL #corrupção…  ,  Neutro\n",
      "Alguém explique a essa anta a diferença entre 180 e 360°.#Eleicoes2022 #eleicoesnomeio #forabozo  ,  Neutro\n",
      "#campinas #brasilia #Eleicoes2022 #Brazil #SOS  ,  Neutro\n",
      "@VEJA Depois da Frase Histórica: \"Eleição não se ganha, se toma!\" Agora Vssa Excelência dá o assunto por encerrad…  ,  Negativo\n",
      "Hoje em Brasília dia, 15/11/2022. Mesmo com bastante chuva não desistimos, sabe por quê? Porque somos Patriotas! A…  ,  Neutro\n",
      "Durmo num dia tranquilo, quando acordo já tem notícia de Bolsonaro pedindo anulação das eleições, terceira guerra m…  ,  Neutro\n",
      "💬Acampamento golpista em frente ao QG do Exército@GeorgMarques #politica #forcasarmadas #Eleicoes2022 ,  Neutro\n",
      "Pra hoje é o seguinte #BarrosoPerdeuMane  #Eleicoes2022 #BrasilNasRuas #NossaBandeiraJamaisSeraVermelha ,  Neutro\n",
      "Dos mesmos criadores de “Eleição não se vence, se toma” vem aí: “Perdeu mané, não amola”.É um cuspe na cara dos b…  ,  Neutro\n",
      "Exclusivo: PL vai pedir anulação das eleições de 2022  ,  Neutro\n",
      "Bora lançar uma hashtag:#PMNA - “Perdeu, mané, não amola!”#Eleicoes2022 #bolsonaro #direita #BrazilWasStolem ,  Positivo\n",
      "Invalidar as eleições? Se sim tem que ser pra todos os cargos, presidente, senado e deputados. Pq? Só presidência?…  ,  Neutro\n",
      "O PL divulgou que após relatório independente irá pedir anulação das eleições. O relatório indicou inconsistência n…  ,  Neutro\n",
      "Hj, em Fpolis. #brazilianspring #eleicoes2022 #eleições2022 ,  Neutro\n",
      "Patriotas da Grande Vitória, Espírito Santo e Todo BRASIL!Não desistam! Não saiam das ruas! Juntos somos mais forte…  ,  Neutro\n",
      "Sobre as tais fraudes nas Urnas, recomendo assistirem a esse vídeo, o maluco fez um belo \"TCC\" sobre o assunto.…  ,  Neutro\n",
      "Eu e @iracemapavani lutando pelo nosso País, hoje dia 15/11/2022 em Maringá-PR.#protestos #protestosbrasil…  ,  Neutro\n",
      "Kkkkk aô #nordeste o PL tá querendo anular o voto de vocês...  Justamente onde tomaram um banho, uma diferença de 1…  ,  Neutro\n",
      "Hoje dia 15/11/2022 na manifestação em Maringá-PR.#protestos #protestosbrasil #protestosmaringa #eleicoesbrasil…  ,  Neutro\n",
      "Alô #PL  vai pedir anulação da eleição da senadora Damares da eleição do Tarcísio no governo do  Estado de SP do el…  ,  Neutro\n",
      "#eutenhoduvidas #Eleicoes2022  #BrasilNasRuas ,  Neutro\n",
      "E agora José?!#Eleicoes2022 #BrazilWasStolem #BrasilNasRuas #LulaLadrao #CopaDoMundo2022  ,  Neutro\n",
      "El @plnacional_ de @jairbolsonaro y @valdemarcosta va a pedir la anulación de las #Eleicoes2022 ante el @TSEjusbr…  ,  Neutro\n",
      "Ótima notícia!A única parte ruim é que esse pedido vai cair na mão do cabeça de pir*ca...#Eleicoes2022…  ,  Neutro\n",
      "😂 🤣 😂 🤣 😂👋#Eleicoes2022 #ForaBolsonaroeSuaQuadrilha #OAmorVenceu  ,  Neutro\n",
      "#Brasil #Eleicoes2022  #BolsonaroReeleito Bolsonaro dando péssimo exemplo para o trabalhador !Eu fiquei de aviso…  ,  Neutro\n",
      "De fato, precisamos acertar, supremo Barroso. Por isso, após sua declaração, na data de hoje, passeando em NY, ente…  ,  Neutro\n",
      "#Eleicoes2022 #PerdeuMane  ,  Neutro\n",
      "1 das soluçõesCom voto impresso auditavel, p dificultar fraudes#votoimpresso #eleicoeslimpas #Brasil…  ,  Neutro\n",
      "E hoje, o FB me lembrou de uma publicação de 2014. De lá para cá, felizmente o civismo renasceu em grande parte da…  ,  Positivo\n",
      "\"Procure a sabedoria e aprenda a escrever os capítulos mais importantes de sua história nos momentos mais difíceis…  ,  Positivo\n",
      "Gente quando é que esse senhor vai aceitar o resultado das eleições? Que inferno! #Eleicoes2022 ,  Neutro\n",
      "O PL de Valdemar Costa Neto vai pedir ao Tribunal Superior Eleitoral, nos próximos dias, a anulação das eleições de…  ,  Neutro\n",
      "#Hackers invadem sistema da #JustiçaEleitoral e pegam #dadosconfidenciais - TecMundo #lgpd #gdpr #ccpa…  ,  Neutro\n",
      "Fui ali prestar um socorro e quando voltei tá cheio de novidades por aqui🙌🇧🇷⚔️ ainda não acabou, mais vivos do que…  ,  Neutro\n",
      "Eu envio essa imagem carinhosamente a globobbels @tvglobo @GloboNews @JornalOGlobo vejam bem nossa bandeira JAMAIS…  ,  Neutro\n",
      "Fogo no parquinho. #PL #Eleicoes2022 #urnas  ,  Neutro\n",
      "\"Perdeu, mané\".Simples frase de grande relevância no Brasil 2022. Democracia fica, ameaça ao estado de direito sai…  ,  Neutro\n",
      "2022 - No Egito, #Lula (@LulaOficial) encontra políticos .... BRASILEIROS .... (ℹ  ,  Neutro\n",
      "#Brasil #JR #JornalDaRecord #JR24H #Eleições #eleições2022  ,  Neutro\n",
      "El partido del presidente @jairbolsonaro el PL, pedirá anular las elecciones. #Eleicoes2022  ,  Neutro\n",
      "A sujeira continua aparecendo e os fanáticos que não querem enchergar continuam incistindo na ultrapassada questão…  ,  Neutro\n",
      "Se vier com o nkunku guloso na camavinga e ele não será perdoado! #OTAN WWIII RÚSSIA POLÔNIA BOLSONARO LULA…  ,  Neutro\n",
      "E agora? #Eleicoes2022PL vai pedir a anulação da eleição  ,  Neutro\n",
      "Vai da merda, vai da merda, vai ,vai da merda vai.... #Eleicoes2022 ,  Negativo\n",
      "Segura peão!#CensuraNao #Eleicoes2022 #BrasilNasRuasExclusivo: PL vai pedir anulação das eleições de 2022  ,  Neutro\n",
      "Segundo Alexandre de Moraes, o Judiciário atuou como barreira para conter os ataques à democracia e à liberdade dur…  ,  Neutro\n",
      "Depoimento do Jornalista Brasileiro Allan dos Santos, exilado político vivendo nos EUA, após ser censurado e perseg…  ,  Neutro\n",
      "PL vai pedir ao TSE que anule as eleições de 2022 - DIÁRIO DO PAÍS #Eleicoes2022 #Election2022 ,  Neutro\n",
      "PL vai pedir anulação das eleições 2022#Eleicoes2022 #Brasil #jovempannews  ,  Neutro\n",
      "Poucos se lembram que a @TVglobo foi uma das últimas, se não a ultima, a transmitir as primeiras manifestações pedi…  ,  Neutro\n",
      "puts gente :/#Eleicoes2022 #BrazilWasStolen #BolsonaroReeleito2️⃣2️⃣  ,  Neutro\n",
      "#Repost @bertorelliDepoimento do Jornalista Brasileiro Allan dos Santos, exilado político vivendo nos EUA, após se…  ,  Neutro\n",
      "#Eleições2022Segundo uma auditoria contratada pelo partido, seria impossível 'validar resultados' de urnas.Mais…  ,  Neutro\n",
      "@globo #jornalnacional #brasil #Eleicoes2022 #LulaLadrao #stf #brazilwar #fraude #manifestacion #jovenpam #SOSFFAA…  ,  Neutro\n",
      "URGENTE!Segundo O Antagonista, PL (partido do presidente Bolsonaro) vai pedir anulação das #Eleicoes2022 !…  ,  Neutro\n",
      "Antes das eleições o Ciro falou que o Lula é um encantador de serpentes. Hoje além de serpente encantada o…  ,  Neutro\n",
      "This is Brazil! We are made of crisis! #Eleicoes2022  ,  Neutro\n",
      "⁦@plnacional_⁩ vai ao ⁦@TSEjusbr⁩ pedir a anulação das #eleicoes2022. É necessária muita coragem e convicção para e…  ,  Neutro\n",
      "Urgente: PL vai pedir anulação das eleições 22. 🇧🇷TIC TAC!#Eleicoes2022 ,  Neutro\n",
      "E depois que passar esse feriado, os doidos seguem manifestando? #Eleicoes2022 #LulaPresidente2022 #ForaBolsonaro ,  Neutro\n",
      "Não está acabado!#eleições #eleicoes2022 #brasil #bolsonaro #direita #direitaconservadora em Brazil  ,  Neutro\n",
      "URGENTE !PL IRÁ PEDIR ANULAÇÃO DAS ELEIÇÕES DE 2022 !! 🇧🇷Via: Ana Campagnolo. #Eleicoes2022 #DIREITAforteUNIDA ,  Neutro\n",
      "#manifestacoes #pl22 #Bolsonaro #Lula #jovempan #Eleicoes2022 #proclamacaodarepublica  ,  Neutro\n",
      "📌 ajude-nos 👉 siga nossa página.- Segui o fio que no final tem uma luz...#pl #valdemar #eleicoes2022 #natal #20…  ,  Neutro\n",
      "#Eleições2022 | PL vai pedir anulação das eleições de 2022, diz site |   ,  Neutro\n",
      "\"perdeu mané, sai fora.\" 🤣😂🤣😂 #Barroso #Eleicoes2022 #LulaPresidente1️⃣3️⃣ ,  Neutro\n",
      "Jus sperniandis. Pedido ao TSE?! A decisão já sabemos. Segue o jogo. Desde que venceu em 2018, Bolsonaro, que não g…  ,  Neutro\n",
      "#PatriotaBrasilJB#Direita #DireitaReal #Eleições2022 #EuSouConservador #Bolsonaro2022 #MelhorJairSeAcostumando…  ,  Neutro\n",
      "#brazil #Brasil #Eleicoes2022 #BrazilWasStolem #gg  ,  Neutro\n",
      "Exclusivo: #PL vai pedir #anulação das #eleições de #2022  ,  Neutro\n",
      "Agr uma outra empresa de auditoria contratada pelo @plnacional_, tbm constatou o msm, e por tanto o partido pedirá…  ,  Neutro\n",
      "PL vai pedir a anulação das eleições de 2022.Ainda há esperança para o Brasil 🇧🇷 O Gigante Acordou!…  ,  Neutro\n",
      "Fonte: PROGRAMA OS PINGOS NOS IS NA JOVEM PAN!#eleicoes2022 #ibovespa em Botafogo, Rio De Janeiro, Brazil  ,  Neutro\n",
      "Se as #Eleicoes2022 não for anulada, o Brasil deverá mudar seu nome para Maracutaia ,  Neutro\n",
      "Qual é sua opinião sobre isso?Ajude os presos e o STF te ajuda.#politica #eleicoes2022 #lula #bolsonaro #direita…  ,  Positivo\n",
      "A mídia não mostra mais nos simAL Maceió #Nordeste #BrasilNasRuas #ManifestacoesPacificas #Eleicoes2022  ,  Neutro\n",
      "In Brazil, Lula Beat Bolsonaro. Now Comes the Hard Part.#politics #brazil #eleições #eleições2022…  ,  Neutro\n",
      "Eles avisaram, ninguém pode dizer que foi pego de surpresa.#Eleicoes2022 #CensuraNao #LIBERDADE #FreedomOfSpeech…  ,  Neutro\n",
      "Positivismo, socialismo e oligarquias ferram o Brasil desde 1889.Urgente @direitamg @abrahamweintraub…  ,  Neutro\n",
      "Parabéns aos envolvidos e faz o L.#pt #Lula #mst #Eleicoes2022 #Politica #bahia #nordeste #SupremoÉoPovo  ,  Neutro\n",
      "Perdeu manéh, não amola !!! Essa é a frase do momento ? #democracia #Politica #Eleicoes2022 ,  Neutro\n",
      "Perceba a verdade escancarada nesse vídeo, TODAS essas mulheres são BRANCAS! #Eleicoes2022 #Memes  ,  Neutro\n",
      "@LulaOficial é para o povo pobre brasileiro o que #nelsonmandela foi para os negros na África do Sul. #jovemklan…  ,  Neutro\n",
      "#BrasilNasRuas #BrasilWasStolem #Eleicoes2022 #luladrao #LiberdadeDeExpressao  ,  Neutro\n",
      "Não pode orar para imagens de santos, mas podem orar para um pneu... não  vão nem na igreja, mas vão na porta do qu…  ,  Neutro\n",
      "15/11/2022#Eleicoes2022 #CNNnaCOP27 #FoxNews #FOXNewsUS #CBN #bbcnews 🇧🇷🇧🇷🇧🇷🇧🇷🇧🇷🇧🇷🇧🇷THE GIANT AWOKE  ,  Neutro\n",
      "\"Perdeu MANÉ! Não amola!\"\"Ministro, o sr. vai liberar o código fontes das urnas?\"@exercitooficial@TuckerCarlson…  ,  Neutro\n",
      "MANIFESTAÇÃO EM BH - MULTIDÃO NAS RUAS NO 15 DE NOVEMBRO  ,  Neutro\n",
      "\"Perdeu MANÉ! Não amola!\"\"Ministro, o sr. vai abrir o código fontes das urnas?\"@exercitooficial@TuckerCarlson…  ,  Neutro\n",
      "@93FmGospel O 1° Ministro dos estados árabes unidos Jalim habei disse que não reconhece Luiz Inácio lula da Silva c…  ,  Neutro\n",
      "@choquei O 1° Ministro dos estados árabes unidos Jalim habei disse que não reconhece Luiz Inácio lula da Silva como…  ,  Neutro\n",
      "Essas manifestações desde a eleição se resumem numa auto indução que salienta uma refrega reticente, onde se retro…  ,  Neutro\n",
      "Com o \"Perdeu Mané\" Barroso anuncia assalto do 5TF e do T5E com duas semanas de atraso. #perdeumane #Eleicoes2022 #braziliansprings ,  Positivo\n",
      "@GFiuza_Oficial O 1° Ministro dos estados árabes unidos Jalim habei disse que não reconhece Luiz Inácio lula da Sil…  ,  Neutro\n",
      "“Namastreta” 🧘#fazoL #bolsonaristas #petistas #Eleicoes2022  ,  Neutro\n",
      "@lopes_maravilha Avisa eles isso aqui O 1° Ministro dos estados árabes unidos Jalim habei disse que não reconhece…  ,  Neutro\n",
      "@UOLNoticias O 1° Ministro dos estados árabes unidos Jalim habei disse que não reconhece Luiz Inácio lula da Silva…  ,  Neutro\n",
      "When are Republicans like @tedcruz going to realize that Mitch McConnell is not a real Republican and helps his fel…  ,  Neutro\n",
      "#Lamentar,Las #Eleicoes2022 #estadounidenses se han vuelto similares a la política de gerontocracia de Japón.…  ,  Neutro\n",
      "\"Perdeu mané, não amola não!\"Que consideração com o povo...#perdeumane #Eleicoes2022 #STFVergonhaMundial  ,  Neutro\n",
      "O Líbano abraçando nossa luta! Thank you and God bless 🇱🇧 #PovoUnido #proclamacaodarepublica…  ,  Neutro\n",
      "𖣔 E vai piorando a cada dia... 🙄😬🤦🏻⠀ Deixe sua Opinião abaixo nos Comentários ⬇️💬✍🏻⠀◆⠀◆⠀◆⠀Link do Post em noss…  ,  Neutro\n",
      "@monark Bolsonaro em 30 anos de política não salvou nem o Rio de Janeiro que dirá o Brasil 😂 #Eleicoes2022 ,  Neutro\n",
      "BrasilTem Brasil em qualquer parte do Mundo!Somos gigantes!!!#Brasil #eleicoeslimpas #Eleicoes2022…  ,  Neutro\n",
      "Video novo no Canal SSegue o link #Patriotas #patriota #Eleicoes2022 #brasil #bolsonaro… https://t.co/EwwnHXskBT ,  Neutro\n",
      "Cadê o Senado Federal? #senadofederal #manifestantes #eleicoes2022 ,  Neutro\n",
      "Se alguém tinha dúvidas de que lado estavam... taí a resposta.#Eleicoes2022 #fraude #intervencaoMilitar…  ,  Neutro\n",
      "🗣A pedido de Alckmin, TCU prepara relatório de alto risco de 29 áreas críticas para entregar à transição…  ,  Neutro\n",
      "@robertatopthe É simples, \"Diga com quem andas e direis quem tu és\".Quem protege ladrão, presidiário, liberto por…  ,  Neutro\n",
      "Ministro Barroso...Cadê os senadores dessa disso @SenadoFederal?Para representar esse indivíduo e entrar com Impe…  ,  Neutro\n",
      "“Perdeu, mané” não é o que os assaltantes dizem ao nos apontar a arma?Sim. Essa foi uma fala de um ministro do sup…  ,  Neutro\n",
      "Deus abençoe o Brasil. @direitamg @abrahamweintraub @arthurweint @pauloeneas.cn #riodejaneiro #Eleições2022…  ,  Neutro\n",
      "#Democracia #fascistas #choro #Eleicoes2022 #Crime #TSE #STF ,  Neutro\n",
      "🤖 Lula se encontra com representantes dos EUA e da China para o clima na COP 27#Lula #Eleicoes2022 ,  Neutro\n",
      "Os togados nem se esforçam em disfarçar, eles estão do lado do crime, DAQUI PRA FRENTE, É SÓ PRA TRÁS.…  ,  Neutro\n",
      "O MPF pediu o afastamento do diretor-geral da PRF por favorecimento ao presidente Bolsonaro durante a sua campanha.…  ,  Neutro\n",
      "PT e Comando Vermelho tem raízes em comum - Lula e o Dogwhistling Moreno  ,  Neutro\n",
      "#proclamacaodarepublica éConcordando com o direto civico e democratico realizado nas urnas, nas #Eleições2022…  ,  Neutro\n",
      "O feriado é marcado por manifestações contra a eleição de Lula (PT). Atos que tomam conta de todo o país criticam o…  ,  Negativo\n",
      "Vergonha Nacional!Ratazanas do Brasil 🇧🇷 #DitaduraDaToga #DitaduraNuncaMais #DitaduraDaTogaNão #Brasil #BRAZIL…  ,  Negativo\n",
      "🤖 Bolsonaristas radicais fazem manifestação com intenções golpistas no feriado de 15 de novembro#ExtremaDireita…  ,  Neutro\n",
      "Bom questionamento.#pl #Eleicoes2022  ,  Neutro\n",
      "#eleicoes2022 #eleicões22 #bolsonaro #brasil #brazil #brazilnews #tse #noticias #noticia #breaknews #newyork #nyc…  ,  Neutro\n",
      "Medo de vestir a camisa da seleção e na hora do gol do Brasil gritar \"golpe\" em vez de \"gol\". #CopaDoMundo2022…  ,  Neutro\n",
      "Qual a sua opinião sobre o sistema eleitoral brasileiro?—#eleicao #votos #tse #eleicoes2022 #brasil…  ,  Neutro\n",
      "ગુજરાત પ્રદેશમાં રેકોર્ડ માર્જીનથી બીજેપી સરકાર બનાવવા જઈ રહી છે#BJPGujarat #Eleicoes2022 @narendramodi @PMOIndia…  ,  Neutro\n",
      "#GenZ #GenZVoterTurnout Needs to shut their worthless, freeloading mouths about Republicans. We are the ones who ca…  ,  Neutro\n",
      "ISS0 TEM QUE PARAR !!! Cadê esse @senado ? @FlavioBolsonaro @EduGiraoOficialNossas amadas @STM_Oficial…  ,  Neutro\n",
      "#eleições2022 #fypシ #fyp #viral #noticias #fy  ,  Neutro\n",
      "ISS0 TEM QUE PARAR !!!Cadê esse @senado ??? @FlavioBolsonaro @EduGiraoOficial Nossas amadas @STM_Oficial…  ,  Neutro\n",
      "Mano, que lavagem cerebral foi essa? Agradeço o privilégio de ter discernimento 🙏🏼 Obgdo, Senhor! #2022…  ,  Neutro\n",
      "Estou feliz com tudo que vem acontecendo em meu país,  vejo o quanto as pessoas mudou em um determinado período , p…  ,  Neutro\n",
      "\"Perdeu, Mané!\" ???Revelador, heim??? Por outro lado, quando abordados com cobranças coerentes e educadas, reagem…  ,  Neutro\n",
      "#Anitta é indicada ao #Grammy e web reage: ''Vencemos'' - #ArtistaRevelação #AstrudGilberto #BestNewArtist…  ,  Neutro\n",
      "Cadê os senadores dessa disso @SenadoFederal ?Para representar esse indivíduo e entrar com Impeachment pela falta…  ,  Neutro\n",
      "The Big Lie Is Going Global. We Saw It in Brazil.#politics #brazil #democracy #FakeNews #eleições #eleições2022…  ,  Neutro\n",
      "Cadê os senadores dessa disso @SenadoFederal  ???Para representar esse indivíduo e entrar com Impeachment pela fal…  ,  Neutro\n",
      "“ Perdeu Mané “??????Esse vídeo merece ser compartilhado por diversas vezes…. Ministros em NY#DitaduraDaToga…  ,  Neutro\n",
      "🇧🇷🤜🤛🇧🇷 IV 🇧🇷#patria #tbt #direitadf#EuApoioVotoAuditavel #repost #direitars #to #urucuia #urucuiamg…  ,  Neutro\n",
      "Parte 7#SOSFFAA #SOSForcasArmadasSalvemOBrasil #Eleicoes2022  ,  Neutro\n",
      "Parte 6#SOSFFAA #SOSForcasArmadasSalvemOBrasil #Eleicoes2022  ,  Neutro\n",
      "Parte 5#SOSFFAA #SOSForcasArmadasSalvemOBrasil #Eleicoes2022  ,  Neutro\n",
      "@ArvindKejriwal @msisodia @AAPDelhi @Sanjeev_aap @ipathak25 @AamAadmiParty #MCDElection #Eleicoes2022  ,  Neutro\n",
      "Parte 4#SOSFFAA #SOSForcasArmadasSalvemOBrasil #Eleicoes2022  ,  Neutro\n",
      "Alexandre Moraes #Brazilian #CensuraNao #Eleicoes2022  ,  Neutro\n",
      "Parte 3#SOSFFAA #SOSForcasArmadasSalvemOBrasil #Eleicoes2022  ,  Neutro\n",
      "Republicans think they only lost because of bad candidates.... Bro your ideas for the country SUCKS! #MIDTERMS2022 #Eleicoes2022 #msnbc ,  Neutro\n",
      "Parte 2#SOSFFAA #SOSForcasArmadasSalvemOBrasil #Eleicoes2022  ,  Neutro\n",
      "“Perdeu, mané”, diz Barroso a manifestante em Nova York#Barroso #perdeumane #Eleicoes2022 #perdeumané…  ,  Neutro\n",
      "Parte 1 #SOSFFAA #SOSForcasArmadasSalvemOBrasil #Eleicoes2022  ,  Neutro\n",
      "É isso mesmo ???Os apoiadores do Loola já começaram a se arrepender?@exercitooficial@DonaldTrump@TuckerCarlson…  ,  Neutro\n",
      "➡️ Pouco antes do 2º turno das #Eleições2022, o diretor da PRF publicou foto da bandeira do Brasil com os dizeres \"…  ,  Neutro\n",
      "O povo é SUPREMO #brazilwasatolen #Eleicoes2022 #manifestacoes #Patriota #LulaLadraoSeuLugarENaPrisao #fraude…  ,  Neutro\n",
      "Manifestantes marcam feriado com atos em frente aos QGs do Brasil- Grupos contestam o resultado das eleições…  ,  Positivo\n",
      "Brasileiro: O senhor vai liberar o código fonte, ministro? Responda, por favor, ministro.Xandão, calado.Barroso:…  ,  Neutro\n",
      "S.O.S Brazil #BrazilianSpring #STFVergonhaInternacional #BrazilWasStolen #UrnasFraudadas #Eleicoes2022  ,  Neutro\n",
      "@Rconstantino #perdeumané #Eleicoes2022 ROUBADA  ,  Positivo\n",
      "@alexbr116 @PriscilaFCruz @LRobertoBarroso @cnnbrk @cnni @FoxNews @HavardUnivers @nytimes #ElonMusk #Eleicoes2022…  ,  Neutro\n",
      "Eu juro que paro kkkkNão cancelem a coleguinha#simonetebet #viral #foryou #Eleicoes2022  ,  Neutro\n",
      "\"Perdeu, mané não amola.\" Ministro, @LRobertoBarroso dando o recado certo pra quem só estimula o ódio e o golpismo.…  ,  Neutro\n",
      "#Nordeste #REALITY #BrasilNasRuas #Brasil #bolsonaro22 #Eleicoes2022  ,  Neutro\n",
      "Silvinei Vasques é investigado pela atuação em bloqueios de rodovias no dia do segundo turno da eleição e após a pr…  ,  Neutro\n",
      "Perdeu mané?? Então somos milhões de manés querendo saber a verdade. #codigofonte #TSEOrganizacaoCriminosa #TSE…  ,  Neutro\n",
      "#ForcasArmadasSalvemOBrasil #VemPraRuaBrazil #Eleicoes2022 #eleicoeslimpas #Manifest #STFNaoMeRepresenta…  ,  Neutro\n",
      "#Bresil 🇧🇷/💥Après 16 jours de manifestations 🪧, les contestations ne faiblissent pas. Des milliers de gens se…  ,  Neutro\n",
      "\"Perdeu, mané! Não amola\" - ministro do supremo tribunal federal do Brasil.#BrasilNasRuas #Eleicoes2022  ,  Neutro\n",
      "Postura de um estúpido ignorante, perdeu mané!Será 👊🏼🇧🇷 ? Que esse corja vai levar?#Eleicões2022 #STF #senado…  ,  Neutro\n",
      "É simples, \"Diga com quem andas e direis quem tu és\".Quem protege ladrão, presidiário, liberto por amigos do STF,…  ,  Neutro\n",
      "@senadorhumberto #Eleicoes2022 @conexaopolitica @o_antagonista @STF_oficial  ,  Neutro\n",
      "Manifestantes voltam a ocupar ruas próximas ao CTA em São José 🇧🇷 #manifestacao #CTA #Eleicoes2022 #eleicoes  ,  Neutro\n",
      "Tenho cerebro é uma das opções da resposta ne#Humor 🥲😅😅😂😂😂🤣🤣🤣🤣 #Eleições2022 #LulaPresidenteELEITO #Verdades  ,  Neutro\n",
      "Kaun jitega ??#Eleicoes2022 #ElectionDay #BJP #AAP #abpoli #Gujrattitans #CMO ,  Neutro\n",
      "2022 - No Egito, #Lula (@LulaOficial) aproveita para fazer encontros paralelos (ℹ  ,  Neutro\n",
      "#ElectionDay #Eleicoes2022 #KariLake #KatieHobbsWins #katiehobbscheated #karilakewon #KariLakeFilter #fakelake…  ,  Neutro\n",
      "Não adianta dizer que é problema do governo atual, o PRÓPRIO movimento DEIXA claro que a eleição do ex-presidiário…  ,  Neutro\n",
      "Ah! O governo da inclusão 🥰  #LulaLadrao #eleiçoes2022  ,  Neutro\n",
      "Manifestantes se reúnem no Centro do Rio nesta terça-feira (15)- Protesto é feito por pessoas que não aceitaram o…  ,  Neutro\n",
      "Mal venceu a eleição e os fiscais da vida alheia já entraram no circuito vasculhando vida do empresário que levou…  ,  Neutro\n",
      "A verdade é que todas as pessoas têm um posicionamento. Os argumentos não servem pra dialogar, mas basear pontos e…  ,  Neutro\n",
      "🤖 Na COP 27, Janja diz que Brasil volta a ser protagonista no meio ambiente e combate ao aquecimento global#Lula…  ,  Neutro\n",
      "Policial é acusado de apoio deliberado a Bolsonaro, dificultar pessoas de votarem e omissão durante bloqueios golpi…  ,  Positivo\n",
      "Manifestantes se reúnem em frente ao QG de Brasília nesta terça-feira (15)- Protesto é feito por pessoas que não…  ,  Neutro\n",
      "#eleicoes2022 Não foi o povo... ,  Neutro\n",
      "Enquanto famílias, chamadas de antidemocratas, reunem-se, pacificamente, na frente de quartéis,  manifestando-se co…  ,  Neutro\n",
      "🤖 Ministro do Meio Ambiente critica 'filantropos, líderes e empresários' que vão de jatos particulares à COP27…  ,  Neutro\n",
      "TCU alerta equipe de transição para 29 áreas no atual governo com alto risco de fraudes ou má gestão. #Eleicoes2022…  ,  Neutro\n",
      "🤖 Na COP27, Lula vai unir combate à fome e mudanças climáticas#Lula #Eleicoes2022 ,  Neutro\n",
      "Morre aos 73 anos Luiz Antônio Fleury Filho, ex-governador de SP - #Eleições2022 #ExgovernadorDeSãoPaulo…  ,  Neutro\n",
      "Campos Netto do @BancoCentralBR é ótimo. Ele cobrou #reformas que até agora @LulaOficial @geraldoalckmin…  ,  Neutro\n",
      "Ministério Público Federal pede afastamento do diretor da PRF- Pedido é de 90 dias; Promotoria pretende investiga…  ,  Neutro\n",
      "O grande amigo do l. do PT. Faz o L aí!#Eleicoes2022 #LulaLadraoSeuLugarENaPrisao  ,  Neutro\n",
      "#GujaratElection2022 #Eleicoes2022 #Vote2022 @Ndsolanki73 @VoiceBaroda @pravin_naghera @DaxaPat34939421…  ,  Neutro\n",
      "A manutenção e o armazenamento da maioria das urnas são de responsabilidade dos Tribunais Regionais Eleitorais dos…  ,  Neutro\n",
      "Brazil's democracy was attacked but survived, says electoral judge#politics #brazil #democracy #eleições…  ,  Neutro\n",
      "Saudades de quando a minha tia Bolsonarista ficava o dia todo espalhando fake news no Zap! Agora ela fica passando…  ,  Neutro\n",
      "Agora que está solto, Cabral pode fazer parte da equipe de transição do Lula. #Fazueli #corrupcao #Eleicoes2022 #BRAZIL ,  Neutro\n",
      "#Eleições2022: União Brasil deve apoiar Lula, mas com exceção para Neto, Moro e outros opositores  ,  Neutro\n",
      "Vice – presidente eleito Alckmin anuncia seis nomes do ABC na equipe de transição@geraldoalckmin @filippioficial…  ,  Neutro\n",
      "🤖 Ausência de Bolsonaro do G20 é a segunda de um presidente brasileiro; Lula faltou em 2010#Lula #Eleicoes2022 ,  Neutro\n",
      "@elonmusk #TSECensorshipInBrazil #Brazil#STFCensorshipInBrazil #Eleicoes2022 #BRAZIL #brazilsprings…  ,  Neutro\n",
      "nao sou evangelica mais amo estes louvores so pra tirar minha raiva que vou passar hoje anoite na #RoçaAFazenda…  ,  Neutro\n",
      "\"Liberdade! Liberdade!Abre as asas sobre nósDas lutas na tempestadeDá que ouçamos tua voz\".…  ,  Neutro\n",
      "@BernardoMF @CBNoficial e o Pr tá no bunker @planalto tramando contra #democracia com #Carluxo e #GabinetedoOdio ma…  ,  Neutro\n",
      "#Eleicoes2022 #ministro #BrasilNasRuas #Bolsonaro2022  ,  Neutro\n",
      "@gleisi que bom narizinho mas não foi @ptbrasil quem inventou @tvglobo GloboGolpista @MichelTemer TemerGolpista e q…  ,  Neutro\n",
      "@DoraKramer não faz sentido, ops depois de @dilmabr toda insensatez vinda de @LulaOficial pode fazer sentido. Mas e…  ,  Neutro\n",
      "Gente para de querer atrapalhar o #Brasil, ganhou o candidato que teve mais votos assim como em 2018.Porque em 201…  ,  Negativo\n",
      "@alexandre Valeu #Xandão a caravana passa, enquanto os insensatos ladram #Eleicoes2022 ,  Neutro\n",
      "#Bolsonaro é um engodo. Sempre falei isto. Faliu o país e sumiu do mapa depois de perder as #Eleicoes2022. Está com…  ,  Neutro\n",
      "Muitos dos atuais parlamentares eleitos no Brasil são realmente bolsonaristas. Mas a grande maioria ESTÁ bolsonaris…  ,  Neutro\n",
      "Hoje é capaz do motel bombar, kkkkkk#apucarana #Parana #Brasil#Motel #eleicoes #Eleicoes2022 #bolsominios…  ,  Neutro\n",
      "Deputado denúncia às fraudes das urnas 1! #Brazilian #Eleicoes2022 @elonmusk @Gen_VillasBoas @Rconstantino ,  Neutro\n",
      "@STF_oficial o povo brasileiro quer respostas#UrnasEletronicas #Eleicoes2022  ,  Neutro\n",
      "A 22ª Bda Inf Sl atuou com operacionalidade nas #Eleições2022  ,  Neutro\n",
      "Segundo @alexandre de Moraes, o Judiciário atuou como barreira para conter os ataques à democracia e à liberdade du…  ,  Neutro\n",
      "Nesta copa, torcer para Argentina e Brasil só por causa desse cara, pow ele nem joga futebol mas darei um bolão.…  ,  Neutro\n",
      "⚠️  Uma declaração de Fachin sobre uma possível reviravolta na decisão judicial que beneficiou Lula circula como se…  ,  Neutro\n",
      "No Brasil não cabe antidemocráticos! #Eleicoes2022 #eleicao2022 ,  Neutro\n",
      "🤖 'Elite brasileira se propõe a pagar por um governo autoritário', diz analista político#Lula #Eleições2022 ,  Neutro\n",
      "Geraldo Alckmin fez o anúncio em coletiva de imprensa, em São Paulo. Veja a lista na materia…  ,  Neutro\n",
      "Hoje eu estava no mercado e pude pegar tudo que eu queria sem pagar😊 daí acordei 🤷🏻‍♀️Já teve um sonho assim?…  ,  Neutro\n",
      "#Eleicoes2022 Como pode um cara desse tá no poder?Uma pessoa que vai contra a Liberdade de expressão e a favor de b…  ,  Negativo\n",
      "Alan dos Santos perdendo a linha com a simples pergunta: “vc mora onde?” . 😂😂😂. Alan eh um dos piores espécimes do…  ,  Neutro\n",
      "É obrigação de Lula deixar esse governo com uma aprovação perto ou possível de reeeleger o antecessor sem muita dif…  ,  Neutro\n",
      "@Rconstantino tem algo muito errado. A gente pede uma informação e recebe outra... Isso nunca aconteceu comigo, e c…  ,  Neutro\n",
      "Queria eu , falar da população pobre do nosso Brasil e chorar como um ator. E logo depois viajar em jatinho para o…  ,  Neutro\n",
      "#CensuraNao #FFAA #alexandredemoraes #jovempannews #Eleicoes2022 #fazoLagora #brazilwasstrolen #ForcasArmadas  ,  Neutro\n",
      "kursī hai tumhārā ye janāza to nahīñ hai kuchh kar nahīñ sakte to utar kyoñ nahīñ jaate #Eleicoes2022 ,  Neutro\n",
      "Que as urnas não são confiáveis, todo mundo já sabe, mas o #tse proibe questionar. Agora ao ponto importante, quem…  ,  Neutro\n",
      "Só montar uma planilha do excel aleatória e os patriotas ficam todos animadosAlguém paga um curso de Excel para e…  ,  Neutro\n",
      "🤖 John Kerry se diz 'animado' para ver Lula, mas aguarda conversa para definir ajuda dos EUA à Amazônia#Lula…  ,  Neutro\n",
      "#português #Brasil #RepúblicaFederativaDoBrasil #Eleições2022 #Eleições22 #ForçasArmadas #Sim #NãoForças Armadas v…  ,  Neutro\n",
      "#português #Brasil #RepúblicaFederativaDoBrasil #Eleições2022 #Eleições22 #ForçasArmadas #Sim #Satanás#LulaDaSilva…  ,  Neutro\n",
      "É hoje!#4ºTurno#Eleições2022  ,  Neutro\n",
      "O Brasil é Nosso !!! #BrasilNasRuas #Eleicoes2022 #BrasilComBolsonaro #🇧🇷  ,  Neutro\n",
      "💵Gamble City, cadastrou, depositou, ganhou!💵WhatsApp Suporte 24h (21) 9 8511-8867Acesse:  ,  Neutro\n",
      "Repositórios externos - Parte 2Bacharel em ciência da computação explica como essa brecha gravíssima no código das…  ,  Neutro\n",
      "Repositórios externos - Parte 1Bacharel em ciência da computação explica como essa brecha gravíssima no código das…  ,  Neutro\n",
      "Alexandre de Moraes deixa mensagem à manifestantes antidemocráticos: “terão aplicação da lei penal”by…  ,  Neutro\n",
      "@McFaul Dear Michael, bragging is not good in #Trade, it create incentive to search for alternatives. He is definit…  ,  Neutro\n",
      "🤖 COP27: 3 gráficos que mostram piora do Brasil em desmatamento, queimadas e emissões de CO2#Lula #Eleições2022 ,  Neutro\n",
      "Culpa do #lula o navio bater na ponte! Faz o L #forabolsonaromentiroso #Eleicoes2022 #PonteRioNiteroi ,  Neutro\n",
      "#Bresil 🇧🇷/💥Des camionneurs brésiliens se rendent à Brasilia et renforcent le mouvement populaire 🪧 sur place.…  ,  Neutro\n",
      "@IvanValente Quem deu o golpe é quem 🔥 #Eleicoes2022 ,  Neutro\n",
      "O povo brasileiro tem que devolver os R$25bi às vítimas do achaque fascista chamado Lava Jato. Nem que tenhamos que…  ,  Neutro\n",
      "Para nao esquecer.. #lulaladra #lularapio #eleicoes2022 #economia #dividapublica  ,  Neutro\n",
      "Two Type Of Humans That are making the world difficult □ Men who thinks women (Female) won't, and can't Chop their…  ,  Neutro\n",
      "मैनपुरी विरासत या बदलाव ?#Mainpuri #Eleicoes2022 @samajwadiparty @yadavakhilesh @dimpleyadav @BJP4India  ,  Neutro\n",
      "Exactly ! 💯 #ArizonaElection #Eleicoes2022 #ArizonaElections2022 #KariLake #Hobbs #Arizona  ,  Neutro\n",
      "Uma pequena homenagem aos Ministros que vinheram para a conferência em Nova York 🇺🇸 #ratos #ratazanas…  ,  Neutro\n",
      "Mais alguém olhando o relógio? #eleicoes2022 #arquivosdecodificados  ,  Neutro\n",
      "ભાજપ માં એવા નેતાઓને ટીકીટ આપો કે જે પોતાના દમ થી જીતે વિકાસ ના અને હિન્દુત્વ ના કરેલા કામ થી ખુરશી ઉપર બેસે..મોદી…  ,  Neutro\n",
      "Gujarat Election 2022 live: વિરોધ છતાં પણ અલ્પેશ ઠાકોરને ગાંધીનગર દ.થી ટિકિટ, કોંગ્રેસની હજી 41 બેઠકો પર ગૂંચ…  ,  Neutro\n",
      "Louva Brasil _Gospel:#Musica #MusicaReligiosa #Kwaistatus #viral #Eleições2022  ,  Neutro\n",
      "But aroused Lorraine.  The Gold Rush starting in the old frontier history as pets, stretching back thousands of la…  ,  Neutro\n",
      "\"Quem não está confuso é pq não está bem informado.\"#1984georgeorwell #1984 #admiravelmundonovo#progressismo…  ,  Neutro\n",
      "Ministros recebem vários elogios nos Estados Unidos. Vejam:#Eleicoes2022 #ALANDOSSANTOS #Qatar2022  ,  Neutro\n",
      "#Eleicoes2022 #BrasilNasRuas Pessoal Enquanto todos estão nas ruas.O pessoal do STF e o Presidente e companhia.Estã…  ,  Neutro\n",
      "#Eleicoes2022 #brazilianelections #EleccionesBrasil #BrazilianSpring #press #News #FreeSpeech #freedom #cop27…  ,  Positivo\n",
      "@MaricopaVote The traps were set, and you walked right in them. Thanks for playing. @billgatesaz @stephen_richer…  ,  Neutro\n",
      "MULHERES SÃO EXPULSAS DE UM SHOPPING POR ESTAR COM A BANDEIRA DO 🇧🇷🇧🇷🇧🇷 #bolsonaro #Eleicoes2022 #fofoca #noticia  ,  Neutro\n",
      "Instituto Alemão afirma que houve fraude. Quem confirma é o presidente do instituto que é PHD em Ciber Segurança po…  ,  Positivo\n",
      "💬🇧🇷: Bolsonaristas dizem á Elon Musk que a fraude eleitoral foi comprovada, Elon pergunta como ela foi provada e bo…  ,  Neutro\n",
      "SERIA TOP O @exercitooficial TOMAR O BRASIL DIA 22/11 ou DIA 22/12 PRA FICAR BEM MARCADO ESSE DIA, O DIA QUE A CORR…  ,  Neutro\n",
      "@Revelations616 @fellipebambam @geraldoalckmin @LulaOficial @SensoCrtico1 \"criou mais emprego\", pqp, melhor ler ess…  ,  Neutro\n",
      "PERIGO, PERIGO WILL ROBINSON!!!#dangerWillRobinson#Eleicoes2022#VOTAR ,  Neutro\n",
      "Vamos lá deixa eu ver se entendiOs manifestantes querem o que?Que as eleições sejam dadas como invalidas?Pois o…  ,  Negativo\n",
      "Preguiça de dormir , preguiça de ficar acordado , preguiça porque dizem que amanhã os perdedores vão fazer mais cha…  ,  Positivo\n",
      "Como não reportar?#Eleicoes2022 #eleicoesnomeio #forabozo  ,  Neutro\n",
      "@marianelazaro Mais com 9 dedos sendo burro vai ser difícil ele acertar kkkkk, já já ele troca o canhão por picanha…  ,  Neutro\n",
      "Vi o Alexandre de Moraes dizendo que temos que combater as fakes news na internet e temas que alimentam o ódio ..ma…  ,  Positivo\n",
      "#tratamento #gatos #ajuda #Urgencias #bbtvi #AFazenda14 #gh20222 #Eleicoes2022 ,  Positivo\n",
      "If you're a business owner, eager to launch your new eCommerce business on SHOPIFY and wish an expert team of exper…  ,  Neutro\n",
      "Vai cai o castelinho inteiro, vai ser lindo #SOSFFAA #Brasil #BrasilWasStolem #Brazil #Eleicoes2022  ,  Neutro\n",
      "Orgulho do meu voto! Santa Catarina merecia ter @KerexuOficial como deputada federal! Vai ter representação indígen…  ,  Neutro\n",
      "Enquanto a Marinha está fiscalizando urnas eletrônicas, que não é sua função, um navio abandonado colide com a Pont…  ,  Neutro\n",
      "@franzrotter @AlexVerdao51 @STF_oficial E quem está querendo golpe ? Só se for as vozes da sua cabeça.Pedir para o…  ,  Neutro\n",
      "Perguntar não ofende.Alguém viu o Kassio Nunes ou o André Mendonça em NY? #STF #Eleicoes2022 #ForaBolsonaro #LulaPresidente2022 #NY22 ,  Neutro\n",
      "#Brazil#BrazilianSpring #STFOrganizacaoCriminosa #STFVERGONHADOBRASIL #BRAZIL #Eleicoes2022 #Fraude…  ,  Neutro\n",
      "@MargretheW @LulaOficial #Eleicoes2022 #BrasilNasRuas #brasil  ,  Neutro\n",
      "Kari Lake needs 66% of the rest of the ballots to win#az #ElectionDay #Eleicoes2022 #AZGovernor #azgov ,  Neutro\n",
      "Alguns donos e sócios preferenciais já se queixam da forma como o eleito vice, Alckmin, conversa e negocia - leia a…  ,  Neutro\n",
      "👨‍👩‍👦‍👦Inconformados com resultado das urnas, bolsonaristas procuram agências para sair do Brasil…  ,  Positivo\n",
      "@VEJA E 58 MILHÕES DE BRASILEIROS ESTARÃO  COM ELE @NikoIasFerreira 🇧🇷🇧🇷🇧🇷🇧🇷🇧🇷🇧🇷🇧🇷🇧🇷🇧🇷🇧🇷🇧🇷🇧🇷🇧🇷🇧🇷🇧🇷🇧🇷🇧🇷🇧🇷🇧🇷🇧🇷🇧🇷🇧🇷🇧🇷…  ,  Neutro\n",
      "🤣🤣🤣🤣🤣Eu confesso estar meio deprimida com as coisas no momento, mas ver isso me lembra que VOU RIR MUITO nos próx…  ,  Neutro\n",
      "O cinismo e deboche demostrados por Xandão em NY mostram que ele tem praticamente a certeza de que é intocável.…  ,  Neutro\n",
      "This really hurt my heart….. We are better than this South Carolina #Eleicoes2022 #VoteBlueToProtectWomen #VOTE…  ,  Neutro\n",
      "A equipe de transição vai ter 500 cargos ?  Dinheiro do povo pagando tudo isso. Que vergonha #Politica #brasil #BrasilNasRuas #Eleicoes2022 ,  Negativo\n",
      "Ei @exercitooficial olha o que o ministro falou em NY hoje. Inacreditável. #SOSFFAA #Eleicoes2022…  ,  Neutro\n",
      "PT aguarda a saidinha de Natal para completar a equipe de transição...#PT #Lula #Politica #Eleicoes2022  ,  Neutro\n",
      "Agora vai!#Eleicoes2022  ,  Neutro\n",
      "Dono do hit 'Restitui' instiga ataques a ministros do STF nos EUA 👉 #PortalAltaDefinicao… https://t.co/kx49n8M6dz ,  Neutro\n",
      "𖣔 Fica a pergunta... 🧐⠀ Deixe sua Opinião abaixo nos Comentários ⬇️💬✍🏻⠀◆⠀◆⠀◆⠀Link do Post em nosso Instagram:…  ,  Neutro\n",
      "Qual deve ser o posicionamento cristão pós eleições 2022?É só clicar para saber 👇#Eleicoes2022 #vidacrista ,  Neutro\n",
      "Esse é o maior tapa na cara que a sociedade pode levar!#barroso #lula #novayork #Eleicoes2022 #bolsonaro #brasil  ,  Neutro\n",
      "November 14th 20222022年１１月１４日Salvador Bahia Brasil#ルラ　#ボウソナロ　#ブラジル大統領選　#Brazil #Brasil #Eleicoes2022  ,  Neutro\n",
      "#marinha #ponte #Eleicoes2022  ,  Neutro\n",
      "~ Candidata condenada dá calote em equipe de campanha eleitoralMatéria completa:@g1… https://t.co/tekGwcq6rj ,  Neutro\n",
      "Teto de gastos ‘não é uma conspiração para desmontar a área social’. Leia a carta de Arminio Fraga, Edmar Bacha e P…  ,  Neutro\n",
      "E ainda tem gente dizendo que nada está acontecendo… #bolsonaro #Eleicoes2022 #Noticia  ,  Neutro\n",
      "#LulaPresidente2022 #Eleicoes2022 #informacion  ,  Neutro\n",
      "Baba ovo do cacete! #Eleicoes2022  ,  Neutro\n",
      "🗣No Egito Lula conversa com o mundo sobre Amazônia. No Brasil militares reencenam golpismo mumificado…  ,  Neutro\n",
      "No TV Senado Live desta sexta-feira (18/11) especialistas tiram dúvidas do público sobre oatual momento político e…  ,  Positivo\n",
      "🤖 \"Conservador ou não, não pode desmatar a Amazônia\"#Lula #Eleições2022 ,  Neutro\n",
      "Música mais ouvida do Ministro Barroso #politica #eleicoes2022  ,  Neutro\n",
      "#brazil #manifestaçãobrasil #eleições2022 #brazilnews #tse #brazilpolitics #sosforçasarmadas #brazilfreeofcommunism…  ,  Neutro\n",
      "\"O Mercadante é a memória de um governo que deu errado\" @AndreiaSadi no @jornaldacbn lacrando a real sobre o início…  ,  Neutro\n",
      "Charge desta sexta-feira em GZH e Zero Hora.#charge #desenhodeimprensa #fragadesenhos #humor #fanzone…  ,  Neutro\n",
      "Pessoas na equipe de TransiçãoBolsonaro: 31Lula: 283Média salarial: R$ 17 milEsse é o tweet.  Repost…  ,  Neutro\n",
      "#Repost @direita_cartoonSe a página cair, já sabem…...#bolsonarotemrazão  #alexandredemoraes #bolsonaro…  ,  Neutro\n",
      "@Saraiva_Carlos @oldmangalego @reporterenato @LulaOficial @geraldoalckmin @meirelles \"Vai cair bolsa e subir dólar,…  ,  Neutro\n",
      "#COP27 , tenho uma mensagem pra vocês de um índio brasileiro sobre as #Eleicoes2022 #LulaLadrao #LulaNaCop…  ,  Neutro\n",
      "Olha só a incoerência: você não pode suspeitar das urnas, mas o Alexandre de Moraes pode suspeitar de você e mandar…  ,  Neutro\n",
      "E os influencers políticos e econômicos a maioria Bolsonaristas surfando numa onda (mais uma), pra tentar causar pâ…  ,  Neutro\n",
      "#Corruptos @CorrupcaoMemes @fichalimpa @InstitutoInac @medicospelobr @UCCorrupcao @VitimaCorrupcao @AntiCorrupcao22…  ,  Neutro\n",
      "BRASIL, #Eleiçoes2022Presidente Bolsonaro reaparece + magro e pessoas proximas dizem que ele está tranquilo.  ,  Neutro\n",
      "... os piores políticos do mundo ; #Eleições2022 . As promessas são antigas em meio a dor da #Fome  ,  Neutro\n",
      "Todo dia que assisto o noticiário é uma piada nova, o acesso as armas de forma legal aumentou a criminalidade, clar…  ,  Neutro\n",
      "Bom dia! #Eleicoes2022 #eleiçõessbrasil2022 #eleicoeslimpas #eleicoesbrasil  ,  Neutro\n",
      "Contagem regressiva para o mundial no Qatar.🇧🇷⚽️E no BRASIL...🤦🏾‍♂️🤦🏾‍♂️🤦🏾‍♂️#Eleicoes2022#MundialQatar2022 ,  Neutro\n",
      "@felipeneto Existe fã pra tudo, se até vc tem fã imagina ele se não vai ter!!#fechaabocafelipeneto #foraptzada #LulaLadrao #Eleicoes2022 ,  Neutro\n",
      "uma das melhores entrevistas que vi ontem foi com a maravilhosa @elenalandau2 na @CNNBrasil Elena estava na equipe…  ,  Neutro\n",
      "✍️AGENDA d' AVUI , 18-N, 19 h👇Lloc: local d' @prosperistan #NouBarris #9Barris  \"Els reptes del Nou Brasil de L…  ,  Neutro\n",
      "🤖 Lula 'toma posse' no exterior em meio a vácuo deixado por Bolsonaro#Lula #Eleições2022 ,  Neutro\n",
      "#CopaDoMundo2022 #CopaDoBrasil #Eleicoes2022 #CopaDoMundo2022 #CopaDoBrasil #Eleicoes2022 #CopaDoMundo2022…  ,  Neutro\n",
      "Outstanding experience to use this #nftart service̖!!! 😊#t1win #drxwin #teachertwitter #antifascist #emoteartist…  ,  Neutro\n",
      "केजरीवाल को LG का निेर्देश, DDC से होगी आप नेता जैस्मीन शाह की छुट्‍टी #ArvindKejriwal #Politics #DelhiLiquorScam…  ,  Neutro\n",
      "#puelectiin#Patna#Students#Union#Eleicoes2022  ,  Neutro\n",
      "#Noticias #Brasil #Eleicoes2022 #greve #cabecadeovo  ,  Neutro\n",
      "#news #Noticias  #brasil #Eleicoes2022  ,  Neutro\n",
      "I don’t know who edit this, but this is the actual fact @BJP4India @ATSBB @CNBCTV18News @cnnbrk #Eleicoes2022…  ,  Neutro\n",
      "#brasil #Noticias #Eleicoes2022  ,  Neutro\n",
      "@alexandre Eu não sou extremista antidemocrática. E o senhor não é o dono deste país. Não seria melhor apresentar o…  ,  Neutro\n",
      "Qual a “pena mínima” exigida para entrar na equipe de transição do Lula?#Brasil #Lula #brazilwasstollen #Eleicoes2022 #LulaLadrao ,  Neutro\n",
      "Faz o L ........#Eleicoes2022 #lula2022 #Bolsonaro2022  ,  Neutro\n",
      "#eleições2022 #shorts #youtubeshorts  ,  Neutro\n",
      "#LatinGrammyTNT#Anitta#COP27 #LulaPresidenteELEITO #RIPTwitter #Brazil #MrLula #Eleições2022  Democracia  ,  Neutro\n",
      "Vai aqui uma pergunta: o que os Senadores Brasileiros fazem ? #SenadoFederal #Eleições2022 ,  Negativo\n",
      "Agora que o Horti Fruti vai pro vinagre nos Supermercados, Sacolões e Feiras Livre..... Xandão deveria ser deposto…  ,  Neutro\n",
      "Onde estamos???#Eleicoes2022  ,  Neutro\n",
      "Crianças gritam pelas forças armadas! #brasil #eleições2022 #crianças #l...  ,  Neutro\n",
      "Descobrimos por que o PT ganhou no Nordeste #nordeste #PT #partidosafado #fazoL #petistas #lula #bolsonaro…  ,  Neutro\n",
      "Ahhh que bom ir dormir sabendo que tenho um presidente que rouba, mas fala bonitinho. Um criminoso condenado, mas p…  ,  Neutro\n",
      "📰Quem são e qual o crime dos empresários bolsonaristas que tiveram contas bloqueadas por Alexandre de Moraes…  ,  Neutro\n",
      "⚖Ato golpista: quem participa pode responder por diversos crimes e ser preso@UOLNoticias… https://t.co/T75XM6rUR6 ,  Neutro\n",
      "🤖 Cantor gospel e pastor Kleber Lucas é convidado para transição da Cultura#Lula #Eleicoes2022 ,  Neutro\n",
      "Lula corrompeu o Executivo, o Legislativo, o Judiciário, as Eleições e o Estado de Direito. E há quem diga votar ne…  ,  Neutro\n",
      "Verdade a J Paschoal, Dono da BozoPan e Raivan não iam sair do país? #Eleições2022 Quedê? 🤡🤡🤡#LulaEleito ,  Neutro\n",
      "Mensagem muito forte representando o momento que estamos passando. Vida de inseto, Disney. #juntossomosmaisfortes…  ,  Neutro\n",
      "E Deus continua sendo bom! Ele continua sendo Deus! #eleicoes2022 em Brasil contra Bolsonaro  ,  Negativo\n",
      "O #LinhasCruzadas desta semana debateu a paixão política que moveu as eleições deste ano. #Eleições2022…  ,  Neutro\n",
      "Após a polarização Lula x Bolsonaro nas #eleições2022, não se fala nada além da #pecdatransicao.qual seria o desfoque agora? ,  Neutro\n",
      "O filósofo acredita que o fracasso tucano nas disputas presidenciais com o PT contribuiu para o surgimento do bolso…  ,  Neutro\n",
      "👊🇧🇷#eleiçoes2022 #SOSFFAA #brazilwasstolen #VEMPRARUABRASIL  ,  Neutro\n",
      "Apesar de ser escrachado a maioria dos absurdos que nossos mestre fazem, deixamos passar muito das coisas em branco…  ,  Negativo\n",
      "🤖 Integrante da transição, Boulos defende revogar eventuais nomeações de Bolsonaro ao fim do mandato #Lula…  ,  Neutro\n",
      "⚠️ Foro de São Paulo: o maior inimigo do Brasil e de toda América Latina! #Brasil #eleicoesbrasil #eleicoes2022…  ,  Neutro\n",
      "#eleicoes2022 #memes #fypシ #viral #fy #fyp #noticias #patriotas #bolsomi...  ,  Neutro\n",
      "Conversa sadia entre dois petista #fazoL #petistas #lula #bolsonaro #manifestação #brasil #politica #jairbolsonaro…  ,  Negativo\n",
      "Flagrante de transporte legal de eleitoras no 3° turno (noturno) pós #Eleições2022. A concentração e o movimento do…  ,  Neutro\n",
      "2022 - Caiu! Guido Mantega, que está impedido de exercer cargos públicos (ℹ  ,  Neutro\n",
      "🤖 Com 'estilo bedel', Mercadante revolta setores da transição ao falar que programa de governo já está pronto e que…  ,  Neutro\n",
      "#STFRompeuADemocracia #STFVergonhaNacional #BrasilWasSto13n #SOSFFAA #SOSFORCASARMADAS #SOSMilitares #SOSBrazil…  ,  Neutro\n",
      "e agora o senador precisa forçar o STE a fazer uma fogueira com essas urnas antigas, ja que agora foi constatada fa…  ,  Neutro\n",
      "Sugestão de enquete para o @OsPingosJP @JovemPanNews: em quem você votou no último dia 30/10? A) Bolsonaro; B) Ex-p…  ,  Neutro\n",
      "Luciano Hang I Bolsonaro I Alexandre de Moraes I Lula - Informações#SOSFORCASARMADAS… https://t.co/stSXuYb5Db ,  Neutro\n",
      "🤖 Antes de deixar o Egito, Lula se encontra com secretário-geral da ONU e autoridades europeias#Lula #Eleicoes2022 ,  Neutro\n",
      "#Brazil #Brasil #BrazilianSpring #Election2022 #Eleicoes2022 #BrazilWasStolem Moste pro seu amigo que só acre…  ,  Neutro\n",
      "A justiça anulou a última eleição devido a irregularidades no processo.  Mas, não se anime! Foi na Alemanha!…  ,  Neutro\n",
      "🤖 Todos os gastos de governo serão revisados pela nova gestão, diz Geraldo Alckmin à GloboNews#Lula #Eleicoes2022 ,  Neutro\n",
      "🤖 Bolsonaro completa duas semanas recluso e com compromissos apenas na residência oficial #Lula #Eleicoes2022 ,  Neutro\n",
      "2022 - O Governo cedeu o Edifício Cidade 1, Centro-SP, para #Tarcisio de Freitas (@tarcisiogdf) conduzir a transiçã…  ,  Neutro\n",
      "Desmontaram a FEIRA LIVRE no Comando do Exército de São Paulo - SP. Ali vende-se de tudo ! #ibirapuera…  ,  Neutro\n",
      "#Brazilianspring #Eleicoes2022 #BrasilNasRuas #Brazil #Brasil  ,  Neutro\n",
      "Além do Distrito Federal, pelo menos onze estados registraram movimentação nas ruas, entre eles Rio de Janeiro, São…  ,  Neutro\n",
      "#Eleicoes2022  ,  Neutro\n",
      "Os EUA não nos ajudam por gostar de nós, nos ajuda para não nos tornamos aliados dos inimigos deles.NUNCA é boa i…  ,  Positivo\n",
      "Resultado da enquete sobre os #golpistas :#eleições2022  ,  Neutro\n",
      "S.O.S SALVEM O BRASIL#brasil #fraude #Eleicoes2022#liberdade #lula #Bolsonaro #TikTok  ,  Neutro\n",
      "#tbt de um excelente bate-papo com a Deputada @tabataamaralsp , no início de 2020..Aproveito a oportunidade pra p…  ,  Negativo\n",
      "Quem é o MERCADO??Designa-se por mercado todo o processo de interação humana de troca voluntária de bens e serviço…  ,  Positivo\n",
      "DOCUMENTARIO DO @RACIONAISCN na @NetflixBrasil  em um trecho @manobrown Afirma que nós anos 2000 foi a virada com a…  ,  Neutro\n",
      "2022 - A polarização política no Brasil está tão exagerada que eu não duvido de que pessoas (ℹ…  ,  Negativo\n",
      "Strike oneGuido Mantega está fora da equipe de transição de Lula#Eleicoes2022 #Brasil ,  Neutro\n",
      "Eu vou desmaiar #gado #Eleicoes2022 #lula #brasi  ,  Neutro\n",
      "... eu espero , #Eleições2022 , vamos reconstruir o Brazil mais uma vez com o suor de muit@s e canetada de pouc@s ;  ,  Neutro\n",
      "Alguém pode avisar ao sr. Luis Inácio que emprego não se gera sem investimento? #PTNuncaMais #Eleicoes2022 ,  Neutro\n",
      "O cabeça de ovo Censura todos que fala sobre a fraude na unas alguém tem que para esse homem  E faraó Brasil #Eleicoes2022 ,  Neutro\n",
      "Decretos de Armas de Bolsonaro serão revogados pelo governo Lula, anuncia equipe de transição#decretos #armas…  ,  Positivo\n",
      "Satanás tá impedido ela de ir aos cultos, desde que foi derrotado DEMOCRATICAMENTE nas urnas, por mais de 60 milhõe…  ,  Neutro\n",
      "Aqui um link pra relembrar o principal do Plano de Governo de Ciro Gomes nas #eleições2022  ,  Neutro\n",
      "\"Eleição não se ganha, se toma!\"-Ministro Barroso (2021)\"Perdeu Mané, não amola\"-Ministro Barroso (2022)O que…  ,  Neutro\n",
      "Tem horas que eu entendo porque  alguns  artistas caem na decadência  porque  eles ficam  alienados.#eleições2022…  ,  Neutro\n",
      "#eleicoesbrasil #eleições2022#Brazilelections #codigofontetse  ,  Neutro\n",
      "@LulaOficial As eleições no #Brasil são tão verdadeiras quanto os seguidores do presidente descondenado😂😂😂😂😂 Só tem…  ,  Neutro\n",
      "Protecting the vote: How officials supervised the election system in midterms, 2024  ,  Neutro\n",
      "🤖 Transição: grupos têm até 11 de dezembro para propor medidas e 'revogaço' de normas em cada área#Lula…  ,  Neutro\n",
      "Hello there @elonmusk (just in case)#BrazilWasStolen #Eleicoes2022  ,  Neutro\n",
      "How Brazil’s Electoral System Helped Democracy Defeat Disinformation#politics #brazil #democracy #FakeNews…  ,  Neutro\n",
      "Romeu Zema foi um dos principais apoiadores de Bolsonaro no 2º turno das eleições.@RomeuZema @jairbolsonaro…  ,  Neutro\n",
      "Exato , tem o nosso apoio , vamos todos fazer a nossa parte!! Eles precisam saber que o povo não faz parte desse jo…  ,  Neutro\n",
      "Com Gussi, da Unica, na transição de Lula, etanol sobe contrariando pressão baixista na semana#AgroTimes…  ,  Neutro\n",
      "A saga continua. Mais uma da série PENSAR NÃO DÓI...#Eleiçoes2022 #LULADRÃOdevoltanaPRISÃO#BolsonaroReeleito2022…  ,  Neutro\n",
      "Eleitor tem até 1/12 para justificar ausência no 1º turno#eleitor #faroldabahia #1turno #Eleicoes2022 #politica ,  Neutro\n",
      "#Eleições2022 | Xenofobia, intolerância religiosa e misoginia foram os três crimes odiosos que lideraram o aumento…  ,  Neutro\n",
      "@Zacarias_Forte @paulofilippus Não esmoreça. Temos de insistir e persistir tudo que os #Canalhas querem e nós fazer…  ,  Neutro\n",
      "🤖 PEC da Transição: 'Agora é com o Congresso', diz Wellington Dias sobre compensar gastos; mercado vê risco alta na…  ,  Neutro\n",
      "#Eleicoes2022 #Economia#SOSFFA #brazilwasstolen #VemPraRuaBrasil  ,  Neutro\n",
      "🤖 Lula deve visitar a Argentina antes da posse, diz Celso Amorim#Lula #Eleicoes2022 ,  Neutro\n",
      "Alguém que considera o governo atualmente eleito, uma boa opção para o Brasil, só revela a inteligência e o caráter…  ,  Neutro\n",
      "We must have faith in our elections, regardless of what party we support.  #Eleicoes2022 ,  Neutro\n",
      "Mais um das fraudes das #Eleicoes2022  ,  Neutro\n",
      "Não é a toa que muitos votaram no L. do PT. Artista então  estão de volta ao paraíso. Com o NOSSO DINHEIRO.…  ,  Neutro\n",
      "Freedom isn't free!#Eleicoes2022 #brazilianelections #EleccionesBrasil #BrazilianSpring #press #News #FreeSpeech…  ,  Positivo\n",
      "Eleitor tem 60 dias após cada turno para justificar ausência às eleições -  ,  Neutro\n",
      "Bolsonaro retoma agenda na próxima semana#brasil #bolsonaro #agenda #abatido #tratamento… https://t.co/qzQYj1zwxa ,  Neutro\n",
      "#Politica #Eleicoes2022  ,  Neutro\n",
      "Esse careca da jovem pan levantando dúvidas sobre o \"gráfica\" do #bolsonarovagabundo #PerdeuMane ter parado de subi…  ,  Neutro\n",
      "Eles estão cada vez mais perigosos. Façam alguma coisa. @STF_oficial @alexandre @MPF_PGR #eleicao2022 #Eleicoes2022…  ,  Neutro\n",
      "Imagina se os quarteis abrirem seus portões e acolher os manifestantes... Só imagina!#Eleicoes2022…  ,  Neutro\n",
      "🧵 A Jovem Pan noticiou que o primeiro-ministro da Holanda, Mark Rutte, “confirmou” que houve fraude nas…  ,  Neutro\n",
      "#ForaBolsonaro #Eleicoes2022 #respeitoademocracia #respeitoaconstituicao  ,  Neutro\n",
      "@QuebrandoOTabu Depois de todo esse auê e mimimi dos manifestantes golpistas (com apoio da PRF) após a DERROTA do B…  ,  Neutro\n",
      "Photo shows Brazil protest in 2016, not 2022#politics #brazil #FactCheck #FakeNews #eleições #eleições2022…  ,  Neutro\n",
      "... estava escrito nas estrelas , os piores políticos do mundo ; #Eleições2022 .  ,  Neutro\n",
      "... o #Brasil está quebrado ; novidade . Ufa , votei Fernando @Haddad_Fernando eu espero #Eleições2022 vamos recons…  ,  Negativo\n",
      "Hoje, às 21h, estarei no canal da @redefale falando sobre o impacto das eleições de 2022 no meio evangélico.…  ,  Neutro\n",
      "Craque brasileiro Neymar foi citado em cutucada de Thiago para Bruno Gagliasso; camisa 10 tem reação no Instagram…  ,  Neutro\n",
      "#Eleicoes2022 #trote #fraude #flop #fly  ,  Neutro\n",
      "Depois que o período eleitoral passou, percebi que eu gosto do Twitter, mas eu gosto mais de arengar mesmo #Eleicoes2022 #Twitter ,  Neutro\n",
      "Missões de Observação Eleitoral ➡️ @TransparenciaAL e @CAOESTE_ONG destacam boa prática eleitoral no Brasil. Os gr…  ,  Neutro\n",
      "Pra quem não têm problema de aminesia na Austrália em 2016 as eleições foram anuladas em virtude na desconfiança na…  ,  Neutro\n",
      "Cada enxadada 1000 minhocas.. e vamos mais fundo ainda.. #fraudenasurnas #eleicoes2022 #ptnuncamais❌  ,  Neutro\n",
      "Fato: Apenas 1 em cada 4 brasileiros elegeram o \"novo\" presidente, isso não representa a maioria. #eleicao2022 #Eleicoes2022 ,  Neutro\n",
      "🤖 PEC da Transição: equipe de Lula fará reunião com partidos para articular votação#Lula #Eleicoes2022 ,  Neutro\n",
      "Bolsonaro’s party double-deals again on election fraud conspiracy#politics #brazil #democracy #eleições…  ,  Neutro\n",
      "૩૮ કલોલ વિધાનસભાના ભારતીય જનતા પાર્ટીના લોકપ્રિય ઉમેદવાર શ્રી લક્ષ્મણજી પી ઠાકોર ( બકાજી ) એ જંગી જન સમર્થન સાથે પો…  ,  Neutro\n",
      "@danuzio_neto Atos GOLPISTAS!Todos tem de ser responsabilizados após apuração rigorosa!#golpenuncamais…  ,  Neutro\n",
      "O meu tio o professor me repersenta é Lula Presidente 13 no 2°turno até a vitória ❤️⭐ e FORABOLSONARO !!!…  ,  Neutro\n",
      "Tem pista de pouso clandestina na Amazônia, navios abandonados no mar e quilômetros de fronteira para ocupar nossas…  ,  Neutro\n",
      "To be praised you just need to follow the left-wing agenda. Everything else is fascism. @bpolitics @opinion…  ,  Neutro\n",
      "🤖 Lula diz ter 'obrigação moral' de fazer reparação a povos indígenas#Lula #Eleicoes2022 ,  Neutro\n",
      "🤖 Presidente do União Brasil, Bivar negocia espaços na Câmara em troca de apoio a Lula e Arthur Lira#Lula…  ,  Neutro\n",
      "Saindo quente, como o clima pré copa!!! #Satire #Politica #Eleicoes2022 #Patriotarios #CopadoMundo  ,  Neutro\n",
      "Hahaha via @JoaquinTeixeira no grupo do @telegram_br! Excelente. @infomoney #politica #brasil #Eleicoes2022  ,  Negativo\n",
      "🤖 O que diz a PEC da Transição, que tira o Bolsa Família do teto de gastos#Lula #Eleições2022 ,  Neutro\n",
      "Frases de quem não apresentou um plano de governo e quer governar o Brasil:- Esse mercado é uma vergonha - Estrad…  ,  Negativo\n",
      "Os manés reclamando de serem chamados de mané.🤷🏼‍♀️#Eleicoes2022 #eleição #eleicoes  ,  Neutro\n",
      "Estamos vivendo a ditadura escancarada! #AlexandreDeMoraesNaCadeia #Eleicoes2022 #brazil #BrasilNasRuas…  ,  Neutro\n",
      "A diferença é muito claro cupanherôs! #LulaPresidente1️⃣3️⃣ #ForaBolsonaro #Eleicoes2022 #COP27 #confirmed  ,  Neutro\n",
      "@policiafederal a Carla Zambelli vai estar hoje no No programa Pânico na Jovem Pan. Acho uma ótima oportunidade par…  ,  Neutro\n",
      "O presidente eleito @LulaOficial disse que irá apoiar e ajudar novos projetos para viagens interplanetárias de…  ,  Positivo\n",
      "#TáNaRedeContee #Eleições2022 | 17.11.22O PL vai abrir mão dos seus 237 políticos eleitos em todo país ou só dos…  ,  Neutro\n",
      "@OsvaldoLucaF1 @Claudia28671794 @movadvdireitabr #SOSFORCASARMADAS #brazilwassotolen #Brasil #notícia #informção…  ,  Neutro\n",
      "@revistaoeste #SOSFORCASARMADAS #brazilwassotolen #Brasil #notícia #informção #eleições #eleicoes2022…  ,  Neutro\n",
      "@profpaulamarisa #SOSFORCASARMADAS #brazilwassotolen #Brasil #notícia #informção #eleições #eleicoes2022…  ,  Neutro\n",
      "@joao_jb22 @Claudia28671794 @CarlosBolsonaro #SOSFORCASARMADAS #brazilwassotolen #Brasil #notícia #informção…  ,  Neutro\n",
      "@franzfiocruz @eliz_audut #SOSFORCASARMADAS #brazilwassotolen #Brasil #notícia #informção #eleições #eleicoes2022…  ,  Neutro\n",
      "@Claudio531531 @Claudia28671794 #SOSFORCASARMADAS #brazilwassotolen #Brasil #notícia #informção #eleições…  ,  Neutro\n",
      "@IzabelleFores @Claudia28671794 @AlanLopesRio #SOSFORCASARMADAS #brazilwassotolen #Brasil #notícia #informção…  ,  Neutro\n",
      "@kimpaim #SOSFORCASARMADAS #brazilwassotolen #Brasil #notícia #informção #eleições #eleicoes2022…  ,  Neutro\n",
      "@gazetadopovo @gprepublica #SOSFORCASARMADAS #brazilwassotolen #Brasil #notícia #informção #eleições #eleicoes2022…  ,  Neutro\n",
      "@TerraBrasilnot #SOSFORCASARMADAS #brazilwassotolen #Brasil #notícia #informção #eleições #eleicoes2022…  ,  Neutro\n",
      "@JovemPanNews #SOSFORCASARMADAS #brazilwassotolen #Brasil #notícia #informção #eleições #eleicoes2022…  ,  Neutro\n",
      "@brom_elisa #SOSFORCASARMADAS #brazilwassotolen #Brasil #notícia #informção #eleições #eleicoes2022…  ,  Neutro\n",
      "Como a esquerda gosta de ver o Nordeste... pobre, praia e festas.#Eleicoes2022 #brazilianelections…  ,  Neutro\n",
      "@ThiagoResiste Eita Que ser petista é ser MENTIROSO EM GRAU MÁXIMO. o cara tava literalmente tentando esfaquear um…  ,  Neutro\n",
      "@adilsonesp #SOSFORCASARMADAS #brazilwassotolen #Brasil #notícia #informção #eleições #eleicoes2022…  ,  Neutro\n",
      "#SOSFORCASARMADAS #brazilwassotolen #Brasil #notícia #informção #eleições #eleicoes2022 #bolsonaropresidente…  ,  Neutro\n",
      "@gustamito22 @10_5_6_5 #SOSFORCASARMADAS #brazilwassotolen #Brasil #notícia #informção #eleições #eleicoes2022…  ,  Neutro\n",
      "@EdRaposo_ @opropriofaka #SOSFORCASARMADAS #brazilwassotolen #Brasil #notícia #informção #eleições #eleicoes2022…  ,  Neutro\n",
      "@moni61703201 #SOSFORCASARMADAS #brazilwassotolen #Brasil #notícia #informção #eleições #eleicoes2022…  ,  Neutro\n",
      "@alertatotal @rmotta2 #SOSFORCASARMADAS #brazilwassotolen #Brasil #notícia #informção #eleições #eleicoes2022…  ,  Neutro\n",
      "#Eleicoes2022 #transparente #lisura #apenasqueremososcodigos #paraauditar #nossodireito #constituicaofederal  ,  Neutro\n",
      "@Ospatriotasbr #SOSFORCASARMADAS #brazilwassotolen #Brasil #notícia #informção #eleições #eleicoes2022…  ,  Neutro\n",
      "@joaquimleitemma @AlokSharma_RDG #SOSFORCASARMADAS #brazilwassotolen #Brasil #notícia #informção #eleições…  ,  Neutro\n",
      "O Partido PL descobriu muita coisa para pedir a anulação das eleições com 8 Senadores, os 99 Deputados Federais, 12…  ,  Neutro\n",
      "@SenadoFederal@camaradeputados @ArthurLira_@augustosnunes @EduGiraoOficial @folha_politica @EstadaoPolitica #BDRJ…  ,  Neutro\n",
      "Exclusivo: PL vai pedir anulação das eleições de 2022#Brasil #brazil #Bolsonaro #lula #Eleicoes2022 #eleicoes…  ,  Neutro\n",
      "@LulaOficial carona?Olha o mensalao ai gente.@SenadoFederal@camaradeputados @ArthurLira_@augustosnunes …  ,  Neutro\n",
      "@randolfeap O que não falta a @lulaOficial, é título,né?@SenadoFederal@camaradeputados @ArthurLira_ …  ,  Neutro\n"
     ]
    }
   ],
   "source": [
    "predicao = []\n",
    "for tweet, pred in zip(tweets, model.predict(tweets_processados)):\n",
    "    print (tweet, \", \", pred)\n",
    "    predicao.append(pred)\n"
   ]
  },
  {
   "cell_type": "code",
   "execution_count": 43,
   "metadata": {},
   "outputs": [
    {
     "data": {
      "text/html": [
       "<div>\n",
       "<style scoped>\n",
       "    .dataframe tbody tr th:only-of-type {\n",
       "        vertical-align: middle;\n",
       "    }\n",
       "\n",
       "    .dataframe tbody tr th {\n",
       "        vertical-align: top;\n",
       "    }\n",
       "\n",
       "    .dataframe thead th {\n",
       "        text-align: right;\n",
       "    }\n",
       "</style>\n",
       "<table border=\"1\" class=\"dataframe\">\n",
       "  <thead>\n",
       "    <tr style=\"text-align: right;\">\n",
       "      <th></th>\n",
       "      <th>Tweets</th>\n",
       "      <th>Classificacao</th>\n",
       "    </tr>\n",
       "  </thead>\n",
       "  <tbody>\n",
       "    <tr>\n",
       "      <th>0</th>\n",
       "      <td>In Brazil And U.S., Elections As Stress Tests For Democracy#politics #brazil #UnitedStates #democracy #eleições…</td>\n",
       "      <td>Neutro</td>\n",
       "    </tr>\n",
       "    <tr>\n",
       "      <th>1</th>\n",
       "      <td>Continuamos na luta! #brazilwasstollen #Eleicoes2022</td>\n",
       "      <td>Neutro</td>\n",
       "    </tr>\n",
       "    <tr>\n",
       "      <th>2</th>\n",
       "      <td>Veja a lista de 43 pessoas físicas e jurídicas suspeitas de financiar atos antidemocráticos (Piada pronta):.09 -…</td>\n",
       "      <td>Neutro</td>\n",
       "    </tr>\n",
       "    <tr>\n",
       "      <th>3</th>\n",
       "      <td>É a política no Brasil tá como? #Politica #Brasil #Eleicoes2022 @iRodolffo te explica melhor 😂😂😂🧨🔫🖋️🔪💸🚜🥊🏹🍕🥩🍳🐀🐄</td>\n",
       "      <td>Neutro</td>\n",
       "    </tr>\n",
       "    <tr>\n",
       "      <th>4</th>\n",
       "      <td>@Seondetails #PERDEUMANÉ#LulaJá #LulaPresidente #Lula2022 #Lula#Eleições2022 #Eleiçoes22 #Brasil#FORABOLSONARO…</td>\n",
       "      <td>Neutro</td>\n",
       "    </tr>\n",
       "  </tbody>\n",
       "</table>\n",
       "</div>"
      ],
      "text/plain": [
       "                                                                                                               Tweets  \\\n",
       "0   In Brazil And U.S., Elections As Stress Tests For Democracy#politics #brazil #UnitedStates #democracy #eleições…    \n",
       "1                                                               Continuamos na luta! #brazilwasstollen #Eleicoes2022    \n",
       "2  Veja a lista de 43 pessoas físicas e jurídicas suspeitas de financiar atos antidemocráticos (Piada pronta):.09 -…    \n",
       "3     É a política no Brasil tá como? #Politica #Brasil #Eleicoes2022 @iRodolffo te explica melhor 😂😂😂🧨🔫🖋️🔪💸🚜🥊🏹🍕🥩🍳🐀🐄    \n",
       "4    @Seondetails #PERDEUMANÉ#LulaJá #LulaPresidente #Lula2022 #Lula#Eleições2022 #Eleiçoes22 #Brasil#FORABOLSONARO…    \n",
       "\n",
       "  Classificacao  \n",
       "0        Neutro  \n",
       "1        Neutro  \n",
       "2        Neutro  \n",
       "3        Neutro  \n",
       "4        Neutro  "
      ]
     },
     "execution_count": 43,
     "metadata": {},
     "output_type": "execute_result"
    }
   ],
   "source": [
    "tweets_predicao = pd.DataFrame({\"Tweets\":tweets, \"Classificacao\":predicao})\n",
    "                            \n",
    "tweets_predicao.head()"
   ]
  },
  {
   "cell_type": "code",
   "execution_count": 46,
   "metadata": {},
   "outputs": [
    {
     "data": {
      "application/vnd.plotly.v1+json": {
       "config": {
        "plotlyServerURL": "https://plot.ly"
       },
       "data": [
        {
         "alignmentgroup": "True",
         "hovertemplate": "x=%{x}<br>y=%{y}<extra></extra>",
         "legendgroup": "",
         "marker": {
          "color": "#636efa",
          "pattern": {
           "shape": ""
          }
         },
         "name": "",
         "offsetgroup": "",
         "orientation": "v",
         "showlegend": false,
         "textposition": "auto",
         "type": "bar",
         "x": [
          "Neutro",
          "Positivo",
          "Negativo"
         ],
         "xaxis": "x",
         "y": [
          723,
          45,
          36
         ],
         "yaxis": "y"
        }
       ],
       "layout": {
        "barmode": "relative",
        "legend": {
         "tracegroupgap": 0
        },
        "template": {
         "data": {
          "bar": [
           {
            "error_x": {
             "color": "#2a3f5f"
            },
            "error_y": {
             "color": "#2a3f5f"
            },
            "marker": {
             "line": {
              "color": "#E5ECF6",
              "width": 0.5
             },
             "pattern": {
              "fillmode": "overlay",
              "size": 10,
              "solidity": 0.2
             }
            },
            "type": "bar"
           }
          ],
          "barpolar": [
           {
            "marker": {
             "line": {
              "color": "#E5ECF6",
              "width": 0.5
             },
             "pattern": {
              "fillmode": "overlay",
              "size": 10,
              "solidity": 0.2
             }
            },
            "type": "barpolar"
           }
          ],
          "carpet": [
           {
            "aaxis": {
             "endlinecolor": "#2a3f5f",
             "gridcolor": "white",
             "linecolor": "white",
             "minorgridcolor": "white",
             "startlinecolor": "#2a3f5f"
            },
            "baxis": {
             "endlinecolor": "#2a3f5f",
             "gridcolor": "white",
             "linecolor": "white",
             "minorgridcolor": "white",
             "startlinecolor": "#2a3f5f"
            },
            "type": "carpet"
           }
          ],
          "choropleth": [
           {
            "colorbar": {
             "outlinewidth": 0,
             "ticks": ""
            },
            "type": "choropleth"
           }
          ],
          "contour": [
           {
            "colorbar": {
             "outlinewidth": 0,
             "ticks": ""
            },
            "colorscale": [
             [
              0,
              "#0d0887"
             ],
             [
              0.1111111111111111,
              "#46039f"
             ],
             [
              0.2222222222222222,
              "#7201a8"
             ],
             [
              0.3333333333333333,
              "#9c179e"
             ],
             [
              0.4444444444444444,
              "#bd3786"
             ],
             [
              0.5555555555555556,
              "#d8576b"
             ],
             [
              0.6666666666666666,
              "#ed7953"
             ],
             [
              0.7777777777777778,
              "#fb9f3a"
             ],
             [
              0.8888888888888888,
              "#fdca26"
             ],
             [
              1,
              "#f0f921"
             ]
            ],
            "type": "contour"
           }
          ],
          "contourcarpet": [
           {
            "colorbar": {
             "outlinewidth": 0,
             "ticks": ""
            },
            "type": "contourcarpet"
           }
          ],
          "heatmap": [
           {
            "colorbar": {
             "outlinewidth": 0,
             "ticks": ""
            },
            "colorscale": [
             [
              0,
              "#0d0887"
             ],
             [
              0.1111111111111111,
              "#46039f"
             ],
             [
              0.2222222222222222,
              "#7201a8"
             ],
             [
              0.3333333333333333,
              "#9c179e"
             ],
             [
              0.4444444444444444,
              "#bd3786"
             ],
             [
              0.5555555555555556,
              "#d8576b"
             ],
             [
              0.6666666666666666,
              "#ed7953"
             ],
             [
              0.7777777777777778,
              "#fb9f3a"
             ],
             [
              0.8888888888888888,
              "#fdca26"
             ],
             [
              1,
              "#f0f921"
             ]
            ],
            "type": "heatmap"
           }
          ],
          "heatmapgl": [
           {
            "colorbar": {
             "outlinewidth": 0,
             "ticks": ""
            },
            "colorscale": [
             [
              0,
              "#0d0887"
             ],
             [
              0.1111111111111111,
              "#46039f"
             ],
             [
              0.2222222222222222,
              "#7201a8"
             ],
             [
              0.3333333333333333,
              "#9c179e"
             ],
             [
              0.4444444444444444,
              "#bd3786"
             ],
             [
              0.5555555555555556,
              "#d8576b"
             ],
             [
              0.6666666666666666,
              "#ed7953"
             ],
             [
              0.7777777777777778,
              "#fb9f3a"
             ],
             [
              0.8888888888888888,
              "#fdca26"
             ],
             [
              1,
              "#f0f921"
             ]
            ],
            "type": "heatmapgl"
           }
          ],
          "histogram": [
           {
            "marker": {
             "pattern": {
              "fillmode": "overlay",
              "size": 10,
              "solidity": 0.2
             }
            },
            "type": "histogram"
           }
          ],
          "histogram2d": [
           {
            "colorbar": {
             "outlinewidth": 0,
             "ticks": ""
            },
            "colorscale": [
             [
              0,
              "#0d0887"
             ],
             [
              0.1111111111111111,
              "#46039f"
             ],
             [
              0.2222222222222222,
              "#7201a8"
             ],
             [
              0.3333333333333333,
              "#9c179e"
             ],
             [
              0.4444444444444444,
              "#bd3786"
             ],
             [
              0.5555555555555556,
              "#d8576b"
             ],
             [
              0.6666666666666666,
              "#ed7953"
             ],
             [
              0.7777777777777778,
              "#fb9f3a"
             ],
             [
              0.8888888888888888,
              "#fdca26"
             ],
             [
              1,
              "#f0f921"
             ]
            ],
            "type": "histogram2d"
           }
          ],
          "histogram2dcontour": [
           {
            "colorbar": {
             "outlinewidth": 0,
             "ticks": ""
            },
            "colorscale": [
             [
              0,
              "#0d0887"
             ],
             [
              0.1111111111111111,
              "#46039f"
             ],
             [
              0.2222222222222222,
              "#7201a8"
             ],
             [
              0.3333333333333333,
              "#9c179e"
             ],
             [
              0.4444444444444444,
              "#bd3786"
             ],
             [
              0.5555555555555556,
              "#d8576b"
             ],
             [
              0.6666666666666666,
              "#ed7953"
             ],
             [
              0.7777777777777778,
              "#fb9f3a"
             ],
             [
              0.8888888888888888,
              "#fdca26"
             ],
             [
              1,
              "#f0f921"
             ]
            ],
            "type": "histogram2dcontour"
           }
          ],
          "mesh3d": [
           {
            "colorbar": {
             "outlinewidth": 0,
             "ticks": ""
            },
            "type": "mesh3d"
           }
          ],
          "parcoords": [
           {
            "line": {
             "colorbar": {
              "outlinewidth": 0,
              "ticks": ""
             }
            },
            "type": "parcoords"
           }
          ],
          "pie": [
           {
            "automargin": true,
            "type": "pie"
           }
          ],
          "scatter": [
           {
            "fillpattern": {
             "fillmode": "overlay",
             "size": 10,
             "solidity": 0.2
            },
            "type": "scatter"
           }
          ],
          "scatter3d": [
           {
            "line": {
             "colorbar": {
              "outlinewidth": 0,
              "ticks": ""
             }
            },
            "marker": {
             "colorbar": {
              "outlinewidth": 0,
              "ticks": ""
             }
            },
            "type": "scatter3d"
           }
          ],
          "scattercarpet": [
           {
            "marker": {
             "colorbar": {
              "outlinewidth": 0,
              "ticks": ""
             }
            },
            "type": "scattercarpet"
           }
          ],
          "scattergeo": [
           {
            "marker": {
             "colorbar": {
              "outlinewidth": 0,
              "ticks": ""
             }
            },
            "type": "scattergeo"
           }
          ],
          "scattergl": [
           {
            "marker": {
             "colorbar": {
              "outlinewidth": 0,
              "ticks": ""
             }
            },
            "type": "scattergl"
           }
          ],
          "scattermapbox": [
           {
            "marker": {
             "colorbar": {
              "outlinewidth": 0,
              "ticks": ""
             }
            },
            "type": "scattermapbox"
           }
          ],
          "scatterpolar": [
           {
            "marker": {
             "colorbar": {
              "outlinewidth": 0,
              "ticks": ""
             }
            },
            "type": "scatterpolar"
           }
          ],
          "scatterpolargl": [
           {
            "marker": {
             "colorbar": {
              "outlinewidth": 0,
              "ticks": ""
             }
            },
            "type": "scatterpolargl"
           }
          ],
          "scatterternary": [
           {
            "marker": {
             "colorbar": {
              "outlinewidth": 0,
              "ticks": ""
             }
            },
            "type": "scatterternary"
           }
          ],
          "surface": [
           {
            "colorbar": {
             "outlinewidth": 0,
             "ticks": ""
            },
            "colorscale": [
             [
              0,
              "#0d0887"
             ],
             [
              0.1111111111111111,
              "#46039f"
             ],
             [
              0.2222222222222222,
              "#7201a8"
             ],
             [
              0.3333333333333333,
              "#9c179e"
             ],
             [
              0.4444444444444444,
              "#bd3786"
             ],
             [
              0.5555555555555556,
              "#d8576b"
             ],
             [
              0.6666666666666666,
              "#ed7953"
             ],
             [
              0.7777777777777778,
              "#fb9f3a"
             ],
             [
              0.8888888888888888,
              "#fdca26"
             ],
             [
              1,
              "#f0f921"
             ]
            ],
            "type": "surface"
           }
          ],
          "table": [
           {
            "cells": {
             "fill": {
              "color": "#EBF0F8"
             },
             "line": {
              "color": "white"
             }
            },
            "header": {
             "fill": {
              "color": "#C8D4E3"
             },
             "line": {
              "color": "white"
             }
            },
            "type": "table"
           }
          ]
         },
         "layout": {
          "annotationdefaults": {
           "arrowcolor": "#2a3f5f",
           "arrowhead": 0,
           "arrowwidth": 1
          },
          "autotypenumbers": "strict",
          "coloraxis": {
           "colorbar": {
            "outlinewidth": 0,
            "ticks": ""
           }
          },
          "colorscale": {
           "diverging": [
            [
             0,
             "#8e0152"
            ],
            [
             0.1,
             "#c51b7d"
            ],
            [
             0.2,
             "#de77ae"
            ],
            [
             0.3,
             "#f1b6da"
            ],
            [
             0.4,
             "#fde0ef"
            ],
            [
             0.5,
             "#f7f7f7"
            ],
            [
             0.6,
             "#e6f5d0"
            ],
            [
             0.7,
             "#b8e186"
            ],
            [
             0.8,
             "#7fbc41"
            ],
            [
             0.9,
             "#4d9221"
            ],
            [
             1,
             "#276419"
            ]
           ],
           "sequential": [
            [
             0,
             "#0d0887"
            ],
            [
             0.1111111111111111,
             "#46039f"
            ],
            [
             0.2222222222222222,
             "#7201a8"
            ],
            [
             0.3333333333333333,
             "#9c179e"
            ],
            [
             0.4444444444444444,
             "#bd3786"
            ],
            [
             0.5555555555555556,
             "#d8576b"
            ],
            [
             0.6666666666666666,
             "#ed7953"
            ],
            [
             0.7777777777777778,
             "#fb9f3a"
            ],
            [
             0.8888888888888888,
             "#fdca26"
            ],
            [
             1,
             "#f0f921"
            ]
           ],
           "sequentialminus": [
            [
             0,
             "#0d0887"
            ],
            [
             0.1111111111111111,
             "#46039f"
            ],
            [
             0.2222222222222222,
             "#7201a8"
            ],
            [
             0.3333333333333333,
             "#9c179e"
            ],
            [
             0.4444444444444444,
             "#bd3786"
            ],
            [
             0.5555555555555556,
             "#d8576b"
            ],
            [
             0.6666666666666666,
             "#ed7953"
            ],
            [
             0.7777777777777778,
             "#fb9f3a"
            ],
            [
             0.8888888888888888,
             "#fdca26"
            ],
            [
             1,
             "#f0f921"
            ]
           ]
          },
          "colorway": [
           "#636efa",
           "#EF553B",
           "#00cc96",
           "#ab63fa",
           "#FFA15A",
           "#19d3f3",
           "#FF6692",
           "#B6E880",
           "#FF97FF",
           "#FECB52"
          ],
          "font": {
           "color": "#2a3f5f"
          },
          "geo": {
           "bgcolor": "white",
           "lakecolor": "white",
           "landcolor": "#E5ECF6",
           "showlakes": true,
           "showland": true,
           "subunitcolor": "white"
          },
          "hoverlabel": {
           "align": "left"
          },
          "hovermode": "closest",
          "mapbox": {
           "style": "light"
          },
          "paper_bgcolor": "white",
          "plot_bgcolor": "#E5ECF6",
          "polar": {
           "angularaxis": {
            "gridcolor": "white",
            "linecolor": "white",
            "ticks": ""
           },
           "bgcolor": "#E5ECF6",
           "radialaxis": {
            "gridcolor": "white",
            "linecolor": "white",
            "ticks": ""
           }
          },
          "scene": {
           "xaxis": {
            "backgroundcolor": "#E5ECF6",
            "gridcolor": "white",
            "gridwidth": 2,
            "linecolor": "white",
            "showbackground": true,
            "ticks": "",
            "zerolinecolor": "white"
           },
           "yaxis": {
            "backgroundcolor": "#E5ECF6",
            "gridcolor": "white",
            "gridwidth": 2,
            "linecolor": "white",
            "showbackground": true,
            "ticks": "",
            "zerolinecolor": "white"
           },
           "zaxis": {
            "backgroundcolor": "#E5ECF6",
            "gridcolor": "white",
            "gridwidth": 2,
            "linecolor": "white",
            "showbackground": true,
            "ticks": "",
            "zerolinecolor": "white"
           }
          },
          "shapedefaults": {
           "line": {
            "color": "#2a3f5f"
           }
          },
          "ternary": {
           "aaxis": {
            "gridcolor": "white",
            "linecolor": "white",
            "ticks": ""
           },
           "baxis": {
            "gridcolor": "white",
            "linecolor": "white",
            "ticks": ""
           },
           "bgcolor": "#E5ECF6",
           "caxis": {
            "gridcolor": "white",
            "linecolor": "white",
            "ticks": ""
           }
          },
          "title": {
           "x": 0.05
          },
          "xaxis": {
           "automargin": true,
           "gridcolor": "white",
           "linecolor": "white",
           "ticks": "",
           "title": {
            "standoff": 15
           },
           "zerolinecolor": "white",
           "zerolinewidth": 2
          },
          "yaxis": {
           "automargin": true,
           "gridcolor": "white",
           "linecolor": "white",
           "ticks": "",
           "title": {
            "standoff": 15
           },
           "zerolinecolor": "white",
           "zerolinewidth": 2
          }
         }
        },
        "title": {
         "text": "Classificação dos tweets com a #ELeicao2022"
        },
        "xaxis": {
         "anchor": "y",
         "domain": [
          0,
          1
         ],
         "title": {
          "text": "x"
         }
        },
        "yaxis": {
         "anchor": "x",
         "domain": [
          0,
          1
         ],
         "title": {
          "text": "y"
         }
        }
       }
      }
     },
     "metadata": {},
     "output_type": "display_data"
    }
   ],
   "source": [
    "import plotly.express as px\n",
    "fig = px.bar(x = tweets_predicao[\"Classificacao\"].value_counts().index, \n",
    "             y = tweets_predicao[\"Classificacao\"].value_counts().values,\n",
    "             title = \"Classificação dos tweets com a #ELeicao2022\")\n",
    "fig.show()"
   ]
  },
  {
   "cell_type": "code",
   "execution_count": null,
   "metadata": {},
   "outputs": [],
   "source": []
  }
 ],
 "metadata": {
  "kernelspec": {
   "display_name": "Python 3.10.5 64-bit",
   "language": "python",
   "name": "python3"
  },
  "language_info": {
   "codemirror_mode": {
    "name": "ipython",
    "version": 3
   },
   "file_extension": ".py",
   "mimetype": "text/x-python",
   "name": "python",
   "nbconvert_exporter": "python",
   "pygments_lexer": "ipython3",
   "version": "3.10.5"
  },
  "orig_nbformat": 4,
  "vscode": {
   "interpreter": {
    "hash": "3e680e901da43b1ff7896a65bb9fdc0d88fdcb475def19e54fa2d4ad7c5b5275"
   }
  }
 },
 "nbformat": 4,
 "nbformat_minor": 2
}
